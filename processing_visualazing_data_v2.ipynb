{
 "cells": [
  {
   "cell_type": "code",
   "execution_count": 2,
   "metadata": {},
   "outputs": [],
   "source": [
    "import pandas as pd\n",
    "import numpy as np\n",
    "df = pd.read_excel('BCI_review_mental_states.xlsx')\n",
    "glossary = pd.read_excel('BCI_review_mental_states.xlsx', sheet_name='Sheet2')"
   ]
  },
  {
   "cell_type": "code",
   "execution_count": 3,
   "metadata": {},
   "outputs": [
    {
     "name": "stderr",
     "output_type": "stream",
     "text": [
      "C:\\Users\\JaimeAndresRiascosSa\\AppData\\Local\\Temp\\ipykernel_21572\\2165396975.py:1: FutureWarning: DataFrame.applymap has been deprecated. Use DataFrame.map instead.\n",
      "  rp_data=df.iloc[:,0:13].applymap(lambda x : str(x).strip().upper())\n",
      "C:\\Users\\JaimeAndresRiascosSa\\AppData\\Local\\Temp\\ipykernel_21572\\2165396975.py:2: FutureWarning: DataFrame.applymap has been deprecated. Use DataFrame.map instead.\n",
      "  glossary=glossary.applymap(lambda x : str(x).strip().upper())\n"
     ]
    }
   ],
   "source": [
    "rp_data=df.iloc[:,0:13].applymap(lambda x : str(x).strip().upper())\n",
    "glossary=glossary.applymap(lambda x : str(x).strip().upper())\n"
   ]
  },
  {
   "cell_type": "code",
   "execution_count": 4,
   "metadata": {},
   "outputs": [
    {
     "data": {
      "text/html": [
       "<div>\n",
       "<style scoped>\n",
       "    .dataframe tbody tr th:only-of-type {\n",
       "        vertical-align: middle;\n",
       "    }\n",
       "\n",
       "    .dataframe tbody tr th {\n",
       "        vertical-align: top;\n",
       "    }\n",
       "\n",
       "    .dataframe thead th {\n",
       "        text-align: right;\n",
       "    }\n",
       "</style>\n",
       "<table border=\"1\" class=\"dataframe\">\n",
       "  <thead>\n",
       "    <tr style=\"text-align: right;\">\n",
       "      <th></th>\n",
       "      <th>Geometry-based classifiers</th>\n",
       "      <th>Probability-based classifiers</th>\n",
       "      <th>Neural network-based classifiers</th>\n",
       "      <th>Ensemble-based classifiers</th>\n",
       "      <th>Other classifiers</th>\n",
       "      <th>EEG Paradigm</th>\n",
       "      <th>Temporal Features</th>\n",
       "      <th>Spectral Features</th>\n",
       "      <th>Spatial Features</th>\n",
       "      <th>Information Theory Features</th>\n",
       "      <th>Statistical Features</th>\n",
       "      <th>Other Features</th>\n",
       "      <th>Features Extraction Methods</th>\n",
       "    </tr>\n",
       "  </thead>\n",
       "  <tbody>\n",
       "    <tr>\n",
       "      <th>0</th>\n",
       "      <td>KNN</td>\n",
       "      <td>NB</td>\n",
       "      <td>CNN</td>\n",
       "      <td>RF</td>\n",
       "      <td>AMGLVQ</td>\n",
       "      <td>RAW EEG</td>\n",
       "      <td>STANDARD DEVIATION</td>\n",
       "      <td>ABSOLUTE POWER</td>\n",
       "      <td>COHERENCE</td>\n",
       "      <td>SHANNON ENTROPY</td>\n",
       "      <td>MEAN</td>\n",
       "      <td>GABOR FILTERS</td>\n",
       "      <td>PRINCIPAL COMPONENT ANALYSIS</td>\n",
       "    </tr>\n",
       "    <tr>\n",
       "      <th>1</th>\n",
       "      <td>KSVM</td>\n",
       "      <td>GNB</td>\n",
       "      <td>BLS</td>\n",
       "      <td>ENSEMBLE</td>\n",
       "      <td>TM</td>\n",
       "      <td>ERP</td>\n",
       "      <td>VARIANCE</td>\n",
       "      <td>RELATIVE POWER</td>\n",
       "      <td>PHASE SYNCHRONIZATION</td>\n",
       "      <td>DIFFERENTIAL ENTROPY</td>\n",
       "      <td>MEDIAN</td>\n",
       "      <td>PATCH EMBEDDING</td>\n",
       "      <td>INDEPENDENT COMPONENT ANALYSIS</td>\n",
       "    </tr>\n",
       "    <tr>\n",
       "      <th>2</th>\n",
       "      <td>SVM</td>\n",
       "      <td>LR</td>\n",
       "      <td>RNN</td>\n",
       "      <td>CEMAE</td>\n",
       "      <td>RULES</td>\n",
       "      <td>ERRP</td>\n",
       "      <td>KURTOSIS</td>\n",
       "      <td>POWER SPECTRAL DENSITY</td>\n",
       "      <td>PHASE-AMPLITUDE SYNCHRONIZATION</td>\n",
       "      <td>APPROXIMATE ENTROPY</td>\n",
       "      <td>MIN-MAX</td>\n",
       "      <td>WAVELET ENTROPY</td>\n",
       "      <td>AUTOENCODER</td>\n",
       "    </tr>\n",
       "    <tr>\n",
       "      <th>3</th>\n",
       "      <td>LS-SVM</td>\n",
       "      <td>BLDA</td>\n",
       "      <td>DBN</td>\n",
       "      <td>XGBOOST</td>\n",
       "      <td>ANFIS</td>\n",
       "      <td>P300</td>\n",
       "      <td>SKEWNESS</td>\n",
       "      <td>POWER BAND</td>\n",
       "      <td>AMPLITUDE SYNCHRONIZATION</td>\n",
       "      <td>SAMPLE ENTROPY</td>\n",
       "      <td>CARDINALITY</td>\n",
       "      <td>DETREND FLUCTUATION ANALYSIS</td>\n",
       "      <td>VARIATIONAL AUTOENCODER</td>\n",
       "    </tr>\n",
       "    <tr>\n",
       "      <th>4</th>\n",
       "      <td>DT</td>\n",
       "      <td>LDA</td>\n",
       "      <td>MLP</td>\n",
       "      <td>GB</td>\n",
       "      <td>NaN</td>\n",
       "      <td>NAN</td>\n",
       "      <td>COEFFICIENT OF VARIATION</td>\n",
       "      <td>SPECTRAL ENERGY</td>\n",
       "      <td>CHANNEL CORRELATION IMAGES</td>\n",
       "      <td>FUZZY ENTROPY</td>\n",
       "      <td>QUANTILE</td>\n",
       "      <td>RANDOM FRACTAL DIMENSION</td>\n",
       "      <td>FUNCTIONAL SOURCE SEPARATION</td>\n",
       "    </tr>\n",
       "    <tr>\n",
       "      <th>5</th>\n",
       "      <td>LRCV</td>\n",
       "      <td>RLDA</td>\n",
       "      <td>ELM</td>\n",
       "      <td>ADABOOST</td>\n",
       "      <td>NaN</td>\n",
       "      <td>NAN</td>\n",
       "      <td>INTERQUARTILE RANGE</td>\n",
       "      <td>SPECTRAL CENTROID</td>\n",
       "      <td>DIFFERENTIAL ASYMMETRY</td>\n",
       "      <td>MULTI-SCALE SAMPLE ENTROPY</td>\n",
       "      <td>ENERGY</td>\n",
       "      <td>SPECTRAL DECREASE</td>\n",
       "      <td>EMPIRICAL MODE DECOMPOSITION</td>\n",
       "    </tr>\n",
       "    <tr>\n",
       "      <th>6</th>\n",
       "      <td>NaN</td>\n",
       "      <td>QDA</td>\n",
       "      <td>LSTM</td>\n",
       "      <td>NaN</td>\n",
       "      <td>NaN</td>\n",
       "      <td>NAN</td>\n",
       "      <td>FIRST ORDER DERIVATIVE</td>\n",
       "      <td>SPECTRAL SLOPE</td>\n",
       "      <td>DIFFERENTIAL CAUDALITY</td>\n",
       "      <td>PERMUTATION ENTROPY</td>\n",
       "      <td>AVERAGE POWER</td>\n",
       "      <td>SPECTRAL MASK</td>\n",
       "      <td>HILBERT TRANSFORM</td>\n",
       "    </tr>\n",
       "    <tr>\n",
       "      <th>7</th>\n",
       "      <td>NaN</td>\n",
       "      <td>NaN</td>\n",
       "      <td>BI-LSTM</td>\n",
       "      <td>NaN</td>\n",
       "      <td>NaN</td>\n",
       "      <td>NAN</td>\n",
       "      <td>SECOND ORDER DERIVATIVE</td>\n",
       "      <td>SPECTRAL SPREAD</td>\n",
       "      <td>CHANNEL ASYMMETRIES</td>\n",
       "      <td>RENYI ENTROPY</td>\n",
       "      <td>PEAK-TO-PEAK</td>\n",
       "      <td>NAN</td>\n",
       "      <td>FILTER BANK TANGENT SPATIAL CLASSIFIER</td>\n",
       "    </tr>\n",
       "    <tr>\n",
       "      <th>8</th>\n",
       "      <td>NaN</td>\n",
       "      <td>NaN</td>\n",
       "      <td>SNN</td>\n",
       "      <td>NaN</td>\n",
       "      <td>NaN</td>\n",
       "      <td>NAN</td>\n",
       "      <td>DIFFERENCE ABSOLUTE STANDARD DEVIATION VALUE</td>\n",
       "      <td>SPECTRAL FLATNESS</td>\n",
       "      <td>RATIONAL ASYMMETRY</td>\n",
       "      <td>MULTI-SCALE FUZZY ENTROPY</td>\n",
       "      <td>CREST FACTOR</td>\n",
       "      <td>NAN</td>\n",
       "      <td>XDAWN</td>\n",
       "    </tr>\n",
       "    <tr>\n",
       "      <th>9</th>\n",
       "      <td>NaN</td>\n",
       "      <td>NaN</td>\n",
       "      <td>CRNN</td>\n",
       "      <td>NaN</td>\n",
       "      <td>NaN</td>\n",
       "      <td>NAN</td>\n",
       "      <td>DIFFERENCE VARIANCE VALUE</td>\n",
       "      <td>SPECTRAL FLUX</td>\n",
       "      <td>FRONTAL ASYMMETRY INDEX</td>\n",
       "      <td>MULTI-SCALE PERMUTATION ENTROPY</td>\n",
       "      <td>SHAPE FACTOR</td>\n",
       "      <td>NAN</td>\n",
       "      <td>LONG-SHORT TERM MEMORY</td>\n",
       "    </tr>\n",
       "    <tr>\n",
       "      <th>10</th>\n",
       "      <td>NaN</td>\n",
       "      <td>NaN</td>\n",
       "      <td>SBELM</td>\n",
       "      <td>NaN</td>\n",
       "      <td>NaN</td>\n",
       "      <td>NAN</td>\n",
       "      <td>LINE LENGTH</td>\n",
       "      <td>SPECTRAL ENTROPY</td>\n",
       "      <td>FRONTAL ALPHA ASYMMETRY INDEX</td>\n",
       "      <td>ENTROPY</td>\n",
       "      <td>PULSE INDEX</td>\n",
       "      <td>NAN</td>\n",
       "      <td>CIRCULANT SINGULAR SPECTRUM ANALYSIS</td>\n",
       "    </tr>\n",
       "    <tr>\n",
       "      <th>11</th>\n",
       "      <td>NaN</td>\n",
       "      <td>NaN</td>\n",
       "      <td>HELM</td>\n",
       "      <td>NaN</td>\n",
       "      <td>NaN</td>\n",
       "      <td>NAN</td>\n",
       "      <td>ZERO-CROSSING RATE</td>\n",
       "      <td>SPECTRAL CREST</td>\n",
       "      <td>CLUSTERING COEFFICIENT</td>\n",
       "      <td>LOG ENERGY ENTROPY</td>\n",
       "      <td>RMS</td>\n",
       "      <td>NAN</td>\n",
       "      <td>FAST FOURIER TRANSFORM</td>\n",
       "    </tr>\n",
       "    <tr>\n",
       "      <th>12</th>\n",
       "      <td>NaN</td>\n",
       "      <td>NaN</td>\n",
       "      <td>NaN</td>\n",
       "      <td>NaN</td>\n",
       "      <td>NaN</td>\n",
       "      <td>NAN</td>\n",
       "      <td>ZERO-MEAN CROSSING RATE</td>\n",
       "      <td>SPECTRAL KURTOSIS</td>\n",
       "      <td>AVERAGE CLUSTERING COEFFICIENT</td>\n",
       "      <td>NAN</td>\n",
       "      <td>POWER SIGNAL</td>\n",
       "      <td>NAN</td>\n",
       "      <td>DISCRETE FAST FOURIER TRANSFORM</td>\n",
       "    </tr>\n",
       "    <tr>\n",
       "      <th>13</th>\n",
       "      <td>NaN</td>\n",
       "      <td>NaN</td>\n",
       "      <td>NaN</td>\n",
       "      <td>NaN</td>\n",
       "      <td>NaN</td>\n",
       "      <td>NAN</td>\n",
       "      <td>HJORTH ACTIVITY</td>\n",
       "      <td>SPECTRAL ROLLOFF POINT</td>\n",
       "      <td>NODE DEGREE</td>\n",
       "      <td>NAN</td>\n",
       "      <td>MEAN TEAGER ENERGY</td>\n",
       "      <td>NAN</td>\n",
       "      <td>SHORT-TIME FOURIER TRANSFORM</td>\n",
       "    </tr>\n",
       "    <tr>\n",
       "      <th>14</th>\n",
       "      <td>NaN</td>\n",
       "      <td>NaN</td>\n",
       "      <td>NaN</td>\n",
       "      <td>NaN</td>\n",
       "      <td>NaN</td>\n",
       "      <td>NAN</td>\n",
       "      <td>HJORTH COMPLEXITY</td>\n",
       "      <td>SPECTRAL SKEWNESS</td>\n",
       "      <td>BETWEENNESS CENTRALITY</td>\n",
       "      <td>NAN</td>\n",
       "      <td>MODIFIED MEAN ABSOLUTE VALUE</td>\n",
       "      <td>NAN</td>\n",
       "      <td>WELCH</td>\n",
       "    </tr>\n",
       "    <tr>\n",
       "      <th>15</th>\n",
       "      <td>NaN</td>\n",
       "      <td>NaN</td>\n",
       "      <td>NaN</td>\n",
       "      <td>NaN</td>\n",
       "      <td>NaN</td>\n",
       "      <td>NAN</td>\n",
       "      <td>HJORTH MOBILITY</td>\n",
       "      <td>WELCH POWER SPECTRUM</td>\n",
       "      <td>AVERAGE DEGREE CENTRALITY</td>\n",
       "      <td>NAN</td>\n",
       "      <td>NORMALIZED FIRST DIFFERENCE</td>\n",
       "      <td>NAN</td>\n",
       "      <td>PERIODOGRAM</td>\n",
       "    </tr>\n",
       "    <tr>\n",
       "      <th>16</th>\n",
       "      <td>NaN</td>\n",
       "      <td>NaN</td>\n",
       "      <td>NaN</td>\n",
       "      <td>NaN</td>\n",
       "      <td>NaN</td>\n",
       "      <td>NAN</td>\n",
       "      <td>HURTS</td>\n",
       "      <td>POWER RATIO</td>\n",
       "      <td>AVERAGE SHORTEST PATH LENGTH</td>\n",
       "      <td>NAN</td>\n",
       "      <td>NORMALIZED SECOND DIFFERENCE</td>\n",
       "      <td>NAN</td>\n",
       "      <td>CONTINUOS WAVELET TRANSFORM</td>\n",
       "    </tr>\n",
       "    <tr>\n",
       "      <th>17</th>\n",
       "      <td>NaN</td>\n",
       "      <td>NaN</td>\n",
       "      <td>NaN</td>\n",
       "      <td>NaN</td>\n",
       "      <td>NaN</td>\n",
       "      <td>NAN</td>\n",
       "      <td>ZERO-CROSSING AUTOCORRELATION</td>\n",
       "      <td>MAXIMUM ENTROPY</td>\n",
       "      <td>MODULARITY</td>\n",
       "      <td>NAN</td>\n",
       "      <td>PEAK COUNTS</td>\n",
       "      <td>NAN</td>\n",
       "      <td>DISCRETE WAVELET TRANSFORM</td>\n",
       "    </tr>\n",
       "    <tr>\n",
       "      <th>18</th>\n",
       "      <td>NaN</td>\n",
       "      <td>NaN</td>\n",
       "      <td>NaN</td>\n",
       "      <td>NaN</td>\n",
       "      <td>NaN</td>\n",
       "      <td>NAN</td>\n",
       "      <td>LATENCY-AMPLITUDE RATIO</td>\n",
       "      <td>POWER DIFFERENCE</td>\n",
       "      <td>TRANSITIVITY</td>\n",
       "      <td>NAN</td>\n",
       "      <td>SLOPE SIGN CHANGE</td>\n",
       "      <td>NAN</td>\n",
       "      <td>WAVELET PACKET TRANSFORM</td>\n",
       "    </tr>\n",
       "    <tr>\n",
       "      <th>19</th>\n",
       "      <td>NaN</td>\n",
       "      <td>NaN</td>\n",
       "      <td>NaN</td>\n",
       "      <td>NaN</td>\n",
       "      <td>NaN</td>\n",
       "      <td>NAN</td>\n",
       "      <td>LOG COEFFICIENT OF VARIATION</td>\n",
       "      <td>NAN</td>\n",
       "      <td>ASSORTATIVITY</td>\n",
       "      <td>NAN</td>\n",
       "      <td>THRESHOLD CROSSING</td>\n",
       "      <td>NAN</td>\n",
       "      <td>WAVELET TRANSFORM</td>\n",
       "    </tr>\n",
       "    <tr>\n",
       "      <th>20</th>\n",
       "      <td>NaN</td>\n",
       "      <td>NaN</td>\n",
       "      <td>NaN</td>\n",
       "      <td>NaN</td>\n",
       "      <td>NaN</td>\n",
       "      <td>NAN</td>\n",
       "      <td>RAW EEG</td>\n",
       "      <td>NAN</td>\n",
       "      <td>OPTIMAL COMMUNITY STRUCTURE</td>\n",
       "      <td>NAN</td>\n",
       "      <td>FRACTAL DIMENSION</td>\n",
       "      <td>NAN</td>\n",
       "      <td>NAN</td>\n",
       "    </tr>\n",
       "    <tr>\n",
       "      <th>21</th>\n",
       "      <td>NaN</td>\n",
       "      <td>NaN</td>\n",
       "      <td>NaN</td>\n",
       "      <td>NaN</td>\n",
       "      <td>NaN</td>\n",
       "      <td>NAN</td>\n",
       "      <td>LATENCY AMPLITUDE</td>\n",
       "      <td>NAN</td>\n",
       "      <td>COMMON SPATIAL PATTERNS</td>\n",
       "      <td>NAN</td>\n",
       "      <td>INFORMATION POTENTIAL</td>\n",
       "      <td>NAN</td>\n",
       "      <td>NAN</td>\n",
       "    </tr>\n",
       "    <tr>\n",
       "      <th>22</th>\n",
       "      <td>NaN</td>\n",
       "      <td>NaN</td>\n",
       "      <td>NaN</td>\n",
       "      <td>NaN</td>\n",
       "      <td>NaN</td>\n",
       "      <td>NAN</td>\n",
       "      <td>NAN</td>\n",
       "      <td>NAN</td>\n",
       "      <td>GLOBAL EFFICIENCY</td>\n",
       "      <td>NAN</td>\n",
       "      <td>FROBENIUS NORM</td>\n",
       "      <td>NAN</td>\n",
       "      <td>NAN</td>\n",
       "    </tr>\n",
       "    <tr>\n",
       "      <th>23</th>\n",
       "      <td>NaN</td>\n",
       "      <td>NaN</td>\n",
       "      <td>NaN</td>\n",
       "      <td>NaN</td>\n",
       "      <td>NaN</td>\n",
       "      <td>NAN</td>\n",
       "      <td>NAN</td>\n",
       "      <td>NAN</td>\n",
       "      <td>PHASE LOCKING VALUE</td>\n",
       "      <td>NAN</td>\n",
       "      <td>SPECTRAL NORM</td>\n",
       "      <td>NAN</td>\n",
       "      <td>NAN</td>\n",
       "    </tr>\n",
       "    <tr>\n",
       "      <th>24</th>\n",
       "      <td>NaN</td>\n",
       "      <td>NaN</td>\n",
       "      <td>NaN</td>\n",
       "      <td>NaN</td>\n",
       "      <td>NaN</td>\n",
       "      <td>NAN</td>\n",
       "      <td>NAN</td>\n",
       "      <td>NAN</td>\n",
       "      <td>AVERAGE DEGREE CONNECTIVITY</td>\n",
       "      <td>NAN</td>\n",
       "      <td>ABSOLUTE VALUE OF CUBE</td>\n",
       "      <td>NAN</td>\n",
       "      <td>NAN</td>\n",
       "    </tr>\n",
       "    <tr>\n",
       "      <th>25</th>\n",
       "      <td>NaN</td>\n",
       "      <td>NaN</td>\n",
       "      <td>NaN</td>\n",
       "      <td>NaN</td>\n",
       "      <td>NaN</td>\n",
       "      <td>NAN</td>\n",
       "      <td>NAN</td>\n",
       "      <td>NAN</td>\n",
       "      <td>LOG-EUCLIDEAN DISTANCE</td>\n",
       "      <td>NAN</td>\n",
       "      <td>ABSOLUTE VALUE OF SQUARE ROOT</td>\n",
       "      <td>NAN</td>\n",
       "      <td>NAN</td>\n",
       "    </tr>\n",
       "    <tr>\n",
       "      <th>26</th>\n",
       "      <td>NaN</td>\n",
       "      <td>NaN</td>\n",
       "      <td>NaN</td>\n",
       "      <td>NaN</td>\n",
       "      <td>NaN</td>\n",
       "      <td>NAN</td>\n",
       "      <td>NAN</td>\n",
       "      <td>NAN</td>\n",
       "      <td>SPATIAL MASK</td>\n",
       "      <td>NAN</td>\n",
       "      <td>NAN</td>\n",
       "      <td>NAN</td>\n",
       "      <td>NAN</td>\n",
       "    </tr>\n",
       "    <tr>\n",
       "      <th>27</th>\n",
       "      <td>NaN</td>\n",
       "      <td>NaN</td>\n",
       "      <td>NaN</td>\n",
       "      <td>NaN</td>\n",
       "      <td>NaN</td>\n",
       "      <td>NAN</td>\n",
       "      <td>NAN</td>\n",
       "      <td>NAN</td>\n",
       "      <td>FILTER BANK COMMON SPATIAL PATTERNS</td>\n",
       "      <td>NAN</td>\n",
       "      <td>NAN</td>\n",
       "      <td>NAN</td>\n",
       "      <td>NAN</td>\n",
       "    </tr>\n",
       "  </tbody>\n",
       "</table>\n",
       "</div>"
      ],
      "text/plain": [
       "   Geometry-based classifiers Probability-based classifiers  \\\n",
       "0                         KNN                            NB   \n",
       "1                        KSVM                           GNB   \n",
       "2                         SVM                            LR   \n",
       "3                      LS-SVM                          BLDA   \n",
       "4                          DT                           LDA   \n",
       "5                        LRCV                          RLDA   \n",
       "6                         NaN                           QDA   \n",
       "7                         NaN                           NaN   \n",
       "8                         NaN                           NaN   \n",
       "9                         NaN                           NaN   \n",
       "10                        NaN                           NaN   \n",
       "11                        NaN                           NaN   \n",
       "12                        NaN                           NaN   \n",
       "13                        NaN                           NaN   \n",
       "14                        NaN                           NaN   \n",
       "15                        NaN                           NaN   \n",
       "16                        NaN                           NaN   \n",
       "17                        NaN                           NaN   \n",
       "18                        NaN                           NaN   \n",
       "19                        NaN                           NaN   \n",
       "20                        NaN                           NaN   \n",
       "21                        NaN                           NaN   \n",
       "22                        NaN                           NaN   \n",
       "23                        NaN                           NaN   \n",
       "24                        NaN                           NaN   \n",
       "25                        NaN                           NaN   \n",
       "26                        NaN                           NaN   \n",
       "27                        NaN                           NaN   \n",
       "\n",
       "   Neural network-based classifiers Ensemble-based classifiers  \\\n",
       "0                               CNN                         RF   \n",
       "1                               BLS                   ENSEMBLE   \n",
       "2                               RNN                      CEMAE   \n",
       "3                               DBN                    XGBOOST   \n",
       "4                               MLP                         GB   \n",
       "5                               ELM                   ADABOOST   \n",
       "6                              LSTM                        NaN   \n",
       "7                           BI-LSTM                        NaN   \n",
       "8                               SNN                        NaN   \n",
       "9                              CRNN                        NaN   \n",
       "10                            SBELM                        NaN   \n",
       "11                             HELM                        NaN   \n",
       "12                              NaN                        NaN   \n",
       "13                              NaN                        NaN   \n",
       "14                              NaN                        NaN   \n",
       "15                              NaN                        NaN   \n",
       "16                              NaN                        NaN   \n",
       "17                              NaN                        NaN   \n",
       "18                              NaN                        NaN   \n",
       "19                              NaN                        NaN   \n",
       "20                              NaN                        NaN   \n",
       "21                              NaN                        NaN   \n",
       "22                              NaN                        NaN   \n",
       "23                              NaN                        NaN   \n",
       "24                              NaN                        NaN   \n",
       "25                              NaN                        NaN   \n",
       "26                              NaN                        NaN   \n",
       "27                              NaN                        NaN   \n",
       "\n",
       "   Other classifiers EEG Paradigm  \\\n",
       "0             AMGLVQ      RAW EEG   \n",
       "1                 TM          ERP   \n",
       "2              RULES         ERRP   \n",
       "3              ANFIS         P300   \n",
       "4                NaN          NAN   \n",
       "5                NaN          NAN   \n",
       "6                NaN          NAN   \n",
       "7                NaN          NAN   \n",
       "8                NaN          NAN   \n",
       "9                NaN          NAN   \n",
       "10               NaN          NAN   \n",
       "11               NaN          NAN   \n",
       "12               NaN          NAN   \n",
       "13               NaN          NAN   \n",
       "14               NaN          NAN   \n",
       "15               NaN          NAN   \n",
       "16               NaN          NAN   \n",
       "17               NaN          NAN   \n",
       "18               NaN          NAN   \n",
       "19               NaN          NAN   \n",
       "20               NaN          NAN   \n",
       "21               NaN          NAN   \n",
       "22               NaN          NAN   \n",
       "23               NaN          NAN   \n",
       "24               NaN          NAN   \n",
       "25               NaN          NAN   \n",
       "26               NaN          NAN   \n",
       "27               NaN          NAN   \n",
       "\n",
       "                               Temporal Features       Spectral Features  \\\n",
       "0                             STANDARD DEVIATION          ABSOLUTE POWER   \n",
       "1                                       VARIANCE          RELATIVE POWER   \n",
       "2                                       KURTOSIS  POWER SPECTRAL DENSITY   \n",
       "3                                       SKEWNESS              POWER BAND   \n",
       "4                       COEFFICIENT OF VARIATION         SPECTRAL ENERGY   \n",
       "5                            INTERQUARTILE RANGE       SPECTRAL CENTROID   \n",
       "6                         FIRST ORDER DERIVATIVE          SPECTRAL SLOPE   \n",
       "7                        SECOND ORDER DERIVATIVE         SPECTRAL SPREAD   \n",
       "8   DIFFERENCE ABSOLUTE STANDARD DEVIATION VALUE       SPECTRAL FLATNESS   \n",
       "9                      DIFFERENCE VARIANCE VALUE           SPECTRAL FLUX   \n",
       "10                                   LINE LENGTH        SPECTRAL ENTROPY   \n",
       "11                            ZERO-CROSSING RATE          SPECTRAL CREST   \n",
       "12                       ZERO-MEAN CROSSING RATE       SPECTRAL KURTOSIS   \n",
       "13                               HJORTH ACTIVITY  SPECTRAL ROLLOFF POINT   \n",
       "14                             HJORTH COMPLEXITY       SPECTRAL SKEWNESS   \n",
       "15                               HJORTH MOBILITY    WELCH POWER SPECTRUM   \n",
       "16                                         HURTS             POWER RATIO   \n",
       "17                 ZERO-CROSSING AUTOCORRELATION         MAXIMUM ENTROPY   \n",
       "18                       LATENCY-AMPLITUDE RATIO        POWER DIFFERENCE   \n",
       "19                  LOG COEFFICIENT OF VARIATION                     NAN   \n",
       "20                                       RAW EEG                     NAN   \n",
       "21                             LATENCY AMPLITUDE                     NAN   \n",
       "22                                           NAN                     NAN   \n",
       "23                                           NAN                     NAN   \n",
       "24                                           NAN                     NAN   \n",
       "25                                           NAN                     NAN   \n",
       "26                                           NAN                     NAN   \n",
       "27                                           NAN                     NAN   \n",
       "\n",
       "                       Spatial Features      Information Theory Features  \\\n",
       "0                             COHERENCE                  SHANNON ENTROPY   \n",
       "1                 PHASE SYNCHRONIZATION             DIFFERENTIAL ENTROPY   \n",
       "2       PHASE-AMPLITUDE SYNCHRONIZATION              APPROXIMATE ENTROPY   \n",
       "3             AMPLITUDE SYNCHRONIZATION                   SAMPLE ENTROPY   \n",
       "4            CHANNEL CORRELATION IMAGES                    FUZZY ENTROPY   \n",
       "5                DIFFERENTIAL ASYMMETRY       MULTI-SCALE SAMPLE ENTROPY   \n",
       "6                DIFFERENTIAL CAUDALITY              PERMUTATION ENTROPY   \n",
       "7                   CHANNEL ASYMMETRIES                    RENYI ENTROPY   \n",
       "8                    RATIONAL ASYMMETRY        MULTI-SCALE FUZZY ENTROPY   \n",
       "9               FRONTAL ASYMMETRY INDEX  MULTI-SCALE PERMUTATION ENTROPY   \n",
       "10        FRONTAL ALPHA ASYMMETRY INDEX                          ENTROPY   \n",
       "11               CLUSTERING COEFFICIENT               LOG ENERGY ENTROPY   \n",
       "12       AVERAGE CLUSTERING COEFFICIENT                              NAN   \n",
       "13                          NODE DEGREE                              NAN   \n",
       "14               BETWEENNESS CENTRALITY                              NAN   \n",
       "15            AVERAGE DEGREE CENTRALITY                              NAN   \n",
       "16         AVERAGE SHORTEST PATH LENGTH                              NAN   \n",
       "17                           MODULARITY                              NAN   \n",
       "18                         TRANSITIVITY                              NAN   \n",
       "19                        ASSORTATIVITY                              NAN   \n",
       "20          OPTIMAL COMMUNITY STRUCTURE                              NAN   \n",
       "21              COMMON SPATIAL PATTERNS                              NAN   \n",
       "22                    GLOBAL EFFICIENCY                              NAN   \n",
       "23                  PHASE LOCKING VALUE                              NAN   \n",
       "24          AVERAGE DEGREE CONNECTIVITY                              NAN   \n",
       "25               LOG-EUCLIDEAN DISTANCE                              NAN   \n",
       "26                         SPATIAL MASK                              NAN   \n",
       "27  FILTER BANK COMMON SPATIAL PATTERNS                              NAN   \n",
       "\n",
       "             Statistical Features                Other Features  \\\n",
       "0                            MEAN                 GABOR FILTERS   \n",
       "1                          MEDIAN               PATCH EMBEDDING   \n",
       "2                         MIN-MAX               WAVELET ENTROPY   \n",
       "3                     CARDINALITY  DETREND FLUCTUATION ANALYSIS   \n",
       "4                        QUANTILE      RANDOM FRACTAL DIMENSION   \n",
       "5                          ENERGY             SPECTRAL DECREASE   \n",
       "6                   AVERAGE POWER                 SPECTRAL MASK   \n",
       "7                    PEAK-TO-PEAK                           NAN   \n",
       "8                    CREST FACTOR                           NAN   \n",
       "9                    SHAPE FACTOR                           NAN   \n",
       "10                    PULSE INDEX                           NAN   \n",
       "11                            RMS                           NAN   \n",
       "12                   POWER SIGNAL                           NAN   \n",
       "13             MEAN TEAGER ENERGY                           NAN   \n",
       "14   MODIFIED MEAN ABSOLUTE VALUE                           NAN   \n",
       "15    NORMALIZED FIRST DIFFERENCE                           NAN   \n",
       "16   NORMALIZED SECOND DIFFERENCE                           NAN   \n",
       "17                    PEAK COUNTS                           NAN   \n",
       "18              SLOPE SIGN CHANGE                           NAN   \n",
       "19             THRESHOLD CROSSING                           NAN   \n",
       "20              FRACTAL DIMENSION                           NAN   \n",
       "21          INFORMATION POTENTIAL                           NAN   \n",
       "22                 FROBENIUS NORM                           NAN   \n",
       "23                  SPECTRAL NORM                           NAN   \n",
       "24         ABSOLUTE VALUE OF CUBE                           NAN   \n",
       "25  ABSOLUTE VALUE OF SQUARE ROOT                           NAN   \n",
       "26                            NAN                           NAN   \n",
       "27                            NAN                           NAN   \n",
       "\n",
       "               Features Extraction Methods  \n",
       "0             PRINCIPAL COMPONENT ANALYSIS  \n",
       "1           INDEPENDENT COMPONENT ANALYSIS  \n",
       "2                              AUTOENCODER  \n",
       "3                  VARIATIONAL AUTOENCODER  \n",
       "4             FUNCTIONAL SOURCE SEPARATION  \n",
       "5             EMPIRICAL MODE DECOMPOSITION  \n",
       "6                        HILBERT TRANSFORM  \n",
       "7   FILTER BANK TANGENT SPATIAL CLASSIFIER  \n",
       "8                                    XDAWN  \n",
       "9                   LONG-SHORT TERM MEMORY  \n",
       "10    CIRCULANT SINGULAR SPECTRUM ANALYSIS  \n",
       "11                  FAST FOURIER TRANSFORM  \n",
       "12         DISCRETE FAST FOURIER TRANSFORM  \n",
       "13            SHORT-TIME FOURIER TRANSFORM  \n",
       "14                                   WELCH  \n",
       "15                             PERIODOGRAM  \n",
       "16             CONTINUOS WAVELET TRANSFORM  \n",
       "17              DISCRETE WAVELET TRANSFORM  \n",
       "18                WAVELET PACKET TRANSFORM  \n",
       "19                       WAVELET TRANSFORM  \n",
       "20                                     NAN  \n",
       "21                                     NAN  \n",
       "22                                     NAN  \n",
       "23                                     NAN  \n",
       "24                                     NAN  \n",
       "25                                     NAN  \n",
       "26                                     NAN  \n",
       "27                                     NAN  "
      ]
     },
     "execution_count": 4,
     "metadata": {},
     "output_type": "execute_result"
    }
   ],
   "source": [
    "for col_name, col_data in glossary.iloc[:,0:5].items():\n",
    "    glossary[col_name]= col_data.str.extract(r'\\((.*)\\)')\n",
    "    #j[ind1,ind2]\n",
    "glossary"
   ]
  },
  {
   "cell_type": "code",
   "execution_count": 5,
   "metadata": {},
   "outputs": [],
   "source": [
    "def extracting_data_lists(column):\n",
    "    values= []\n",
    "    for i in column.values:\n",
    "        if i.find(';')== -1:\n",
    "            for j in i.split(','):\n",
    "                if j!='' and j!='NAN':\n",
    "                    if j.find('(') != -1:\n",
    "                        values.append(j[0:j.find('(')].strip())\n",
    "                    else:\n",
    "                        values.append(j.strip())\n",
    "        else:\n",
    "            for j in i.split(';'):\n",
    "                    if j!='' and j!='NAN':\n",
    "                        values.append(j.strip())\n",
    "    return values\n",
    "\n",
    "def extracting_class_feat_acc (class_series, acc_series, feat_series):\n",
    "    classifiers=[]\n",
    "    features = []\n",
    "    accuracies = []\n",
    "    for i,j,k in zip (class_series, acc_series, feat_series):\n",
    "        for class_acc in range(len(i.split(','))):\n",
    "            for feature in k.split(','):\n",
    "                classifiers.append(i.split(',')[class_acc].strip())\n",
    "                accuracies.append(j.split(',')[class_acc].strip())\n",
    "                if feature.find('(') != -1:\n",
    "                        features.append(feature[0:feature.find('(')].strip())\n",
    "                else:\n",
    "                        features.append(feature.strip())\n",
    "    return pd.DataFrame({'classifiers': classifiers, 'features':features, 'acc':accuracies})\n",
    "\n",
    "\n",
    "    "
   ]
  },
  {
   "cell_type": "code",
   "execution_count": 6,
   "metadata": {},
   "outputs": [],
   "source": [
    "classifiers =  extracting_data_lists(rp_data.Classifier)\n",
    "features = extracting_data_lists(rp_data.Features)\n",
    "acc = extracting_data_lists(rp_data.Accuracies)\n",
    "class_feat_acc = extracting_class_feat_acc(rp_data.Classifier, rp_data.Accuracies, rp_data.Features)\n",
    "class_feat_acc.acc = class_feat_acc.acc.astype(float)\n"
   ]
  },
  {
   "cell_type": "code",
   "execution_count": 7,
   "metadata": {},
   "outputs": [
    {
     "data": {
      "text/html": [
       "<div>\n",
       "<style scoped>\n",
       "    .dataframe tbody tr th:only-of-type {\n",
       "        vertical-align: middle;\n",
       "    }\n",
       "\n",
       "    .dataframe tbody tr th {\n",
       "        vertical-align: top;\n",
       "    }\n",
       "\n",
       "    .dataframe thead th {\n",
       "        text-align: right;\n",
       "    }\n",
       "</style>\n",
       "<table border=\"1\" class=\"dataframe\">\n",
       "  <thead>\n",
       "    <tr style=\"text-align: right;\">\n",
       "      <th></th>\n",
       "      <th>classifiers</th>\n",
       "      <th>acc</th>\n",
       "    </tr>\n",
       "  </thead>\n",
       "  <tbody>\n",
       "    <tr>\n",
       "      <th>0</th>\n",
       "      <td>DT</td>\n",
       "      <td>0.90</td>\n",
       "    </tr>\n",
       "    <tr>\n",
       "      <th>1</th>\n",
       "      <td>LDA</td>\n",
       "      <td>0.70</td>\n",
       "    </tr>\n",
       "    <tr>\n",
       "      <th>2</th>\n",
       "      <td>QDA</td>\n",
       "      <td>0.81</td>\n",
       "    </tr>\n",
       "    <tr>\n",
       "      <th>3</th>\n",
       "      <td>ENSEMBLE</td>\n",
       "      <td>0.67</td>\n",
       "    </tr>\n",
       "    <tr>\n",
       "      <th>4</th>\n",
       "      <td>LR</td>\n",
       "      <td>0.70</td>\n",
       "    </tr>\n",
       "    <tr>\n",
       "      <th>...</th>\n",
       "      <td>...</td>\n",
       "      <td>...</td>\n",
       "    </tr>\n",
       "    <tr>\n",
       "      <th>181</th>\n",
       "      <td>CNN</td>\n",
       "      <td>0.83</td>\n",
       "    </tr>\n",
       "    <tr>\n",
       "      <th>182</th>\n",
       "      <td>CNN</td>\n",
       "      <td>0.98</td>\n",
       "    </tr>\n",
       "    <tr>\n",
       "      <th>183</th>\n",
       "      <td>RF</td>\n",
       "      <td>0.65</td>\n",
       "    </tr>\n",
       "    <tr>\n",
       "      <th>184</th>\n",
       "      <td>BT</td>\n",
       "      <td>0.66</td>\n",
       "    </tr>\n",
       "    <tr>\n",
       "      <th>185</th>\n",
       "      <td>ANFIS</td>\n",
       "      <td>0.90</td>\n",
       "    </tr>\n",
       "  </tbody>\n",
       "</table>\n",
       "<p>186 rows × 2 columns</p>\n",
       "</div>"
      ],
      "text/plain": [
       "    classifiers   acc\n",
       "0            DT  0.90\n",
       "1           LDA  0.70\n",
       "2           QDA  0.81\n",
       "3      ENSEMBLE  0.67\n",
       "4            LR  0.70\n",
       "..          ...   ...\n",
       "181         CNN  0.83\n",
       "182         CNN  0.98\n",
       "183          RF  0.65\n",
       "184          BT  0.66\n",
       "185       ANFIS  0.90\n",
       "\n",
       "[186 rows x 2 columns]"
      ]
     },
     "execution_count": 7,
     "metadata": {},
     "output_type": "execute_result"
    }
   ],
   "source": [
    "#accuracies models\n",
    "\n",
    "df_acc = pd.DataFrame({'classifiers': classifiers, 'acc':acc})\n",
    "df_acc.acc= df_acc.acc.astype(float)\n",
    "df_acc\n"
   ]
  },
  {
   "cell_type": "code",
   "execution_count": 8,
   "metadata": {},
   "outputs": [],
   "source": [
    "#classifiers\n",
    "dic_class=glossary.iloc[:,0:5].to_dict()\n",
    "for key in dic_class:\n",
    "    dic_class[key]=[]\n",
    "for classifier in classifiers:\n",
    "    cols = dic_class.keys()\n",
    "    for col in cols:\n",
    "        if classifier in glossary[col].values: \n",
    "            dic_class[col].append(classifier)\n"
   ]
  },
  {
   "cell_type": "code",
   "execution_count": 9,
   "metadata": {},
   "outputs": [
    {
     "data": {
      "text/html": [
       "<div>\n",
       "<style scoped>\n",
       "    .dataframe tbody tr th:only-of-type {\n",
       "        vertical-align: middle;\n",
       "    }\n",
       "\n",
       "    .dataframe tbody tr th {\n",
       "        vertical-align: top;\n",
       "    }\n",
       "\n",
       "    .dataframe thead th {\n",
       "        text-align: right;\n",
       "    }\n",
       "</style>\n",
       "<table border=\"1\" class=\"dataframe\">\n",
       "  <thead>\n",
       "    <tr style=\"text-align: right;\">\n",
       "      <th></th>\n",
       "      <th>Geometry-based classifiers</th>\n",
       "      <th>Probability-based classifiers</th>\n",
       "      <th>Neural network-based classifiers</th>\n",
       "      <th>Ensemble-based classifiers</th>\n",
       "      <th>Other classifiers</th>\n",
       "    </tr>\n",
       "  </thead>\n",
       "  <tbody>\n",
       "    <tr>\n",
       "      <th>0</th>\n",
       "      <td>DT</td>\n",
       "      <td>LDA</td>\n",
       "      <td>MLP</td>\n",
       "      <td>ENSEMBLE</td>\n",
       "      <td>ANFIS</td>\n",
       "    </tr>\n",
       "    <tr>\n",
       "      <th>1</th>\n",
       "      <td>SVM</td>\n",
       "      <td>QDA</td>\n",
       "      <td>MLP</td>\n",
       "      <td>RF</td>\n",
       "      <td>AMGLVQ</td>\n",
       "    </tr>\n",
       "    <tr>\n",
       "      <th>2</th>\n",
       "      <td>KSVM</td>\n",
       "      <td>LR</td>\n",
       "      <td>MLP</td>\n",
       "      <td>XGBOOST</td>\n",
       "      <td>TM</td>\n",
       "    </tr>\n",
       "    <tr>\n",
       "      <th>3</th>\n",
       "      <td>KNN</td>\n",
       "      <td>NB</td>\n",
       "      <td>CNN</td>\n",
       "      <td>RF</td>\n",
       "      <td>RULES</td>\n",
       "    </tr>\n",
       "    <tr>\n",
       "      <th>4</th>\n",
       "      <td>SVM</td>\n",
       "      <td>LR</td>\n",
       "      <td>BLS</td>\n",
       "      <td>RF</td>\n",
       "      <td>ANFIS</td>\n",
       "    </tr>\n",
       "    <tr>\n",
       "      <th>...</th>\n",
       "      <td>...</td>\n",
       "      <td>...</td>\n",
       "      <td>...</td>\n",
       "      <td>...</td>\n",
       "      <td>...</td>\n",
       "    </tr>\n",
       "    <tr>\n",
       "      <th>62</th>\n",
       "      <td>KNN</td>\n",
       "      <td>NaN</td>\n",
       "      <td>NaN</td>\n",
       "      <td>NaN</td>\n",
       "      <td>NaN</td>\n",
       "    </tr>\n",
       "    <tr>\n",
       "      <th>63</th>\n",
       "      <td>SVM</td>\n",
       "      <td>NaN</td>\n",
       "      <td>NaN</td>\n",
       "      <td>NaN</td>\n",
       "      <td>NaN</td>\n",
       "    </tr>\n",
       "    <tr>\n",
       "      <th>64</th>\n",
       "      <td>SVM</td>\n",
       "      <td>NaN</td>\n",
       "      <td>NaN</td>\n",
       "      <td>NaN</td>\n",
       "      <td>NaN</td>\n",
       "    </tr>\n",
       "    <tr>\n",
       "      <th>65</th>\n",
       "      <td>SVM</td>\n",
       "      <td>NaN</td>\n",
       "      <td>NaN</td>\n",
       "      <td>NaN</td>\n",
       "      <td>NaN</td>\n",
       "    </tr>\n",
       "    <tr>\n",
       "      <th>66</th>\n",
       "      <td>KNN</td>\n",
       "      <td>NaN</td>\n",
       "      <td>NaN</td>\n",
       "      <td>NaN</td>\n",
       "      <td>NaN</td>\n",
       "    </tr>\n",
       "  </tbody>\n",
       "</table>\n",
       "<p>67 rows × 5 columns</p>\n",
       "</div>"
      ],
      "text/plain": [
       "   Geometry-based classifiers Probability-based classifiers  \\\n",
       "0                          DT                           LDA   \n",
       "1                         SVM                           QDA   \n",
       "2                        KSVM                            LR   \n",
       "3                         KNN                            NB   \n",
       "4                         SVM                            LR   \n",
       "..                        ...                           ...   \n",
       "62                        KNN                           NaN   \n",
       "63                        SVM                           NaN   \n",
       "64                        SVM                           NaN   \n",
       "65                        SVM                           NaN   \n",
       "66                        KNN                           NaN   \n",
       "\n",
       "   Neural network-based classifiers Ensemble-based classifiers  \\\n",
       "0                               MLP                   ENSEMBLE   \n",
       "1                               MLP                         RF   \n",
       "2                               MLP                    XGBOOST   \n",
       "3                               CNN                         RF   \n",
       "4                               BLS                         RF   \n",
       "..                              ...                        ...   \n",
       "62                              NaN                        NaN   \n",
       "63                              NaN                        NaN   \n",
       "64                              NaN                        NaN   \n",
       "65                              NaN                        NaN   \n",
       "66                              NaN                        NaN   \n",
       "\n",
       "   Other classifiers  \n",
       "0              ANFIS  \n",
       "1             AMGLVQ  \n",
       "2                 TM  \n",
       "3              RULES  \n",
       "4              ANFIS  \n",
       "..               ...  \n",
       "62               NaN  \n",
       "63               NaN  \n",
       "64               NaN  \n",
       "65               NaN  \n",
       "66               NaN  \n",
       "\n",
       "[67 rows x 5 columns]"
      ]
     },
     "execution_count": 9,
     "metadata": {},
     "output_type": "execute_result"
    }
   ],
   "source": [
    "max_length = max(len(lst) for lst in dic_class.values())\n",
    "for key, lst in dic_class.items():\n",
    "    dic_class[key] = lst + [np.nan] * (max_length - len(lst))\n",
    "\n",
    "df_class=pd.DataFrame(dic_class)\n",
    "df_class"
   ]
  },
  {
   "cell_type": "code",
   "execution_count": 10,
   "metadata": {},
   "outputs": [],
   "source": [
    "#features\n",
    "\n",
    "dic_feat=glossary.iloc[:,6:].to_dict()\n",
    "for key in dic_feat:\n",
    "    dic_feat[key]=[]\n",
    "for feature in features:\n",
    "    cols = dic_feat.keys()\n",
    "    for col in cols:\n",
    "        if feature in glossary[col].values: \n",
    "            dic_feat[col].append(feature)\n"
   ]
  },
  {
   "cell_type": "code",
   "execution_count": 11,
   "metadata": {},
   "outputs": [
    {
     "data": {
      "text/html": [
       "<div>\n",
       "<style scoped>\n",
       "    .dataframe tbody tr th:only-of-type {\n",
       "        vertical-align: middle;\n",
       "    }\n",
       "\n",
       "    .dataframe tbody tr th {\n",
       "        vertical-align: top;\n",
       "    }\n",
       "\n",
       "    .dataframe thead th {\n",
       "        text-align: right;\n",
       "    }\n",
       "</style>\n",
       "<table border=\"1\" class=\"dataframe\">\n",
       "  <thead>\n",
       "    <tr style=\"text-align: right;\">\n",
       "      <th></th>\n",
       "      <th>Temporal Features</th>\n",
       "      <th>Spectral Features</th>\n",
       "      <th>Spatial Features</th>\n",
       "      <th>Information Theory Features</th>\n",
       "      <th>Statistical Features</th>\n",
       "      <th>Other Features</th>\n",
       "      <th>Features Extraction Methods</th>\n",
       "    </tr>\n",
       "  </thead>\n",
       "  <tbody>\n",
       "    <tr>\n",
       "      <th>0</th>\n",
       "      <td>LATENCY-AMPLITUDE RATIO</td>\n",
       "      <td>MAXIMUM ENTROPY</td>\n",
       "      <td>FILTER BANK COMMON SPATIAL PATTERNS</td>\n",
       "      <td>APPROXIMATE ENTROPY</td>\n",
       "      <td>ENERGY</td>\n",
       "      <td>GABOR FILTERS</td>\n",
       "      <td>DISCRETE WAVELET TRANSFORM</td>\n",
       "    </tr>\n",
       "    <tr>\n",
       "      <th>1</th>\n",
       "      <td>KURTOSIS</td>\n",
       "      <td>POWER BAND</td>\n",
       "      <td>CHANNEL CORRELATION IMAGES</td>\n",
       "      <td>ENTROPY</td>\n",
       "      <td>MIN-MAX</td>\n",
       "      <td>SPECTRAL MASK</td>\n",
       "      <td>EMPIRICAL MODE DECOMPOSITION</td>\n",
       "    </tr>\n",
       "    <tr>\n",
       "      <th>2</th>\n",
       "      <td>HJORTH MOBILITY</td>\n",
       "      <td>POWER SPECTRAL DENSITY</td>\n",
       "      <td>DIFFERENTIAL ASYMMETRY</td>\n",
       "      <td>DIFFERENTIAL ENTROPY</td>\n",
       "      <td>POWER SIGNAL</td>\n",
       "      <td>WAVELET ENTROPY</td>\n",
       "      <td>SHORT-TIME FOURIER TRANSFORM</td>\n",
       "    </tr>\n",
       "    <tr>\n",
       "      <th>3</th>\n",
       "      <td>HJORTH COMPLEXITY</td>\n",
       "      <td>POWER BAND</td>\n",
       "      <td>RATIONAL ASYMMETRY</td>\n",
       "      <td>DIFFERENTIAL ENTROPY</td>\n",
       "      <td>MEAN</td>\n",
       "      <td>PATCH EMBEDDING</td>\n",
       "      <td>FILTER BANK TANGENT SPATIAL CLASSIFIER</td>\n",
       "    </tr>\n",
       "    <tr>\n",
       "      <th>4</th>\n",
       "      <td>RAW EEG</td>\n",
       "      <td>POWER SPECTRAL DENSITY</td>\n",
       "      <td>DIFFERENTIAL CAUDALITY</td>\n",
       "      <td>DIFFERENTIAL ENTROPY</td>\n",
       "      <td>FRACTAL DIMENSION</td>\n",
       "      <td>DETREND FLUCTUATION ANALYSIS</td>\n",
       "      <td>WAVELET PACKET TRANSFORM</td>\n",
       "    </tr>\n",
       "    <tr>\n",
       "      <th>...</th>\n",
       "      <td>...</td>\n",
       "      <td>...</td>\n",
       "      <td>...</td>\n",
       "      <td>...</td>\n",
       "      <td>...</td>\n",
       "      <td>...</td>\n",
       "      <td>...</td>\n",
       "    </tr>\n",
       "    <tr>\n",
       "      <th>71</th>\n",
       "      <td>ZERO-CROSSING AUTOCORRELATION</td>\n",
       "      <td>NaN</td>\n",
       "      <td>NaN</td>\n",
       "      <td>NaN</td>\n",
       "      <td>NaN</td>\n",
       "      <td>NaN</td>\n",
       "      <td>NaN</td>\n",
       "    </tr>\n",
       "    <tr>\n",
       "      <th>72</th>\n",
       "      <td>LATENCY AMPLITUDE</td>\n",
       "      <td>NaN</td>\n",
       "      <td>NaN</td>\n",
       "      <td>NaN</td>\n",
       "      <td>NaN</td>\n",
       "      <td>NaN</td>\n",
       "      <td>NaN</td>\n",
       "    </tr>\n",
       "    <tr>\n",
       "      <th>73</th>\n",
       "      <td>RAW EEG</td>\n",
       "      <td>NaN</td>\n",
       "      <td>NaN</td>\n",
       "      <td>NaN</td>\n",
       "      <td>NaN</td>\n",
       "      <td>NaN</td>\n",
       "      <td>NaN</td>\n",
       "    </tr>\n",
       "    <tr>\n",
       "      <th>74</th>\n",
       "      <td>RAW EEG</td>\n",
       "      <td>NaN</td>\n",
       "      <td>NaN</td>\n",
       "      <td>NaN</td>\n",
       "      <td>NaN</td>\n",
       "      <td>NaN</td>\n",
       "      <td>NaN</td>\n",
       "    </tr>\n",
       "    <tr>\n",
       "      <th>75</th>\n",
       "      <td>RAW EEG</td>\n",
       "      <td>NaN</td>\n",
       "      <td>NaN</td>\n",
       "      <td>NaN</td>\n",
       "      <td>NaN</td>\n",
       "      <td>NaN</td>\n",
       "      <td>NaN</td>\n",
       "    </tr>\n",
       "  </tbody>\n",
       "</table>\n",
       "<p>76 rows × 7 columns</p>\n",
       "</div>"
      ],
      "text/plain": [
       "                Temporal Features       Spectral Features  \\\n",
       "0         LATENCY-AMPLITUDE RATIO         MAXIMUM ENTROPY   \n",
       "1                        KURTOSIS              POWER BAND   \n",
       "2                 HJORTH MOBILITY  POWER SPECTRAL DENSITY   \n",
       "3               HJORTH COMPLEXITY              POWER BAND   \n",
       "4                         RAW EEG  POWER SPECTRAL DENSITY   \n",
       "..                            ...                     ...   \n",
       "71  ZERO-CROSSING AUTOCORRELATION                     NaN   \n",
       "72              LATENCY AMPLITUDE                     NaN   \n",
       "73                        RAW EEG                     NaN   \n",
       "74                        RAW EEG                     NaN   \n",
       "75                        RAW EEG                     NaN   \n",
       "\n",
       "                       Spatial Features Information Theory Features  \\\n",
       "0   FILTER BANK COMMON SPATIAL PATTERNS         APPROXIMATE ENTROPY   \n",
       "1            CHANNEL CORRELATION IMAGES                     ENTROPY   \n",
       "2                DIFFERENTIAL ASYMMETRY        DIFFERENTIAL ENTROPY   \n",
       "3                    RATIONAL ASYMMETRY        DIFFERENTIAL ENTROPY   \n",
       "4                DIFFERENTIAL CAUDALITY        DIFFERENTIAL ENTROPY   \n",
       "..                                  ...                         ...   \n",
       "71                                  NaN                         NaN   \n",
       "72                                  NaN                         NaN   \n",
       "73                                  NaN                         NaN   \n",
       "74                                  NaN                         NaN   \n",
       "75                                  NaN                         NaN   \n",
       "\n",
       "   Statistical Features                Other Features  \\\n",
       "0                ENERGY                 GABOR FILTERS   \n",
       "1               MIN-MAX                 SPECTRAL MASK   \n",
       "2          POWER SIGNAL               WAVELET ENTROPY   \n",
       "3                  MEAN               PATCH EMBEDDING   \n",
       "4     FRACTAL DIMENSION  DETREND FLUCTUATION ANALYSIS   \n",
       "..                  ...                           ...   \n",
       "71                  NaN                           NaN   \n",
       "72                  NaN                           NaN   \n",
       "73                  NaN                           NaN   \n",
       "74                  NaN                           NaN   \n",
       "75                  NaN                           NaN   \n",
       "\n",
       "               Features Extraction Methods  \n",
       "0               DISCRETE WAVELET TRANSFORM  \n",
       "1             EMPIRICAL MODE DECOMPOSITION  \n",
       "2             SHORT-TIME FOURIER TRANSFORM  \n",
       "3   FILTER BANK TANGENT SPATIAL CLASSIFIER  \n",
       "4                 WAVELET PACKET TRANSFORM  \n",
       "..                                     ...  \n",
       "71                                     NaN  \n",
       "72                                     NaN  \n",
       "73                                     NaN  \n",
       "74                                     NaN  \n",
       "75                                     NaN  \n",
       "\n",
       "[76 rows x 7 columns]"
      ]
     },
     "execution_count": 11,
     "metadata": {},
     "output_type": "execute_result"
    }
   ],
   "source": [
    "max_length = max(len(lst) for lst in dic_feat.values())\n",
    "for key, lst in dic_feat.items():\n",
    "    dic_feat[key] = lst + [np.nan] * (max_length - len(lst))\n",
    "\n",
    "df_feat=pd.DataFrame(dic_feat)\n",
    "df_feat"
   ]
  },
  {
   "cell_type": "code",
   "execution_count": 12,
   "metadata": {},
   "outputs": [
    {
     "data": {
      "text/plain": [
       "RAW EEG    66\n",
       "P300        3\n",
       "ERRP        2\n",
       "ERP         1\n",
       "Name: count, dtype: int64"
      ]
     },
     "execution_count": 12,
     "metadata": {},
     "output_type": "execute_result"
    }
   ],
   "source": [
    "#paradigms\n",
    "paradigms =  extracting_data_lists(rp_data.Paradigm)\n",
    "pd.Series(paradigms).value_counts()\n"
   ]
  },
  {
   "cell_type": "code",
   "execution_count": 13,
   "metadata": {},
   "outputs": [
    {
     "data": {
      "text/plain": [
       "EMOTION LEVELS                  23\n",
       "VALENCE LEVELS                  19\n",
       "AROUSAL LEVELS                  18\n",
       "ATTENTION LEVELS                10\n",
       "DOMINANCE LEVELS                 6\n",
       "LIKING LEVELS                    5\n",
       "COGNITIVE LOAD LEVELS            4\n",
       "FATIGUE LEVELS                   4\n",
       "PREFERENCE LEVELS                2\n",
       "ERROR LEVELS                     2\n",
       "FAMILIARITY LEVELS               2\n",
       "COMPREHENSION LEVELS             1\n",
       "COMPETENCY LEVELS                1\n",
       "CURIOSITY LEVELS                 1\n",
       "LEARNING LEVELS                  1\n",
       "STRESS LEVELS                    1\n",
       "DEMAND LEVELS                    1\n",
       "SOCIAL CONTEXT                   1\n",
       "SITUATIONAL AWARENESS LEVELS     1\n",
       "Name: count, dtype: int64"
      ]
     },
     "execution_count": 13,
     "metadata": {},
     "output_type": "execute_result"
    }
   ],
   "source": [
    "#classes levels\n",
    "import re\n",
    "classes = extracting_data_lists(rp_data.Classes)\n",
    "classes\n",
    "def extract_text_outside_parentheses(text):\n",
    "    match = re.search(r'^([^\\(]+)', text)\n",
    "    if match:\n",
    "        return match.group(1).strip()\n",
    "    return text\n",
    "\n",
    "classes_levels= pd.Series(classes).apply(extract_text_outside_parentheses)\n",
    "classes_levels.value_counts()\n",
    "\n",
    "\n"
   ]
  },
  {
   "cell_type": "code",
   "execution_count": null,
   "metadata": {},
   "outputs": [],
   "source": []
  },
  {
   "cell_type": "code",
   "execution_count": 14,
   "metadata": {},
   "outputs": [],
   "source": [
    "#emotion levels\n",
    "levels_df= pd.DataFrame({'levels':classes})\n",
    "levels_df.levels=levels_df.levels.str.extract(r'\\((.*)\\)')\n",
    "emotions=[]\n",
    "for i in levels_df.values.flatten():\n",
    "    if i != 'nan':\n",
    "        for j in str(i).split(','):\n",
    "\n",
    "            emotions.append(j.strip())\n",
    "emotions=pd.Series(emotions).replace({'HIGH':'POSITIVE', 'LOW':'NEGATIVE'})\n",
    "\n"
   ]
  },
  {
   "cell_type": "code",
   "execution_count": 26,
   "metadata": {},
   "outputs": [
    {
     "data": {
      "application/vnd.plotly.v1+json": {
       "config": {
        "plotlyServerURL": "https://plot.ly"
       },
       "data": [
        {
         "marker": {
          "color": "rgb(99, 110, 250)"
         },
         "orientation": "h",
         "type": "bar",
         "x": [
          73,
          73,
          16,
          8,
          7,
          7,
          6,
          4,
          4,
          3
         ],
         "xaxis": "x",
         "y": [
          "POSITIVE",
          "NEGATIVE",
          "NEUTRAL",
          "HAPPY",
          "DROWSING",
          "SAD",
          "FEAR",
          "ANGER",
          "ALERT",
          "AWAKE"
         ],
         "yaxis": "y"
        },
        {
         "marker": {
          "color": "rgb(99, 110, 250)"
         },
         "orientation": "h",
         "type": "bar",
         "x": [
          23,
          19,
          18,
          10,
          6,
          5,
          4,
          4,
          2,
          2
         ],
         "xaxis": "x2",
         "y": [
          "EMOTION LEVELS",
          "VALENCE LEVELS",
          "AROUSAL LEVELS",
          "ATTENTION LEVELS",
          "DOMINANCE LEVELS",
          "LIKING LEVELS",
          "COGNITIVE LOAD LEVELS",
          "FATIGUE LEVELS",
          "PREFERENCE LEVELS",
          "ERROR LEVELS"
         ],
         "yaxis": "y2"
        }
       ],
       "layout": {
        "showlegend": false,
        "template": {
         "data": {
          "bar": [
           {
            "error_x": {
             "color": "#2a3f5f"
            },
            "error_y": {
             "color": "#2a3f5f"
            },
            "marker": {
             "line": {
              "color": "#E5ECF6",
              "width": 0.5
             },
             "pattern": {
              "fillmode": "overlay",
              "size": 10,
              "solidity": 0.2
             }
            },
            "type": "bar"
           }
          ],
          "barpolar": [
           {
            "marker": {
             "line": {
              "color": "#E5ECF6",
              "width": 0.5
             },
             "pattern": {
              "fillmode": "overlay",
              "size": 10,
              "solidity": 0.2
             }
            },
            "type": "barpolar"
           }
          ],
          "carpet": [
           {
            "aaxis": {
             "endlinecolor": "#2a3f5f",
             "gridcolor": "white",
             "linecolor": "white",
             "minorgridcolor": "white",
             "startlinecolor": "#2a3f5f"
            },
            "baxis": {
             "endlinecolor": "#2a3f5f",
             "gridcolor": "white",
             "linecolor": "white",
             "minorgridcolor": "white",
             "startlinecolor": "#2a3f5f"
            },
            "type": "carpet"
           }
          ],
          "choropleth": [
           {
            "colorbar": {
             "outlinewidth": 0,
             "ticks": ""
            },
            "type": "choropleth"
           }
          ],
          "contour": [
           {
            "colorbar": {
             "outlinewidth": 0,
             "ticks": ""
            },
            "colorscale": [
             [
              0,
              "#0d0887"
             ],
             [
              0.1111111111111111,
              "#46039f"
             ],
             [
              0.2222222222222222,
              "#7201a8"
             ],
             [
              0.3333333333333333,
              "#9c179e"
             ],
             [
              0.4444444444444444,
              "#bd3786"
             ],
             [
              0.5555555555555556,
              "#d8576b"
             ],
             [
              0.6666666666666666,
              "#ed7953"
             ],
             [
              0.7777777777777778,
              "#fb9f3a"
             ],
             [
              0.8888888888888888,
              "#fdca26"
             ],
             [
              1,
              "#f0f921"
             ]
            ],
            "type": "contour"
           }
          ],
          "contourcarpet": [
           {
            "colorbar": {
             "outlinewidth": 0,
             "ticks": ""
            },
            "type": "contourcarpet"
           }
          ],
          "heatmap": [
           {
            "colorbar": {
             "outlinewidth": 0,
             "ticks": ""
            },
            "colorscale": [
             [
              0,
              "#0d0887"
             ],
             [
              0.1111111111111111,
              "#46039f"
             ],
             [
              0.2222222222222222,
              "#7201a8"
             ],
             [
              0.3333333333333333,
              "#9c179e"
             ],
             [
              0.4444444444444444,
              "#bd3786"
             ],
             [
              0.5555555555555556,
              "#d8576b"
             ],
             [
              0.6666666666666666,
              "#ed7953"
             ],
             [
              0.7777777777777778,
              "#fb9f3a"
             ],
             [
              0.8888888888888888,
              "#fdca26"
             ],
             [
              1,
              "#f0f921"
             ]
            ],
            "type": "heatmap"
           }
          ],
          "heatmapgl": [
           {
            "colorbar": {
             "outlinewidth": 0,
             "ticks": ""
            },
            "colorscale": [
             [
              0,
              "#0d0887"
             ],
             [
              0.1111111111111111,
              "#46039f"
             ],
             [
              0.2222222222222222,
              "#7201a8"
             ],
             [
              0.3333333333333333,
              "#9c179e"
             ],
             [
              0.4444444444444444,
              "#bd3786"
             ],
             [
              0.5555555555555556,
              "#d8576b"
             ],
             [
              0.6666666666666666,
              "#ed7953"
             ],
             [
              0.7777777777777778,
              "#fb9f3a"
             ],
             [
              0.8888888888888888,
              "#fdca26"
             ],
             [
              1,
              "#f0f921"
             ]
            ],
            "type": "heatmapgl"
           }
          ],
          "histogram": [
           {
            "marker": {
             "pattern": {
              "fillmode": "overlay",
              "size": 10,
              "solidity": 0.2
             }
            },
            "type": "histogram"
           }
          ],
          "histogram2d": [
           {
            "colorbar": {
             "outlinewidth": 0,
             "ticks": ""
            },
            "colorscale": [
             [
              0,
              "#0d0887"
             ],
             [
              0.1111111111111111,
              "#46039f"
             ],
             [
              0.2222222222222222,
              "#7201a8"
             ],
             [
              0.3333333333333333,
              "#9c179e"
             ],
             [
              0.4444444444444444,
              "#bd3786"
             ],
             [
              0.5555555555555556,
              "#d8576b"
             ],
             [
              0.6666666666666666,
              "#ed7953"
             ],
             [
              0.7777777777777778,
              "#fb9f3a"
             ],
             [
              0.8888888888888888,
              "#fdca26"
             ],
             [
              1,
              "#f0f921"
             ]
            ],
            "type": "histogram2d"
           }
          ],
          "histogram2dcontour": [
           {
            "colorbar": {
             "outlinewidth": 0,
             "ticks": ""
            },
            "colorscale": [
             [
              0,
              "#0d0887"
             ],
             [
              0.1111111111111111,
              "#46039f"
             ],
             [
              0.2222222222222222,
              "#7201a8"
             ],
             [
              0.3333333333333333,
              "#9c179e"
             ],
             [
              0.4444444444444444,
              "#bd3786"
             ],
             [
              0.5555555555555556,
              "#d8576b"
             ],
             [
              0.6666666666666666,
              "#ed7953"
             ],
             [
              0.7777777777777778,
              "#fb9f3a"
             ],
             [
              0.8888888888888888,
              "#fdca26"
             ],
             [
              1,
              "#f0f921"
             ]
            ],
            "type": "histogram2dcontour"
           }
          ],
          "mesh3d": [
           {
            "colorbar": {
             "outlinewidth": 0,
             "ticks": ""
            },
            "type": "mesh3d"
           }
          ],
          "parcoords": [
           {
            "line": {
             "colorbar": {
              "outlinewidth": 0,
              "ticks": ""
             }
            },
            "type": "parcoords"
           }
          ],
          "pie": [
           {
            "automargin": true,
            "type": "pie"
           }
          ],
          "scatter": [
           {
            "fillpattern": {
             "fillmode": "overlay",
             "size": 10,
             "solidity": 0.2
            },
            "type": "scatter"
           }
          ],
          "scatter3d": [
           {
            "line": {
             "colorbar": {
              "outlinewidth": 0,
              "ticks": ""
             }
            },
            "marker": {
             "colorbar": {
              "outlinewidth": 0,
              "ticks": ""
             }
            },
            "type": "scatter3d"
           }
          ],
          "scattercarpet": [
           {
            "marker": {
             "colorbar": {
              "outlinewidth": 0,
              "ticks": ""
             }
            },
            "type": "scattercarpet"
           }
          ],
          "scattergeo": [
           {
            "marker": {
             "colorbar": {
              "outlinewidth": 0,
              "ticks": ""
             }
            },
            "type": "scattergeo"
           }
          ],
          "scattergl": [
           {
            "marker": {
             "colorbar": {
              "outlinewidth": 0,
              "ticks": ""
             }
            },
            "type": "scattergl"
           }
          ],
          "scattermapbox": [
           {
            "marker": {
             "colorbar": {
              "outlinewidth": 0,
              "ticks": ""
             }
            },
            "type": "scattermapbox"
           }
          ],
          "scatterpolar": [
           {
            "marker": {
             "colorbar": {
              "outlinewidth": 0,
              "ticks": ""
             }
            },
            "type": "scatterpolar"
           }
          ],
          "scatterpolargl": [
           {
            "marker": {
             "colorbar": {
              "outlinewidth": 0,
              "ticks": ""
             }
            },
            "type": "scatterpolargl"
           }
          ],
          "scatterternary": [
           {
            "marker": {
             "colorbar": {
              "outlinewidth": 0,
              "ticks": ""
             }
            },
            "type": "scatterternary"
           }
          ],
          "surface": [
           {
            "colorbar": {
             "outlinewidth": 0,
             "ticks": ""
            },
            "colorscale": [
             [
              0,
              "#0d0887"
             ],
             [
              0.1111111111111111,
              "#46039f"
             ],
             [
              0.2222222222222222,
              "#7201a8"
             ],
             [
              0.3333333333333333,
              "#9c179e"
             ],
             [
              0.4444444444444444,
              "#bd3786"
             ],
             [
              0.5555555555555556,
              "#d8576b"
             ],
             [
              0.6666666666666666,
              "#ed7953"
             ],
             [
              0.7777777777777778,
              "#fb9f3a"
             ],
             [
              0.8888888888888888,
              "#fdca26"
             ],
             [
              1,
              "#f0f921"
             ]
            ],
            "type": "surface"
           }
          ],
          "table": [
           {
            "cells": {
             "fill": {
              "color": "#EBF0F8"
             },
             "line": {
              "color": "white"
             }
            },
            "header": {
             "fill": {
              "color": "#C8D4E3"
             },
             "line": {
              "color": "white"
             }
            },
            "type": "table"
           }
          ]
         },
         "layout": {
          "annotationdefaults": {
           "arrowcolor": "#2a3f5f",
           "arrowhead": 0,
           "arrowwidth": 1
          },
          "autotypenumbers": "strict",
          "coloraxis": {
           "colorbar": {
            "outlinewidth": 0,
            "ticks": ""
           }
          },
          "colorscale": {
           "diverging": [
            [
             0,
             "#8e0152"
            ],
            [
             0.1,
             "#c51b7d"
            ],
            [
             0.2,
             "#de77ae"
            ],
            [
             0.3,
             "#f1b6da"
            ],
            [
             0.4,
             "#fde0ef"
            ],
            [
             0.5,
             "#f7f7f7"
            ],
            [
             0.6,
             "#e6f5d0"
            ],
            [
             0.7,
             "#b8e186"
            ],
            [
             0.8,
             "#7fbc41"
            ],
            [
             0.9,
             "#4d9221"
            ],
            [
             1,
             "#276419"
            ]
           ],
           "sequential": [
            [
             0,
             "#0d0887"
            ],
            [
             0.1111111111111111,
             "#46039f"
            ],
            [
             0.2222222222222222,
             "#7201a8"
            ],
            [
             0.3333333333333333,
             "#9c179e"
            ],
            [
             0.4444444444444444,
             "#bd3786"
            ],
            [
             0.5555555555555556,
             "#d8576b"
            ],
            [
             0.6666666666666666,
             "#ed7953"
            ],
            [
             0.7777777777777778,
             "#fb9f3a"
            ],
            [
             0.8888888888888888,
             "#fdca26"
            ],
            [
             1,
             "#f0f921"
            ]
           ],
           "sequentialminus": [
            [
             0,
             "#0d0887"
            ],
            [
             0.1111111111111111,
             "#46039f"
            ],
            [
             0.2222222222222222,
             "#7201a8"
            ],
            [
             0.3333333333333333,
             "#9c179e"
            ],
            [
             0.4444444444444444,
             "#bd3786"
            ],
            [
             0.5555555555555556,
             "#d8576b"
            ],
            [
             0.6666666666666666,
             "#ed7953"
            ],
            [
             0.7777777777777778,
             "#fb9f3a"
            ],
            [
             0.8888888888888888,
             "#fdca26"
            ],
            [
             1,
             "#f0f921"
            ]
           ]
          },
          "colorway": [
           "#636efa",
           "#EF553B",
           "#00cc96",
           "#ab63fa",
           "#FFA15A",
           "#19d3f3",
           "#FF6692",
           "#B6E880",
           "#FF97FF",
           "#FECB52"
          ],
          "font": {
           "color": "#2a3f5f"
          },
          "geo": {
           "bgcolor": "white",
           "lakecolor": "white",
           "landcolor": "#E5ECF6",
           "showlakes": true,
           "showland": true,
           "subunitcolor": "white"
          },
          "hoverlabel": {
           "align": "left"
          },
          "hovermode": "closest",
          "mapbox": {
           "style": "light"
          },
          "paper_bgcolor": "white",
          "plot_bgcolor": "#E5ECF6",
          "polar": {
           "angularaxis": {
            "gridcolor": "white",
            "linecolor": "white",
            "ticks": ""
           },
           "bgcolor": "#E5ECF6",
           "radialaxis": {
            "gridcolor": "white",
            "linecolor": "white",
            "ticks": ""
           }
          },
          "scene": {
           "xaxis": {
            "backgroundcolor": "#E5ECF6",
            "gridcolor": "white",
            "gridwidth": 2,
            "linecolor": "white",
            "showbackground": true,
            "ticks": "",
            "zerolinecolor": "white"
           },
           "yaxis": {
            "backgroundcolor": "#E5ECF6",
            "gridcolor": "white",
            "gridwidth": 2,
            "linecolor": "white",
            "showbackground": true,
            "ticks": "",
            "zerolinecolor": "white"
           },
           "zaxis": {
            "backgroundcolor": "#E5ECF6",
            "gridcolor": "white",
            "gridwidth": 2,
            "linecolor": "white",
            "showbackground": true,
            "ticks": "",
            "zerolinecolor": "white"
           }
          },
          "shapedefaults": {
           "line": {
            "color": "#2a3f5f"
           }
          },
          "ternary": {
           "aaxis": {
            "gridcolor": "white",
            "linecolor": "white",
            "ticks": ""
           },
           "baxis": {
            "gridcolor": "white",
            "linecolor": "white",
            "ticks": ""
           },
           "bgcolor": "#E5ECF6",
           "caxis": {
            "gridcolor": "white",
            "linecolor": "white",
            "ticks": ""
           }
          },
          "title": {
           "x": 0.05
          },
          "xaxis": {
           "automargin": true,
           "gridcolor": "white",
           "linecolor": "white",
           "ticks": "",
           "title": {
            "standoff": 15
           },
           "zerolinecolor": "white",
           "zerolinewidth": 2
          },
          "yaxis": {
           "automargin": true,
           "gridcolor": "white",
           "linecolor": "white",
           "ticks": "",
           "title": {
            "standoff": 15
           },
           "zerolinecolor": "white",
           "zerolinewidth": 2
          }
         }
        },
        "xaxis": {
         "anchor": "y",
         "autorange": "reversed",
         "domain": [
          0,
          0.495
         ],
         "showgrid": false
        },
        "xaxis2": {
         "anchor": "y2",
         "domain": [
          0.505,
          1
         ],
         "showgrid": false
        },
        "yaxis": {
         "anchor": "x",
         "autorange": "reversed",
         "domain": [
          0,
          1
         ],
         "showgrid": false
        },
        "yaxis2": {
         "anchor": "x2",
         "autorange": "reversed",
         "domain": [
          0,
          1
         ],
         "showgrid": false,
         "side": "right"
        }
       }
      }
     },
     "metadata": {},
     "output_type": "display_data"
    }
   ],
   "source": [
    "import plotly.graph_objects as go\n",
    "from plotly.subplots import make_subplots\n",
    "\n",
    "emotion_plot =emotions.value_counts().reset_index()[:10]\n",
    "class_plot = classes_levels.value_counts().reset_index()[:10]\n",
    "fig = make_subplots(rows=1, cols=2, horizontal_spacing=0.01,)\n",
    "\n",
    "fig.add_trace(go.Bar(y=emotion_plot['index'], \n",
    "                     x=emotion_plot['count'],\n",
    "                     orientation='h',\n",
    "                     marker_color='rgb(99, 110, 250)'),  row=1, col=1)\n",
    "fig.add_trace(go.Bar(y=class_plot['index'], \n",
    "                     x=class_plot['count'],\n",
    "                     orientation='h',\n",
    "                     marker_color='rgb(99, 110, 250)'),  row=1, col=2)\n",
    "fig.update_xaxes(showgrid=False, autorange='reversed', row=1, col=1)\n",
    "fig.update_yaxes(showgrid=False, autorange='reversed')\n",
    "\n",
    "fig.update_yaxes(showgrid=False, side='right', row=1, col=2)\n",
    "fig.update_xaxes(showgrid=False, row=1, col=2)\n",
    "\n",
    "fig.update_layout(showlegend=False\n",
    ")\n",
    "\n",
    "#fig.update_yaxes({'categoryorder':'total ascending'})\n",
    "fig.show()\n",
    "\n",
    "#emotions.value_counts()\n",
    "#classes_levels.value_counts()\n"
   ]
  },
  {
   "cell_type": "code",
   "execution_count": 16,
   "metadata": {},
   "outputs": [
    {
     "data": {
      "text/plain": [
       "ALPHA    46\n",
       "BETA     45\n",
       "THETA    42\n",
       "GAMMA    42\n",
       "DELTA    32\n",
       "Name: count, dtype: int64"
      ]
     },
     "execution_count": 16,
     "metadata": {},
     "output_type": "execute_result"
    }
   ],
   "source": [
    "#bands\n",
    "frequencies = extracting_data_lists(rp_data.Frequencies)\n",
    "pd.Series(frequencies).value_counts()"
   ]
  },
  {
   "cell_type": "code",
   "execution_count": 17,
   "metadata": {},
   "outputs": [
    {
     "data": {
      "text/html": [
       "<div>\n",
       "<style scoped>\n",
       "    .dataframe tbody tr th:only-of-type {\n",
       "        vertical-align: middle;\n",
       "    }\n",
       "\n",
       "    .dataframe tbody tr th {\n",
       "        vertical-align: top;\n",
       "    }\n",
       "\n",
       "    .dataframe thead th {\n",
       "        text-align: right;\n",
       "    }\n",
       "</style>\n",
       "<table border=\"1\" class=\"dataframe\">\n",
       "  <thead>\n",
       "    <tr style=\"text-align: right;\">\n",
       "      <th></th>\n",
       "      <th>Category</th>\n",
       "      <th>Geometry-based classifiers</th>\n",
       "      <th>Probability-based classifiers</th>\n",
       "      <th>Neural network-based classifiers</th>\n",
       "      <th>Ensemble-based classifiers</th>\n",
       "      <th>Other classifiers</th>\n",
       "      <th>classifiers</th>\n",
       "      <th>max</th>\n",
       "      <th>min</th>\n",
       "      <th>mean</th>\n",
       "    </tr>\n",
       "  </thead>\n",
       "  <tbody>\n",
       "    <tr>\n",
       "      <th>0</th>\n",
       "      <td>Geometry-based classifiers</td>\n",
       "      <td>SVM</td>\n",
       "      <td>NaN</td>\n",
       "      <td>NaN</td>\n",
       "      <td>NaN</td>\n",
       "      <td>NaN</td>\n",
       "      <td>SVM [38]</td>\n",
       "      <td>0.9800</td>\n",
       "      <td>0.4500</td>\n",
       "      <td>0.770887</td>\n",
       "    </tr>\n",
       "    <tr>\n",
       "      <th>1</th>\n",
       "      <td>Geometry-based classifiers</td>\n",
       "      <td>KNN</td>\n",
       "      <td>NaN</td>\n",
       "      <td>NaN</td>\n",
       "      <td>NaN</td>\n",
       "      <td>NaN</td>\n",
       "      <td>KNN [19]</td>\n",
       "      <td>0.9600</td>\n",
       "      <td>0.4000</td>\n",
       "      <td>0.753558</td>\n",
       "    </tr>\n",
       "    <tr>\n",
       "      <th>2</th>\n",
       "      <td>Geometry-based classifiers</td>\n",
       "      <td>DT</td>\n",
       "      <td>NaN</td>\n",
       "      <td>NaN</td>\n",
       "      <td>NaN</td>\n",
       "      <td>NaN</td>\n",
       "      <td>DT [9]</td>\n",
       "      <td>0.9600</td>\n",
       "      <td>0.6100</td>\n",
       "      <td>0.817844</td>\n",
       "    </tr>\n",
       "    <tr>\n",
       "      <th>3</th>\n",
       "      <td>Probability-based classifiers</td>\n",
       "      <td>NaN</td>\n",
       "      <td>LDA</td>\n",
       "      <td>NaN</td>\n",
       "      <td>NaN</td>\n",
       "      <td>NaN</td>\n",
       "      <td>LDA [10]</td>\n",
       "      <td>0.9500</td>\n",
       "      <td>0.6309</td>\n",
       "      <td>0.779540</td>\n",
       "    </tr>\n",
       "    <tr>\n",
       "      <th>4</th>\n",
       "      <td>Probability-based classifiers</td>\n",
       "      <td>NaN</td>\n",
       "      <td>NB</td>\n",
       "      <td>NaN</td>\n",
       "      <td>NaN</td>\n",
       "      <td>NaN</td>\n",
       "      <td>NB [10]</td>\n",
       "      <td>0.9547</td>\n",
       "      <td>0.4000</td>\n",
       "      <td>0.684470</td>\n",
       "    </tr>\n",
       "    <tr>\n",
       "      <th>5</th>\n",
       "      <td>Probability-based classifiers</td>\n",
       "      <td>NaN</td>\n",
       "      <td>LR</td>\n",
       "      <td>NaN</td>\n",
       "      <td>NaN</td>\n",
       "      <td>NaN</td>\n",
       "      <td>LR [6]</td>\n",
       "      <td>0.8891</td>\n",
       "      <td>0.4300</td>\n",
       "      <td>0.693017</td>\n",
       "    </tr>\n",
       "    <tr>\n",
       "      <th>6</th>\n",
       "      <td>Neural network-based classifiers</td>\n",
       "      <td>NaN</td>\n",
       "      <td>NaN</td>\n",
       "      <td>CNN</td>\n",
       "      <td>NaN</td>\n",
       "      <td>NaN</td>\n",
       "      <td>CNN [25]</td>\n",
       "      <td>0.9900</td>\n",
       "      <td>0.5266</td>\n",
       "      <td>0.844832</td>\n",
       "    </tr>\n",
       "    <tr>\n",
       "      <th>7</th>\n",
       "      <td>Neural network-based classifiers</td>\n",
       "      <td>NaN</td>\n",
       "      <td>NaN</td>\n",
       "      <td>MLP</td>\n",
       "      <td>NaN</td>\n",
       "      <td>NaN</td>\n",
       "      <td>MLP [11]</td>\n",
       "      <td>0.9300</td>\n",
       "      <td>0.4500</td>\n",
       "      <td>0.776364</td>\n",
       "    </tr>\n",
       "    <tr>\n",
       "      <th>8</th>\n",
       "      <td>Neural network-based classifiers</td>\n",
       "      <td>NaN</td>\n",
       "      <td>NaN</td>\n",
       "      <td>ELM</td>\n",
       "      <td>NaN</td>\n",
       "      <td>NaN</td>\n",
       "      <td>ELM [5]</td>\n",
       "      <td>0.9600</td>\n",
       "      <td>0.4300</td>\n",
       "      <td>0.676000</td>\n",
       "    </tr>\n",
       "    <tr>\n",
       "      <th>9</th>\n",
       "      <td>Ensemble-based classifiers</td>\n",
       "      <td>NaN</td>\n",
       "      <td>NaN</td>\n",
       "      <td>NaN</td>\n",
       "      <td>RF</td>\n",
       "      <td>NaN</td>\n",
       "      <td>RF [22]</td>\n",
       "      <td>0.9800</td>\n",
       "      <td>0.5400</td>\n",
       "      <td>0.828664</td>\n",
       "    </tr>\n",
       "    <tr>\n",
       "      <th>10</th>\n",
       "      <td>Ensemble-based classifiers</td>\n",
       "      <td>NaN</td>\n",
       "      <td>NaN</td>\n",
       "      <td>NaN</td>\n",
       "      <td>XGBOOST</td>\n",
       "      <td>NaN</td>\n",
       "      <td>XGBOOST [5]</td>\n",
       "      <td>0.9700</td>\n",
       "      <td>0.8200</td>\n",
       "      <td>0.898820</td>\n",
       "    </tr>\n",
       "    <tr>\n",
       "      <th>11</th>\n",
       "      <td>Ensemble-based classifiers</td>\n",
       "      <td>NaN</td>\n",
       "      <td>NaN</td>\n",
       "      <td>NaN</td>\n",
       "      <td>ENSEMBLE</td>\n",
       "      <td>NaN</td>\n",
       "      <td>ENSEMBLE [2]</td>\n",
       "      <td>0.7700</td>\n",
       "      <td>0.6700</td>\n",
       "      <td>0.720000</td>\n",
       "    </tr>\n",
       "    <tr>\n",
       "      <th>12</th>\n",
       "      <td>Other classifiers</td>\n",
       "      <td>NaN</td>\n",
       "      <td>NaN</td>\n",
       "      <td>NaN</td>\n",
       "      <td>NaN</td>\n",
       "      <td>ANFIS</td>\n",
       "      <td>ANFIS [2]</td>\n",
       "      <td>0.9000</td>\n",
       "      <td>0.8155</td>\n",
       "      <td>0.857750</td>\n",
       "    </tr>\n",
       "    <tr>\n",
       "      <th>13</th>\n",
       "      <td>Other classifiers</td>\n",
       "      <td>NaN</td>\n",
       "      <td>NaN</td>\n",
       "      <td>NaN</td>\n",
       "      <td>NaN</td>\n",
       "      <td>AMGLVQ</td>\n",
       "      <td>AMGLVQ [1]</td>\n",
       "      <td>0.6200</td>\n",
       "      <td>0.6200</td>\n",
       "      <td>0.620000</td>\n",
       "    </tr>\n",
       "    <tr>\n",
       "      <th>14</th>\n",
       "      <td>Other classifiers</td>\n",
       "      <td>NaN</td>\n",
       "      <td>NaN</td>\n",
       "      <td>NaN</td>\n",
       "      <td>NaN</td>\n",
       "      <td>TM</td>\n",
       "      <td>TM [1]</td>\n",
       "      <td>0.9800</td>\n",
       "      <td>0.9800</td>\n",
       "      <td>0.980000</td>\n",
       "    </tr>\n",
       "  </tbody>\n",
       "</table>\n",
       "</div>"
      ],
      "text/plain": [
       "                            Category Geometry-based classifiers  \\\n",
       "0         Geometry-based classifiers                        SVM   \n",
       "1         Geometry-based classifiers                        KNN   \n",
       "2         Geometry-based classifiers                         DT   \n",
       "3      Probability-based classifiers                        NaN   \n",
       "4      Probability-based classifiers                        NaN   \n",
       "5      Probability-based classifiers                        NaN   \n",
       "6   Neural network-based classifiers                        NaN   \n",
       "7   Neural network-based classifiers                        NaN   \n",
       "8   Neural network-based classifiers                        NaN   \n",
       "9         Ensemble-based classifiers                        NaN   \n",
       "10        Ensemble-based classifiers                        NaN   \n",
       "11        Ensemble-based classifiers                        NaN   \n",
       "12                 Other classifiers                        NaN   \n",
       "13                 Other classifiers                        NaN   \n",
       "14                 Other classifiers                        NaN   \n",
       "\n",
       "   Probability-based classifiers Neural network-based classifiers  \\\n",
       "0                            NaN                              NaN   \n",
       "1                            NaN                              NaN   \n",
       "2                            NaN                              NaN   \n",
       "3                            LDA                              NaN   \n",
       "4                             NB                              NaN   \n",
       "5                             LR                              NaN   \n",
       "6                            NaN                              CNN   \n",
       "7                            NaN                              MLP   \n",
       "8                            NaN                              ELM   \n",
       "9                            NaN                              NaN   \n",
       "10                           NaN                              NaN   \n",
       "11                           NaN                              NaN   \n",
       "12                           NaN                              NaN   \n",
       "13                           NaN                              NaN   \n",
       "14                           NaN                              NaN   \n",
       "\n",
       "   Ensemble-based classifiers Other classifiers   classifiers     max     min  \\\n",
       "0                         NaN               NaN      SVM [38]  0.9800  0.4500   \n",
       "1                         NaN               NaN      KNN [19]  0.9600  0.4000   \n",
       "2                         NaN               NaN        DT [9]  0.9600  0.6100   \n",
       "3                         NaN               NaN      LDA [10]  0.9500  0.6309   \n",
       "4                         NaN               NaN       NB [10]  0.9547  0.4000   \n",
       "5                         NaN               NaN        LR [6]  0.8891  0.4300   \n",
       "6                         NaN               NaN      CNN [25]  0.9900  0.5266   \n",
       "7                         NaN               NaN      MLP [11]  0.9300  0.4500   \n",
       "8                         NaN               NaN       ELM [5]  0.9600  0.4300   \n",
       "9                          RF               NaN       RF [22]  0.9800  0.5400   \n",
       "10                    XGBOOST               NaN   XGBOOST [5]  0.9700  0.8200   \n",
       "11                   ENSEMBLE               NaN  ENSEMBLE [2]  0.7700  0.6700   \n",
       "12                        NaN             ANFIS     ANFIS [2]  0.9000  0.8155   \n",
       "13                        NaN            AMGLVQ    AMGLVQ [1]  0.6200  0.6200   \n",
       "14                        NaN                TM        TM [1]  0.9800  0.9800   \n",
       "\n",
       "        mean  \n",
       "0   0.770887  \n",
       "1   0.753558  \n",
       "2   0.817844  \n",
       "3   0.779540  \n",
       "4   0.684470  \n",
       "5   0.693017  \n",
       "6   0.844832  \n",
       "7   0.776364  \n",
       "8   0.676000  \n",
       "9   0.828664  \n",
       "10  0.898820  \n",
       "11  0.720000  \n",
       "12  0.857750  \n",
       "13  0.620000  \n",
       "14  0.980000  "
      ]
     },
     "execution_count": 17,
     "metadata": {},
     "output_type": "execute_result"
    }
   ],
   "source": [
    "df_class.replace({'LS-SVM':'SVM', 'KSVM':'SVM'}, inplace=True)\n",
    "df_class.replace({'RLDA':'LDA', 'BLDA':'LDA'}, inplace=True)\n",
    "df_class.replace({'SBELM':'ELM', 'HELM':'ELM'}, inplace=True)\n",
    "df_class.replace({'BI-LSTM ':'LSTM'}, inplace=True)\n",
    "\n",
    "muc=pd.DataFrame([], columns=['Classifier', 'Category', 'count'])\n",
    "\n",
    "for i in df_class.columns:\n",
    "    temp=pd.DataFrame(df_class[i].value_counts()[0:3]).reset_index()\n",
    "    temp['Category']=i\n",
    "    temp['Classifier'] = temp[i]\n",
    "    temp['count'] = temp['count']\n",
    "    #temp.drop(columns='index')\n",
    "\n",
    "\n",
    "    muc=pd.concat([muc, temp], axis=0)\n",
    "\n",
    "\n",
    "df_acc_vis=df_acc.copy()\n",
    "df_acc_vis.replace({'LS-SVM':'SVM', 'KSVM':'SVM'}, inplace=True)\n",
    "df_acc_vis.replace({'RLDA':'LDA', 'BLDA':'LDA'}, inplace=True)\n",
    "df_acc_vis.replace({'SBELM':'ELM', 'HELM':'ELM'}, inplace=True)\n",
    "df_acc_vis.replace({'BI-LSTM ':'LSTM'}, inplace=True)\n",
    "\n",
    "df_acc_vis=df_acc_vis.groupby('classifiers').agg(\n",
    "    max=('acc', 'max'),\n",
    "    min=('acc', 'min'),\n",
    "    mean=('acc', 'mean')).reset_index()\n",
    "df_acc_vis\n",
    "\n",
    "df_class_vis=muc.merge(df_acc_vis, how='inner', left_on='Classifier', right_on='classifiers')\n",
    "df_class_vis['count'] = df_class_vis['count'].astype(str)\n",
    "\n",
    "df_class_vis.classifiers = df_class_vis.classifiers + ' [' +  df_class_vis['count'] + ']'\n",
    "df_class_vis.drop(['Classifier','count'], axis=1, inplace=True)\n",
    "df_class_vis"
   ]
  },
  {
   "cell_type": "code",
   "execution_count": 30,
   "metadata": {},
   "outputs": [
    {
     "data": {
      "application/vnd.plotly.v1+json": {
       "config": {
        "plotlyServerURL": "https://plot.ly"
       },
       "data": [
        {
         "name": "max",
         "type": "bar",
         "x": [
          [
           "Geometry-based classifiers",
           "Geometry-based classifiers",
           "Geometry-based classifiers",
           "Probability-based classifiers",
           "Probability-based classifiers",
           "Probability-based classifiers",
           "Neural network-based classifiers",
           "Neural network-based classifiers",
           "Neural network-based classifiers",
           "Ensemble-based classifiers",
           "Ensemble-based classifiers",
           "Ensemble-based classifiers",
           "Other classifiers",
           "Other classifiers",
           "Other classifiers"
          ],
          [
           "SVM [38]",
           "KNN [19]",
           "DT [9]",
           "LDA [10]",
           "NB [10]",
           "LR [6]",
           "CNN [25]",
           "MLP [11]",
           "ELM [5]",
           "RF [22]",
           "XGBOOST [5]",
           "ENSEMBLE [2]",
           "ANFIS [2]",
           "AMGLVQ [1]",
           "TM [1]"
          ]
         ],
         "y": [
          0.98,
          0.96,
          0.96,
          0.95,
          0.9547,
          0.8891,
          0.99,
          0.93,
          0.96,
          0.98,
          0.97,
          0.77,
          0.9,
          0.62,
          0.98
         ]
        },
        {
         "name": "mean",
         "type": "bar",
         "x": [
          [
           "Geometry-based classifiers",
           "Geometry-based classifiers",
           "Geometry-based classifiers",
           "Probability-based classifiers",
           "Probability-based classifiers",
           "Probability-based classifiers",
           "Neural network-based classifiers",
           "Neural network-based classifiers",
           "Neural network-based classifiers",
           "Ensemble-based classifiers",
           "Ensemble-based classifiers",
           "Ensemble-based classifiers",
           "Other classifiers",
           "Other classifiers",
           "Other classifiers"
          ],
          [
           "SVM [38]",
           "KNN [19]",
           "DT [9]",
           "LDA [10]",
           "NB [10]",
           "LR [6]",
           "CNN [25]",
           "MLP [11]",
           "ELM [5]",
           "RF [22]",
           "XGBOOST [5]",
           "ENSEMBLE [2]",
           "ANFIS [2]",
           "AMGLVQ [1]",
           "TM [1]"
          ]
         ],
         "y": [
          0.7708868421052631,
          0.7535578947368421,
          0.8178444444444444,
          0.77954,
          0.68447,
          0.6930166666666667,
          0.8448319999999999,
          0.7763636363636363,
          0.6759999999999999,
          0.8286636363636363,
          0.89882,
          0.72,
          0.85775,
          0.62,
          0.98
         ]
        },
        {
         "name": "min",
         "type": "bar",
         "x": [
          [
           "Geometry-based classifiers",
           "Geometry-based classifiers",
           "Geometry-based classifiers",
           "Probability-based classifiers",
           "Probability-based classifiers",
           "Probability-based classifiers",
           "Neural network-based classifiers",
           "Neural network-based classifiers",
           "Neural network-based classifiers",
           "Ensemble-based classifiers",
           "Ensemble-based classifiers",
           "Ensemble-based classifiers",
           "Other classifiers",
           "Other classifiers",
           "Other classifiers"
          ],
          [
           "SVM [38]",
           "KNN [19]",
           "DT [9]",
           "LDA [10]",
           "NB [10]",
           "LR [6]",
           "CNN [25]",
           "MLP [11]",
           "ELM [5]",
           "RF [22]",
           "XGBOOST [5]",
           "ENSEMBLE [2]",
           "ANFIS [2]",
           "AMGLVQ [1]",
           "TM [1]"
          ]
         ],
         "y": [
          0.45,
          0.4,
          0.61,
          0.6309,
          0.4,
          0.43,
          0.5266,
          0.45,
          0.43,
          0.54,
          0.82,
          0.67,
          0.8155,
          0.62,
          0.98
         ]
        }
       ],
       "layout": {
        "height": 1200,
        "legend": {
         "orientation": "h",
         "x": 0.4,
         "y": 1.15
        },
        "showlegend": false,
        "template": {
         "data": {
          "bar": [
           {
            "error_x": {
             "color": "#2a3f5f"
            },
            "error_y": {
             "color": "#2a3f5f"
            },
            "marker": {
             "line": {
              "color": "#E5ECF6",
              "width": 0.5
             },
             "pattern": {
              "fillmode": "overlay",
              "size": 10,
              "solidity": 0.2
             }
            },
            "type": "bar"
           }
          ],
          "barpolar": [
           {
            "marker": {
             "line": {
              "color": "#E5ECF6",
              "width": 0.5
             },
             "pattern": {
              "fillmode": "overlay",
              "size": 10,
              "solidity": 0.2
             }
            },
            "type": "barpolar"
           }
          ],
          "carpet": [
           {
            "aaxis": {
             "endlinecolor": "#2a3f5f",
             "gridcolor": "white",
             "linecolor": "white",
             "minorgridcolor": "white",
             "startlinecolor": "#2a3f5f"
            },
            "baxis": {
             "endlinecolor": "#2a3f5f",
             "gridcolor": "white",
             "linecolor": "white",
             "minorgridcolor": "white",
             "startlinecolor": "#2a3f5f"
            },
            "type": "carpet"
           }
          ],
          "choropleth": [
           {
            "colorbar": {
             "outlinewidth": 0,
             "ticks": ""
            },
            "type": "choropleth"
           }
          ],
          "contour": [
           {
            "colorbar": {
             "outlinewidth": 0,
             "ticks": ""
            },
            "colorscale": [
             [
              0,
              "#0d0887"
             ],
             [
              0.1111111111111111,
              "#46039f"
             ],
             [
              0.2222222222222222,
              "#7201a8"
             ],
             [
              0.3333333333333333,
              "#9c179e"
             ],
             [
              0.4444444444444444,
              "#bd3786"
             ],
             [
              0.5555555555555556,
              "#d8576b"
             ],
             [
              0.6666666666666666,
              "#ed7953"
             ],
             [
              0.7777777777777778,
              "#fb9f3a"
             ],
             [
              0.8888888888888888,
              "#fdca26"
             ],
             [
              1,
              "#f0f921"
             ]
            ],
            "type": "contour"
           }
          ],
          "contourcarpet": [
           {
            "colorbar": {
             "outlinewidth": 0,
             "ticks": ""
            },
            "type": "contourcarpet"
           }
          ],
          "heatmap": [
           {
            "colorbar": {
             "outlinewidth": 0,
             "ticks": ""
            },
            "colorscale": [
             [
              0,
              "#0d0887"
             ],
             [
              0.1111111111111111,
              "#46039f"
             ],
             [
              0.2222222222222222,
              "#7201a8"
             ],
             [
              0.3333333333333333,
              "#9c179e"
             ],
             [
              0.4444444444444444,
              "#bd3786"
             ],
             [
              0.5555555555555556,
              "#d8576b"
             ],
             [
              0.6666666666666666,
              "#ed7953"
             ],
             [
              0.7777777777777778,
              "#fb9f3a"
             ],
             [
              0.8888888888888888,
              "#fdca26"
             ],
             [
              1,
              "#f0f921"
             ]
            ],
            "type": "heatmap"
           }
          ],
          "heatmapgl": [
           {
            "colorbar": {
             "outlinewidth": 0,
             "ticks": ""
            },
            "colorscale": [
             [
              0,
              "#0d0887"
             ],
             [
              0.1111111111111111,
              "#46039f"
             ],
             [
              0.2222222222222222,
              "#7201a8"
             ],
             [
              0.3333333333333333,
              "#9c179e"
             ],
             [
              0.4444444444444444,
              "#bd3786"
             ],
             [
              0.5555555555555556,
              "#d8576b"
             ],
             [
              0.6666666666666666,
              "#ed7953"
             ],
             [
              0.7777777777777778,
              "#fb9f3a"
             ],
             [
              0.8888888888888888,
              "#fdca26"
             ],
             [
              1,
              "#f0f921"
             ]
            ],
            "type": "heatmapgl"
           }
          ],
          "histogram": [
           {
            "marker": {
             "pattern": {
              "fillmode": "overlay",
              "size": 10,
              "solidity": 0.2
             }
            },
            "type": "histogram"
           }
          ],
          "histogram2d": [
           {
            "colorbar": {
             "outlinewidth": 0,
             "ticks": ""
            },
            "colorscale": [
             [
              0,
              "#0d0887"
             ],
             [
              0.1111111111111111,
              "#46039f"
             ],
             [
              0.2222222222222222,
              "#7201a8"
             ],
             [
              0.3333333333333333,
              "#9c179e"
             ],
             [
              0.4444444444444444,
              "#bd3786"
             ],
             [
              0.5555555555555556,
              "#d8576b"
             ],
             [
              0.6666666666666666,
              "#ed7953"
             ],
             [
              0.7777777777777778,
              "#fb9f3a"
             ],
             [
              0.8888888888888888,
              "#fdca26"
             ],
             [
              1,
              "#f0f921"
             ]
            ],
            "type": "histogram2d"
           }
          ],
          "histogram2dcontour": [
           {
            "colorbar": {
             "outlinewidth": 0,
             "ticks": ""
            },
            "colorscale": [
             [
              0,
              "#0d0887"
             ],
             [
              0.1111111111111111,
              "#46039f"
             ],
             [
              0.2222222222222222,
              "#7201a8"
             ],
             [
              0.3333333333333333,
              "#9c179e"
             ],
             [
              0.4444444444444444,
              "#bd3786"
             ],
             [
              0.5555555555555556,
              "#d8576b"
             ],
             [
              0.6666666666666666,
              "#ed7953"
             ],
             [
              0.7777777777777778,
              "#fb9f3a"
             ],
             [
              0.8888888888888888,
              "#fdca26"
             ],
             [
              1,
              "#f0f921"
             ]
            ],
            "type": "histogram2dcontour"
           }
          ],
          "mesh3d": [
           {
            "colorbar": {
             "outlinewidth": 0,
             "ticks": ""
            },
            "type": "mesh3d"
           }
          ],
          "parcoords": [
           {
            "line": {
             "colorbar": {
              "outlinewidth": 0,
              "ticks": ""
             }
            },
            "type": "parcoords"
           }
          ],
          "pie": [
           {
            "automargin": true,
            "type": "pie"
           }
          ],
          "scatter": [
           {
            "fillpattern": {
             "fillmode": "overlay",
             "size": 10,
             "solidity": 0.2
            },
            "type": "scatter"
           }
          ],
          "scatter3d": [
           {
            "line": {
             "colorbar": {
              "outlinewidth": 0,
              "ticks": ""
             }
            },
            "marker": {
             "colorbar": {
              "outlinewidth": 0,
              "ticks": ""
             }
            },
            "type": "scatter3d"
           }
          ],
          "scattercarpet": [
           {
            "marker": {
             "colorbar": {
              "outlinewidth": 0,
              "ticks": ""
             }
            },
            "type": "scattercarpet"
           }
          ],
          "scattergeo": [
           {
            "marker": {
             "colorbar": {
              "outlinewidth": 0,
              "ticks": ""
             }
            },
            "type": "scattergeo"
           }
          ],
          "scattergl": [
           {
            "marker": {
             "colorbar": {
              "outlinewidth": 0,
              "ticks": ""
             }
            },
            "type": "scattergl"
           }
          ],
          "scattermapbox": [
           {
            "marker": {
             "colorbar": {
              "outlinewidth": 0,
              "ticks": ""
             }
            },
            "type": "scattermapbox"
           }
          ],
          "scatterpolar": [
           {
            "marker": {
             "colorbar": {
              "outlinewidth": 0,
              "ticks": ""
             }
            },
            "type": "scatterpolar"
           }
          ],
          "scatterpolargl": [
           {
            "marker": {
             "colorbar": {
              "outlinewidth": 0,
              "ticks": ""
             }
            },
            "type": "scatterpolargl"
           }
          ],
          "scatterternary": [
           {
            "marker": {
             "colorbar": {
              "outlinewidth": 0,
              "ticks": ""
             }
            },
            "type": "scatterternary"
           }
          ],
          "surface": [
           {
            "colorbar": {
             "outlinewidth": 0,
             "ticks": ""
            },
            "colorscale": [
             [
              0,
              "#0d0887"
             ],
             [
              0.1111111111111111,
              "#46039f"
             ],
             [
              0.2222222222222222,
              "#7201a8"
             ],
             [
              0.3333333333333333,
              "#9c179e"
             ],
             [
              0.4444444444444444,
              "#bd3786"
             ],
             [
              0.5555555555555556,
              "#d8576b"
             ],
             [
              0.6666666666666666,
              "#ed7953"
             ],
             [
              0.7777777777777778,
              "#fb9f3a"
             ],
             [
              0.8888888888888888,
              "#fdca26"
             ],
             [
              1,
              "#f0f921"
             ]
            ],
            "type": "surface"
           }
          ],
          "table": [
           {
            "cells": {
             "fill": {
              "color": "#EBF0F8"
             },
             "line": {
              "color": "white"
             }
            },
            "header": {
             "fill": {
              "color": "#C8D4E3"
             },
             "line": {
              "color": "white"
             }
            },
            "type": "table"
           }
          ]
         },
         "layout": {
          "annotationdefaults": {
           "arrowcolor": "#2a3f5f",
           "arrowhead": 0,
           "arrowwidth": 1
          },
          "autotypenumbers": "strict",
          "coloraxis": {
           "colorbar": {
            "outlinewidth": 0,
            "ticks": ""
           }
          },
          "colorscale": {
           "diverging": [
            [
             0,
             "#8e0152"
            ],
            [
             0.1,
             "#c51b7d"
            ],
            [
             0.2,
             "#de77ae"
            ],
            [
             0.3,
             "#f1b6da"
            ],
            [
             0.4,
             "#fde0ef"
            ],
            [
             0.5,
             "#f7f7f7"
            ],
            [
             0.6,
             "#e6f5d0"
            ],
            [
             0.7,
             "#b8e186"
            ],
            [
             0.8,
             "#7fbc41"
            ],
            [
             0.9,
             "#4d9221"
            ],
            [
             1,
             "#276419"
            ]
           ],
           "sequential": [
            [
             0,
             "#0d0887"
            ],
            [
             0.1111111111111111,
             "#46039f"
            ],
            [
             0.2222222222222222,
             "#7201a8"
            ],
            [
             0.3333333333333333,
             "#9c179e"
            ],
            [
             0.4444444444444444,
             "#bd3786"
            ],
            [
             0.5555555555555556,
             "#d8576b"
            ],
            [
             0.6666666666666666,
             "#ed7953"
            ],
            [
             0.7777777777777778,
             "#fb9f3a"
            ],
            [
             0.8888888888888888,
             "#fdca26"
            ],
            [
             1,
             "#f0f921"
            ]
           ],
           "sequentialminus": [
            [
             0,
             "#0d0887"
            ],
            [
             0.1111111111111111,
             "#46039f"
            ],
            [
             0.2222222222222222,
             "#7201a8"
            ],
            [
             0.3333333333333333,
             "#9c179e"
            ],
            [
             0.4444444444444444,
             "#bd3786"
            ],
            [
             0.5555555555555556,
             "#d8576b"
            ],
            [
             0.6666666666666666,
             "#ed7953"
            ],
            [
             0.7777777777777778,
             "#fb9f3a"
            ],
            [
             0.8888888888888888,
             "#fdca26"
            ],
            [
             1,
             "#f0f921"
            ]
           ]
          },
          "colorway": [
           "#636efa",
           "#EF553B",
           "#00cc96",
           "#ab63fa",
           "#FFA15A",
           "#19d3f3",
           "#FF6692",
           "#B6E880",
           "#FF97FF",
           "#FECB52"
          ],
          "font": {
           "color": "#2a3f5f"
          },
          "geo": {
           "bgcolor": "white",
           "lakecolor": "white",
           "landcolor": "#E5ECF6",
           "showlakes": true,
           "showland": true,
           "subunitcolor": "white"
          },
          "hoverlabel": {
           "align": "left"
          },
          "hovermode": "closest",
          "mapbox": {
           "style": "light"
          },
          "paper_bgcolor": "white",
          "plot_bgcolor": "#E5ECF6",
          "polar": {
           "angularaxis": {
            "gridcolor": "white",
            "linecolor": "white",
            "ticks": ""
           },
           "bgcolor": "#E5ECF6",
           "radialaxis": {
            "gridcolor": "white",
            "linecolor": "white",
            "ticks": ""
           }
          },
          "scene": {
           "xaxis": {
            "backgroundcolor": "#E5ECF6",
            "gridcolor": "white",
            "gridwidth": 2,
            "linecolor": "white",
            "showbackground": true,
            "ticks": "",
            "zerolinecolor": "white"
           },
           "yaxis": {
            "backgroundcolor": "#E5ECF6",
            "gridcolor": "white",
            "gridwidth": 2,
            "linecolor": "white",
            "showbackground": true,
            "ticks": "",
            "zerolinecolor": "white"
           },
           "zaxis": {
            "backgroundcolor": "#E5ECF6",
            "gridcolor": "white",
            "gridwidth": 2,
            "linecolor": "white",
            "showbackground": true,
            "ticks": "",
            "zerolinecolor": "white"
           }
          },
          "shapedefaults": {
           "line": {
            "color": "#2a3f5f"
           }
          },
          "ternary": {
           "aaxis": {
            "gridcolor": "white",
            "linecolor": "white",
            "ticks": ""
           },
           "baxis": {
            "gridcolor": "white",
            "linecolor": "white",
            "ticks": ""
           },
           "bgcolor": "#E5ECF6",
           "caxis": {
            "gridcolor": "white",
            "linecolor": "white",
            "ticks": ""
           }
          },
          "title": {
           "x": 0.05
          },
          "xaxis": {
           "automargin": true,
           "gridcolor": "white",
           "linecolor": "white",
           "ticks": "",
           "title": {
            "standoff": 15
           },
           "zerolinecolor": "white",
           "zerolinewidth": 2
          },
          "yaxis": {
           "automargin": true,
           "gridcolor": "white",
           "linecolor": "white",
           "ticks": "",
           "title": {
            "standoff": 15
           },
           "zerolinecolor": "white",
           "zerolinewidth": 2
          }
         }
        },
        "width": 2200,
        "yaxis": {
         "dtick": 0.2,
         "range": [
          0.3,
          1
         ],
         "showgrid": false
        }
       }
      }
     },
     "metadata": {},
     "output_type": "display_data"
    }
   ],
   "source": [
    "import plotly.graph_objects as go\n",
    "x = [\n",
    "    df_class_vis['Category'].values.tolist(),\n",
    "    df_class_vis['classifiers'].values.tolist()\n",
    "    \n",
    "]\n",
    "\n",
    "fig = go.Figure()\n",
    "fig.add_bar(name='max', x=x,y=df_class_vis['max'].values.tolist())#, text=df_class_vis['max'].values.tolist())\n",
    "fig.add_bar(name='mean', x=x,y=df_class_vis['mean'].values.tolist())#, text=df_class_vis['mean'].values.tolist())\n",
    "fig.add_bar(name='min', x=x,y=df_class_vis['min'].values.tolist())#, text=df_class_vis['min'].values.tolist())\n",
    "\n",
    "#fig.update_traces(texttemplate='%{text:.2f}', textposition='outside')\n",
    "fig.update_layout(legend_orientation=\"h\",\n",
    "                  legend=dict(x=0.4, y=1.15))  # Positions the legend above the chart\n",
    "fig.update_layout(width=2200, height=1200,\n",
    "                  yaxis={'showgrid': False, 'range':[0.3, 1.0],'dtick': 0.2},\n",
    "                  showlegend =False)  # Customize the width and height in pixels\n",
    "\n",
    "\n",
    "\n",
    "fig.show()"
   ]
  },
  {
   "cell_type": "code",
   "execution_count": 19,
   "metadata": {},
   "outputs": [
    {
     "name": "stderr",
     "output_type": "stream",
     "text": [
      "C:\\Users\\JaimeAndresRiascosSa\\AppData\\Local\\Temp\\ipykernel_21572\\1874919795.py:12: FutureWarning:\n",
      "\n",
      "Downcasting behavior in `replace` is deprecated and will be removed in a future version. To retain the old behavior, explicitly call `result.infer_objects(copy=False)`. To opt-in to the future behavior, set `pd.set_option('future.no_silent_downcasting', True)`\n",
      "\n"
     ]
    },
    {
     "data": {
      "text/html": [
       "<div>\n",
       "<style scoped>\n",
       "    .dataframe tbody tr th:only-of-type {\n",
       "        vertical-align: middle;\n",
       "    }\n",
       "\n",
       "    .dataframe tbody tr th {\n",
       "        vertical-align: top;\n",
       "    }\n",
       "\n",
       "    .dataframe thead th {\n",
       "        text-align: right;\n",
       "    }\n",
       "</style>\n",
       "<table border=\"1\" class=\"dataframe\">\n",
       "  <thead>\n",
       "    <tr style=\"text-align: right;\">\n",
       "      <th></th>\n",
       "      <th>Feature</th>\n",
       "      <th>Category</th>\n",
       "      <th>count</th>\n",
       "      <th>Temporal Features</th>\n",
       "      <th>Spectral Features</th>\n",
       "      <th>Spatial Features</th>\n",
       "      <th>Information Theory Features</th>\n",
       "      <th>Statistical Features</th>\n",
       "      <th>Other Features</th>\n",
       "      <th>Features Extraction Methods</th>\n",
       "    </tr>\n",
       "  </thead>\n",
       "  <tbody>\n",
       "    <tr>\n",
       "      <th>0</th>\n",
       "      <td>RAW EEG</td>\n",
       "      <td>Temporal</td>\n",
       "      <td>13</td>\n",
       "      <td>RAW EEG</td>\n",
       "      <td>NaN</td>\n",
       "      <td>NaN</td>\n",
       "      <td>NaN</td>\n",
       "      <td>NaN</td>\n",
       "      <td>NaN</td>\n",
       "      <td>NaN</td>\n",
       "    </tr>\n",
       "    <tr>\n",
       "      <th>1</th>\n",
       "      <td>HJORTH MOBILITY</td>\n",
       "      <td>Temporal</td>\n",
       "      <td>8</td>\n",
       "      <td>HJORTH MOBILITY</td>\n",
       "      <td>NaN</td>\n",
       "      <td>NaN</td>\n",
       "      <td>NaN</td>\n",
       "      <td>NaN</td>\n",
       "      <td>NaN</td>\n",
       "      <td>NaN</td>\n",
       "    </tr>\n",
       "    <tr>\n",
       "      <th>2</th>\n",
       "      <td>HJORTH COMPLEXITY</td>\n",
       "      <td>Temporal</td>\n",
       "      <td>8</td>\n",
       "      <td>HJORTH COMPLEXITY</td>\n",
       "      <td>NaN</td>\n",
       "      <td>NaN</td>\n",
       "      <td>NaN</td>\n",
       "      <td>NaN</td>\n",
       "      <td>NaN</td>\n",
       "      <td>NaN</td>\n",
       "    </tr>\n",
       "    <tr>\n",
       "      <th>3</th>\n",
       "      <td>STANDARD DEVIATION</td>\n",
       "      <td>Temporal</td>\n",
       "      <td>7</td>\n",
       "      <td>STANDARD DEVIATION</td>\n",
       "      <td>NaN</td>\n",
       "      <td>NaN</td>\n",
       "      <td>NaN</td>\n",
       "      <td>NaN</td>\n",
       "      <td>NaN</td>\n",
       "      <td>NaN</td>\n",
       "    </tr>\n",
       "    <tr>\n",
       "      <th>4</th>\n",
       "      <td>KURTOSIS</td>\n",
       "      <td>Temporal</td>\n",
       "      <td>7</td>\n",
       "      <td>KURTOSIS</td>\n",
       "      <td>NaN</td>\n",
       "      <td>NaN</td>\n",
       "      <td>NaN</td>\n",
       "      <td>NaN</td>\n",
       "      <td>NaN</td>\n",
       "      <td>NaN</td>\n",
       "    </tr>\n",
       "    <tr>\n",
       "      <th>0</th>\n",
       "      <td>POWER SPECTRAL DENSITY</td>\n",
       "      <td>Spectral</td>\n",
       "      <td>21</td>\n",
       "      <td>NaN</td>\n",
       "      <td>POWER SPECTRAL DENSITY</td>\n",
       "      <td>NaN</td>\n",
       "      <td>NaN</td>\n",
       "      <td>NaN</td>\n",
       "      <td>NaN</td>\n",
       "      <td>NaN</td>\n",
       "    </tr>\n",
       "    <tr>\n",
       "      <th>1</th>\n",
       "      <td>POWER BAND</td>\n",
       "      <td>Spectral</td>\n",
       "      <td>8</td>\n",
       "      <td>NaN</td>\n",
       "      <td>POWER BAND</td>\n",
       "      <td>NaN</td>\n",
       "      <td>NaN</td>\n",
       "      <td>NaN</td>\n",
       "      <td>NaN</td>\n",
       "      <td>NaN</td>\n",
       "    </tr>\n",
       "    <tr>\n",
       "      <th>2</th>\n",
       "      <td>SPECTRAL ENTROPY</td>\n",
       "      <td>Spectral</td>\n",
       "      <td>4</td>\n",
       "      <td>NaN</td>\n",
       "      <td>SPECTRAL ENTROPY</td>\n",
       "      <td>NaN</td>\n",
       "      <td>NaN</td>\n",
       "      <td>NaN</td>\n",
       "      <td>NaN</td>\n",
       "      <td>NaN</td>\n",
       "    </tr>\n",
       "    <tr>\n",
       "      <th>3</th>\n",
       "      <td>POWER RATIO</td>\n",
       "      <td>Spectral</td>\n",
       "      <td>3</td>\n",
       "      <td>NaN</td>\n",
       "      <td>POWER RATIO</td>\n",
       "      <td>NaN</td>\n",
       "      <td>NaN</td>\n",
       "      <td>NaN</td>\n",
       "      <td>NaN</td>\n",
       "      <td>NaN</td>\n",
       "    </tr>\n",
       "    <tr>\n",
       "      <th>4</th>\n",
       "      <td>RELATIVE POWER</td>\n",
       "      <td>Spectral</td>\n",
       "      <td>2</td>\n",
       "      <td>NaN</td>\n",
       "      <td>RELATIVE POWER</td>\n",
       "      <td>NaN</td>\n",
       "      <td>NaN</td>\n",
       "      <td>NaN</td>\n",
       "      <td>NaN</td>\n",
       "      <td>NaN</td>\n",
       "    </tr>\n",
       "    <tr>\n",
       "      <th>0</th>\n",
       "      <td>COMMON SPATIAL PATTERNS</td>\n",
       "      <td>Spatial</td>\n",
       "      <td>4</td>\n",
       "      <td>NaN</td>\n",
       "      <td>NaN</td>\n",
       "      <td>COMMON SPATIAL PATTERNS</td>\n",
       "      <td>NaN</td>\n",
       "      <td>NaN</td>\n",
       "      <td>NaN</td>\n",
       "      <td>NaN</td>\n",
       "    </tr>\n",
       "    <tr>\n",
       "      <th>1</th>\n",
       "      <td>DIFFERENTIAL ASYMMETRY</td>\n",
       "      <td>Spatial</td>\n",
       "      <td>3</td>\n",
       "      <td>NaN</td>\n",
       "      <td>NaN</td>\n",
       "      <td>DIFFERENTIAL ASYMMETRY</td>\n",
       "      <td>NaN</td>\n",
       "      <td>NaN</td>\n",
       "      <td>NaN</td>\n",
       "      <td>NaN</td>\n",
       "    </tr>\n",
       "    <tr>\n",
       "      <th>2</th>\n",
       "      <td>RATIONAL ASYMMETRY</td>\n",
       "      <td>Spatial</td>\n",
       "      <td>3</td>\n",
       "      <td>NaN</td>\n",
       "      <td>NaN</td>\n",
       "      <td>RATIONAL ASYMMETRY</td>\n",
       "      <td>NaN</td>\n",
       "      <td>NaN</td>\n",
       "      <td>NaN</td>\n",
       "      <td>NaN</td>\n",
       "    </tr>\n",
       "    <tr>\n",
       "      <th>3</th>\n",
       "      <td>PHASE-AMPLITUDE SYNCHRONIZATION</td>\n",
       "      <td>Spatial</td>\n",
       "      <td>2</td>\n",
       "      <td>NaN</td>\n",
       "      <td>NaN</td>\n",
       "      <td>PHASE-AMPLITUDE SYNCHRONIZATION</td>\n",
       "      <td>NaN</td>\n",
       "      <td>NaN</td>\n",
       "      <td>NaN</td>\n",
       "      <td>NaN</td>\n",
       "    </tr>\n",
       "    <tr>\n",
       "      <th>4</th>\n",
       "      <td>DIFFERENTIAL CAUDALITY</td>\n",
       "      <td>Spatial</td>\n",
       "      <td>2</td>\n",
       "      <td>NaN</td>\n",
       "      <td>NaN</td>\n",
       "      <td>DIFFERENTIAL CAUDALITY</td>\n",
       "      <td>NaN</td>\n",
       "      <td>NaN</td>\n",
       "      <td>NaN</td>\n",
       "      <td>NaN</td>\n",
       "    </tr>\n",
       "    <tr>\n",
       "      <th>0</th>\n",
       "      <td>DIFFERENTIAL ENTROPY</td>\n",
       "      <td>Information Theory</td>\n",
       "      <td>18</td>\n",
       "      <td>NaN</td>\n",
       "      <td>NaN</td>\n",
       "      <td>NaN</td>\n",
       "      <td>DIFFERENTIAL ENTROPY</td>\n",
       "      <td>NaN</td>\n",
       "      <td>NaN</td>\n",
       "      <td>NaN</td>\n",
       "    </tr>\n",
       "    <tr>\n",
       "      <th>1</th>\n",
       "      <td>SHANNON ENTROPY</td>\n",
       "      <td>Information Theory</td>\n",
       "      <td>3</td>\n",
       "      <td>NaN</td>\n",
       "      <td>NaN</td>\n",
       "      <td>NaN</td>\n",
       "      <td>SHANNON ENTROPY</td>\n",
       "      <td>NaN</td>\n",
       "      <td>NaN</td>\n",
       "      <td>NaN</td>\n",
       "    </tr>\n",
       "    <tr>\n",
       "      <th>2</th>\n",
       "      <td>APPROXIMATE ENTROPY</td>\n",
       "      <td>Information Theory</td>\n",
       "      <td>2</td>\n",
       "      <td>NaN</td>\n",
       "      <td>NaN</td>\n",
       "      <td>NaN</td>\n",
       "      <td>APPROXIMATE ENTROPY</td>\n",
       "      <td>NaN</td>\n",
       "      <td>NaN</td>\n",
       "      <td>NaN</td>\n",
       "    </tr>\n",
       "    <tr>\n",
       "      <th>3</th>\n",
       "      <td>ENTROPY</td>\n",
       "      <td>Information Theory</td>\n",
       "      <td>2</td>\n",
       "      <td>NaN</td>\n",
       "      <td>NaN</td>\n",
       "      <td>NaN</td>\n",
       "      <td>ENTROPY</td>\n",
       "      <td>NaN</td>\n",
       "      <td>NaN</td>\n",
       "      <td>NaN</td>\n",
       "    </tr>\n",
       "    <tr>\n",
       "      <th>4</th>\n",
       "      <td>FUZZY ENTROPY</td>\n",
       "      <td>Information Theory</td>\n",
       "      <td>2</td>\n",
       "      <td>NaN</td>\n",
       "      <td>NaN</td>\n",
       "      <td>NaN</td>\n",
       "      <td>FUZZY ENTROPY</td>\n",
       "      <td>NaN</td>\n",
       "      <td>NaN</td>\n",
       "      <td>NaN</td>\n",
       "    </tr>\n",
       "    <tr>\n",
       "      <th>0</th>\n",
       "      <td>MEAN</td>\n",
       "      <td>Statistical</td>\n",
       "      <td>8</td>\n",
       "      <td>NaN</td>\n",
       "      <td>NaN</td>\n",
       "      <td>NaN</td>\n",
       "      <td>NaN</td>\n",
       "      <td>MEAN</td>\n",
       "      <td>NaN</td>\n",
       "      <td>NaN</td>\n",
       "    </tr>\n",
       "    <tr>\n",
       "      <th>1</th>\n",
       "      <td>MIN-MAX</td>\n",
       "      <td>Statistical</td>\n",
       "      <td>7</td>\n",
       "      <td>NaN</td>\n",
       "      <td>NaN</td>\n",
       "      <td>NaN</td>\n",
       "      <td>NaN</td>\n",
       "      <td>MIN-MAX</td>\n",
       "      <td>NaN</td>\n",
       "      <td>NaN</td>\n",
       "    </tr>\n",
       "    <tr>\n",
       "      <th>2</th>\n",
       "      <td>RMS</td>\n",
       "      <td>Statistical</td>\n",
       "      <td>4</td>\n",
       "      <td>NaN</td>\n",
       "      <td>NaN</td>\n",
       "      <td>NaN</td>\n",
       "      <td>NaN</td>\n",
       "      <td>RMS</td>\n",
       "      <td>NaN</td>\n",
       "      <td>NaN</td>\n",
       "    </tr>\n",
       "    <tr>\n",
       "      <th>3</th>\n",
       "      <td>ENERGY</td>\n",
       "      <td>Statistical</td>\n",
       "      <td>2</td>\n",
       "      <td>NaN</td>\n",
       "      <td>NaN</td>\n",
       "      <td>NaN</td>\n",
       "      <td>NaN</td>\n",
       "      <td>ENERGY</td>\n",
       "      <td>NaN</td>\n",
       "      <td>NaN</td>\n",
       "    </tr>\n",
       "    <tr>\n",
       "      <th>4</th>\n",
       "      <td>POWER SIGNAL</td>\n",
       "      <td>Statistical</td>\n",
       "      <td>2</td>\n",
       "      <td>NaN</td>\n",
       "      <td>NaN</td>\n",
       "      <td>NaN</td>\n",
       "      <td>NaN</td>\n",
       "      <td>POWER SIGNAL</td>\n",
       "      <td>NaN</td>\n",
       "      <td>NaN</td>\n",
       "    </tr>\n",
       "    <tr>\n",
       "      <th>0</th>\n",
       "      <td>GABOR FILTERS</td>\n",
       "      <td>Other</td>\n",
       "      <td>1</td>\n",
       "      <td>NaN</td>\n",
       "      <td>NaN</td>\n",
       "      <td>NaN</td>\n",
       "      <td>NaN</td>\n",
       "      <td>NaN</td>\n",
       "      <td>GABOR FILTERS</td>\n",
       "      <td>NaN</td>\n",
       "    </tr>\n",
       "    <tr>\n",
       "      <th>1</th>\n",
       "      <td>SPECTRAL MASK</td>\n",
       "      <td>Other</td>\n",
       "      <td>1</td>\n",
       "      <td>NaN</td>\n",
       "      <td>NaN</td>\n",
       "      <td>NaN</td>\n",
       "      <td>NaN</td>\n",
       "      <td>NaN</td>\n",
       "      <td>SPECTRAL MASK</td>\n",
       "      <td>NaN</td>\n",
       "    </tr>\n",
       "    <tr>\n",
       "      <th>2</th>\n",
       "      <td>WAVELET ENTROPY</td>\n",
       "      <td>Other</td>\n",
       "      <td>1</td>\n",
       "      <td>NaN</td>\n",
       "      <td>NaN</td>\n",
       "      <td>NaN</td>\n",
       "      <td>NaN</td>\n",
       "      <td>NaN</td>\n",
       "      <td>WAVELET ENTROPY</td>\n",
       "      <td>NaN</td>\n",
       "    </tr>\n",
       "    <tr>\n",
       "      <th>3</th>\n",
       "      <td>PATCH EMBEDDING</td>\n",
       "      <td>Other</td>\n",
       "      <td>1</td>\n",
       "      <td>NaN</td>\n",
       "      <td>NaN</td>\n",
       "      <td>NaN</td>\n",
       "      <td>NaN</td>\n",
       "      <td>NaN</td>\n",
       "      <td>PATCH EMBEDDING</td>\n",
       "      <td>NaN</td>\n",
       "    </tr>\n",
       "    <tr>\n",
       "      <th>4</th>\n",
       "      <td>DETREND FLUCTUATION ANALYSIS</td>\n",
       "      <td>Other</td>\n",
       "      <td>1</td>\n",
       "      <td>NaN</td>\n",
       "      <td>NaN</td>\n",
       "      <td>NaN</td>\n",
       "      <td>NaN</td>\n",
       "      <td>NaN</td>\n",
       "      <td>DETREND FLUCTUATION ANALYSIS</td>\n",
       "      <td>NaN</td>\n",
       "    </tr>\n",
       "    <tr>\n",
       "      <th>0</th>\n",
       "      <td>SHORT-TIME FOURIER TRANSFORM</td>\n",
       "      <td>Extraction Methods</td>\n",
       "      <td>16</td>\n",
       "      <td>NaN</td>\n",
       "      <td>NaN</td>\n",
       "      <td>NaN</td>\n",
       "      <td>NaN</td>\n",
       "      <td>NaN</td>\n",
       "      <td>NaN</td>\n",
       "      <td>SHORT-TIME FOURIER TRANSFORM</td>\n",
       "    </tr>\n",
       "    <tr>\n",
       "      <th>1</th>\n",
       "      <td>DISCRETE WAVELET TRANSFORM</td>\n",
       "      <td>Extraction Methods</td>\n",
       "      <td>7</td>\n",
       "      <td>NaN</td>\n",
       "      <td>NaN</td>\n",
       "      <td>NaN</td>\n",
       "      <td>NaN</td>\n",
       "      <td>NaN</td>\n",
       "      <td>NaN</td>\n",
       "      <td>DISCRETE WAVELET TRANSFORM</td>\n",
       "    </tr>\n",
       "    <tr>\n",
       "      <th>2</th>\n",
       "      <td>EMPIRICAL MODE DECOMPOSITION</td>\n",
       "      <td>Extraction Methods</td>\n",
       "      <td>5</td>\n",
       "      <td>NaN</td>\n",
       "      <td>NaN</td>\n",
       "      <td>NaN</td>\n",
       "      <td>NaN</td>\n",
       "      <td>NaN</td>\n",
       "      <td>NaN</td>\n",
       "      <td>EMPIRICAL MODE DECOMPOSITION</td>\n",
       "    </tr>\n",
       "    <tr>\n",
       "      <th>3</th>\n",
       "      <td>WAVELET TRANSFORM</td>\n",
       "      <td>Extraction Methods</td>\n",
       "      <td>4</td>\n",
       "      <td>NaN</td>\n",
       "      <td>NaN</td>\n",
       "      <td>NaN</td>\n",
       "      <td>NaN</td>\n",
       "      <td>NaN</td>\n",
       "      <td>NaN</td>\n",
       "      <td>WAVELET TRANSFORM</td>\n",
       "    </tr>\n",
       "    <tr>\n",
       "      <th>4</th>\n",
       "      <td>WELCH</td>\n",
       "      <td>Extraction Methods</td>\n",
       "      <td>4</td>\n",
       "      <td>NaN</td>\n",
       "      <td>NaN</td>\n",
       "      <td>NaN</td>\n",
       "      <td>NaN</td>\n",
       "      <td>NaN</td>\n",
       "      <td>NaN</td>\n",
       "      <td>WELCH</td>\n",
       "    </tr>\n",
       "  </tbody>\n",
       "</table>\n",
       "</div>"
      ],
      "text/plain": [
       "                           Feature             Category  count  \\\n",
       "0                          RAW EEG            Temporal      13   \n",
       "1                  HJORTH MOBILITY            Temporal       8   \n",
       "2                HJORTH COMPLEXITY            Temporal       8   \n",
       "3               STANDARD DEVIATION            Temporal       7   \n",
       "4                         KURTOSIS            Temporal       7   \n",
       "0           POWER SPECTRAL DENSITY            Spectral      21   \n",
       "1                       POWER BAND            Spectral       8   \n",
       "2                 SPECTRAL ENTROPY            Spectral       4   \n",
       "3                      POWER RATIO            Spectral       3   \n",
       "4                   RELATIVE POWER            Spectral       2   \n",
       "0          COMMON SPATIAL PATTERNS             Spatial       4   \n",
       "1           DIFFERENTIAL ASYMMETRY             Spatial       3   \n",
       "2               RATIONAL ASYMMETRY             Spatial       3   \n",
       "3  PHASE-AMPLITUDE SYNCHRONIZATION             Spatial       2   \n",
       "4           DIFFERENTIAL CAUDALITY             Spatial       2   \n",
       "0             DIFFERENTIAL ENTROPY  Information Theory      18   \n",
       "1                  SHANNON ENTROPY  Information Theory       3   \n",
       "2              APPROXIMATE ENTROPY  Information Theory       2   \n",
       "3                          ENTROPY  Information Theory       2   \n",
       "4                    FUZZY ENTROPY  Information Theory       2   \n",
       "0                             MEAN         Statistical       8   \n",
       "1                          MIN-MAX         Statistical       7   \n",
       "2                              RMS         Statistical       4   \n",
       "3                           ENERGY         Statistical       2   \n",
       "4                     POWER SIGNAL         Statistical       2   \n",
       "0                    GABOR FILTERS               Other       1   \n",
       "1                    SPECTRAL MASK               Other       1   \n",
       "2                  WAVELET ENTROPY               Other       1   \n",
       "3                  PATCH EMBEDDING               Other       1   \n",
       "4     DETREND FLUCTUATION ANALYSIS               Other       1   \n",
       "0     SHORT-TIME FOURIER TRANSFORM   Extraction Methods     16   \n",
       "1       DISCRETE WAVELET TRANSFORM   Extraction Methods      7   \n",
       "2     EMPIRICAL MODE DECOMPOSITION   Extraction Methods      5   \n",
       "3                WAVELET TRANSFORM   Extraction Methods      4   \n",
       "4                            WELCH   Extraction Methods      4   \n",
       "\n",
       "    Temporal Features       Spectral Features  \\\n",
       "0             RAW EEG                     NaN   \n",
       "1     HJORTH MOBILITY                     NaN   \n",
       "2   HJORTH COMPLEXITY                     NaN   \n",
       "3  STANDARD DEVIATION                     NaN   \n",
       "4            KURTOSIS                     NaN   \n",
       "0                 NaN  POWER SPECTRAL DENSITY   \n",
       "1                 NaN              POWER BAND   \n",
       "2                 NaN        SPECTRAL ENTROPY   \n",
       "3                 NaN             POWER RATIO   \n",
       "4                 NaN          RELATIVE POWER   \n",
       "0                 NaN                     NaN   \n",
       "1                 NaN                     NaN   \n",
       "2                 NaN                     NaN   \n",
       "3                 NaN                     NaN   \n",
       "4                 NaN                     NaN   \n",
       "0                 NaN                     NaN   \n",
       "1                 NaN                     NaN   \n",
       "2                 NaN                     NaN   \n",
       "3                 NaN                     NaN   \n",
       "4                 NaN                     NaN   \n",
       "0                 NaN                     NaN   \n",
       "1                 NaN                     NaN   \n",
       "2                 NaN                     NaN   \n",
       "3                 NaN                     NaN   \n",
       "4                 NaN                     NaN   \n",
       "0                 NaN                     NaN   \n",
       "1                 NaN                     NaN   \n",
       "2                 NaN                     NaN   \n",
       "3                 NaN                     NaN   \n",
       "4                 NaN                     NaN   \n",
       "0                 NaN                     NaN   \n",
       "1                 NaN                     NaN   \n",
       "2                 NaN                     NaN   \n",
       "3                 NaN                     NaN   \n",
       "4                 NaN                     NaN   \n",
       "\n",
       "                  Spatial Features Information Theory Features  \\\n",
       "0                              NaN                         NaN   \n",
       "1                              NaN                         NaN   \n",
       "2                              NaN                         NaN   \n",
       "3                              NaN                         NaN   \n",
       "4                              NaN                         NaN   \n",
       "0                              NaN                         NaN   \n",
       "1                              NaN                         NaN   \n",
       "2                              NaN                         NaN   \n",
       "3                              NaN                         NaN   \n",
       "4                              NaN                         NaN   \n",
       "0          COMMON SPATIAL PATTERNS                         NaN   \n",
       "1           DIFFERENTIAL ASYMMETRY                         NaN   \n",
       "2               RATIONAL ASYMMETRY                         NaN   \n",
       "3  PHASE-AMPLITUDE SYNCHRONIZATION                         NaN   \n",
       "4           DIFFERENTIAL CAUDALITY                         NaN   \n",
       "0                              NaN        DIFFERENTIAL ENTROPY   \n",
       "1                              NaN             SHANNON ENTROPY   \n",
       "2                              NaN         APPROXIMATE ENTROPY   \n",
       "3                              NaN                     ENTROPY   \n",
       "4                              NaN               FUZZY ENTROPY   \n",
       "0                              NaN                         NaN   \n",
       "1                              NaN                         NaN   \n",
       "2                              NaN                         NaN   \n",
       "3                              NaN                         NaN   \n",
       "4                              NaN                         NaN   \n",
       "0                              NaN                         NaN   \n",
       "1                              NaN                         NaN   \n",
       "2                              NaN                         NaN   \n",
       "3                              NaN                         NaN   \n",
       "4                              NaN                         NaN   \n",
       "0                              NaN                         NaN   \n",
       "1                              NaN                         NaN   \n",
       "2                              NaN                         NaN   \n",
       "3                              NaN                         NaN   \n",
       "4                              NaN                         NaN   \n",
       "\n",
       "  Statistical Features                Other Features  \\\n",
       "0                  NaN                           NaN   \n",
       "1                  NaN                           NaN   \n",
       "2                  NaN                           NaN   \n",
       "3                  NaN                           NaN   \n",
       "4                  NaN                           NaN   \n",
       "0                  NaN                           NaN   \n",
       "1                  NaN                           NaN   \n",
       "2                  NaN                           NaN   \n",
       "3                  NaN                           NaN   \n",
       "4                  NaN                           NaN   \n",
       "0                  NaN                           NaN   \n",
       "1                  NaN                           NaN   \n",
       "2                  NaN                           NaN   \n",
       "3                  NaN                           NaN   \n",
       "4                  NaN                           NaN   \n",
       "0                  NaN                           NaN   \n",
       "1                  NaN                           NaN   \n",
       "2                  NaN                           NaN   \n",
       "3                  NaN                           NaN   \n",
       "4                  NaN                           NaN   \n",
       "0                 MEAN                           NaN   \n",
       "1              MIN-MAX                           NaN   \n",
       "2                  RMS                           NaN   \n",
       "3               ENERGY                           NaN   \n",
       "4         POWER SIGNAL                           NaN   \n",
       "0                  NaN                 GABOR FILTERS   \n",
       "1                  NaN                 SPECTRAL MASK   \n",
       "2                  NaN               WAVELET ENTROPY   \n",
       "3                  NaN               PATCH EMBEDDING   \n",
       "4                  NaN  DETREND FLUCTUATION ANALYSIS   \n",
       "0                  NaN                           NaN   \n",
       "1                  NaN                           NaN   \n",
       "2                  NaN                           NaN   \n",
       "3                  NaN                           NaN   \n",
       "4                  NaN                           NaN   \n",
       "\n",
       "    Features Extraction Methods  \n",
       "0                           NaN  \n",
       "1                           NaN  \n",
       "2                           NaN  \n",
       "3                           NaN  \n",
       "4                           NaN  \n",
       "0                           NaN  \n",
       "1                           NaN  \n",
       "2                           NaN  \n",
       "3                           NaN  \n",
       "4                           NaN  \n",
       "0                           NaN  \n",
       "1                           NaN  \n",
       "2                           NaN  \n",
       "3                           NaN  \n",
       "4                           NaN  \n",
       "0                           NaN  \n",
       "1                           NaN  \n",
       "2                           NaN  \n",
       "3                           NaN  \n",
       "4                           NaN  \n",
       "0                           NaN  \n",
       "1                           NaN  \n",
       "2                           NaN  \n",
       "3                           NaN  \n",
       "4                           NaN  \n",
       "0                           NaN  \n",
       "1                           NaN  \n",
       "2                           NaN  \n",
       "3                           NaN  \n",
       "4                           NaN  \n",
       "0  SHORT-TIME FOURIER TRANSFORM  \n",
       "1    DISCRETE WAVELET TRANSFORM  \n",
       "2  EMPIRICAL MODE DECOMPOSITION  \n",
       "3             WAVELET TRANSFORM  \n",
       "4                         WELCH  "
      ]
     },
     "execution_count": 19,
     "metadata": {},
     "output_type": "execute_result"
    }
   ],
   "source": [
    "muf=pd.DataFrame([], columns=['Feature', 'Category', 'count'])\n",
    "muf\n",
    "for i in df_feat.columns:\n",
    "    temp=pd.DataFrame(df_feat[i].value_counts()[0:5]).reset_index()\n",
    "    temp['Category']=i\n",
    "    temp['Feature'] = temp[i]\n",
    "    temp['count'] = temp['count']\n",
    "    #temp.drop(columns='index')\n",
    "\n",
    "    muf=pd.concat([muf, temp], axis=0)\n",
    "\n",
    "muf.replace('Features', '', regex=True, inplace=True)\n",
    "muf\n",
    "\n"
   ]
  },
  {
   "cell_type": "code",
   "execution_count": 20,
   "metadata": {},
   "outputs": [
    {
     "data": {
      "text/html": [
       "<div>\n",
       "<style scoped>\n",
       "    .dataframe tbody tr th:only-of-type {\n",
       "        vertical-align: middle;\n",
       "    }\n",
       "\n",
       "    .dataframe tbody tr th {\n",
       "        vertical-align: top;\n",
       "    }\n",
       "\n",
       "    .dataframe thead th {\n",
       "        text-align: right;\n",
       "    }\n",
       "</style>\n",
       "<table border=\"1\" class=\"dataframe\">\n",
       "  <thead>\n",
       "    <tr style=\"text-align: right;\">\n",
       "      <th></th>\n",
       "      <th>Feature</th>\n",
       "      <th>Category</th>\n",
       "      <th>count</th>\n",
       "      <th>Temporal Features</th>\n",
       "      <th>Spectral Features</th>\n",
       "      <th>Spatial Features</th>\n",
       "      <th>Information Theory Features</th>\n",
       "      <th>Statistical Features</th>\n",
       "      <th>Other Features</th>\n",
       "      <th>Features Extraction Methods</th>\n",
       "    </tr>\n",
       "  </thead>\n",
       "  <tbody>\n",
       "    <tr>\n",
       "      <th>0</th>\n",
       "      <td>RAW EEG</td>\n",
       "      <td>Temporal</td>\n",
       "      <td>13</td>\n",
       "      <td>RAW EEG</td>\n",
       "      <td>NaN</td>\n",
       "      <td>NaN</td>\n",
       "      <td>NaN</td>\n",
       "      <td>NaN</td>\n",
       "      <td>NaN</td>\n",
       "      <td>NaN</td>\n",
       "    </tr>\n",
       "    <tr>\n",
       "      <th>1</th>\n",
       "      <td>HJORTH MOBILITY</td>\n",
       "      <td>Temporal</td>\n",
       "      <td>8</td>\n",
       "      <td>HJORTH MOBILITY</td>\n",
       "      <td>NaN</td>\n",
       "      <td>NaN</td>\n",
       "      <td>NaN</td>\n",
       "      <td>NaN</td>\n",
       "      <td>NaN</td>\n",
       "      <td>NaN</td>\n",
       "    </tr>\n",
       "    <tr>\n",
       "      <th>2</th>\n",
       "      <td>HJORTH COMPLEXITY</td>\n",
       "      <td>Temporal</td>\n",
       "      <td>8</td>\n",
       "      <td>HJORTH COMPLEXITY</td>\n",
       "      <td>NaN</td>\n",
       "      <td>NaN</td>\n",
       "      <td>NaN</td>\n",
       "      <td>NaN</td>\n",
       "      <td>NaN</td>\n",
       "      <td>NaN</td>\n",
       "    </tr>\n",
       "    <tr>\n",
       "      <th>3</th>\n",
       "      <td>STANDARD DEVIATION</td>\n",
       "      <td>Temporal</td>\n",
       "      <td>7</td>\n",
       "      <td>STANDARD DEVIATION</td>\n",
       "      <td>NaN</td>\n",
       "      <td>NaN</td>\n",
       "      <td>NaN</td>\n",
       "      <td>NaN</td>\n",
       "      <td>NaN</td>\n",
       "      <td>NaN</td>\n",
       "    </tr>\n",
       "    <tr>\n",
       "      <th>4</th>\n",
       "      <td>KURTOSIS</td>\n",
       "      <td>Temporal</td>\n",
       "      <td>7</td>\n",
       "      <td>KURTOSIS</td>\n",
       "      <td>NaN</td>\n",
       "      <td>NaN</td>\n",
       "      <td>NaN</td>\n",
       "      <td>NaN</td>\n",
       "      <td>NaN</td>\n",
       "      <td>NaN</td>\n",
       "    </tr>\n",
       "    <tr>\n",
       "      <th>0</th>\n",
       "      <td>POWER SPECTRAL DENSITY</td>\n",
       "      <td>Spectral</td>\n",
       "      <td>21</td>\n",
       "      <td>NaN</td>\n",
       "      <td>POWER SPECTRAL DENSITY</td>\n",
       "      <td>NaN</td>\n",
       "      <td>NaN</td>\n",
       "      <td>NaN</td>\n",
       "      <td>NaN</td>\n",
       "      <td>NaN</td>\n",
       "    </tr>\n",
       "    <tr>\n",
       "      <th>1</th>\n",
       "      <td>POWER BAND</td>\n",
       "      <td>Spectral</td>\n",
       "      <td>8</td>\n",
       "      <td>NaN</td>\n",
       "      <td>POWER BAND</td>\n",
       "      <td>NaN</td>\n",
       "      <td>NaN</td>\n",
       "      <td>NaN</td>\n",
       "      <td>NaN</td>\n",
       "      <td>NaN</td>\n",
       "    </tr>\n",
       "    <tr>\n",
       "      <th>2</th>\n",
       "      <td>SPECTRAL ENTROPY</td>\n",
       "      <td>Spectral</td>\n",
       "      <td>4</td>\n",
       "      <td>NaN</td>\n",
       "      <td>SPECTRAL ENTROPY</td>\n",
       "      <td>NaN</td>\n",
       "      <td>NaN</td>\n",
       "      <td>NaN</td>\n",
       "      <td>NaN</td>\n",
       "      <td>NaN</td>\n",
       "    </tr>\n",
       "    <tr>\n",
       "      <th>3</th>\n",
       "      <td>POWER RATIO</td>\n",
       "      <td>Spectral</td>\n",
       "      <td>3</td>\n",
       "      <td>NaN</td>\n",
       "      <td>POWER RATIO</td>\n",
       "      <td>NaN</td>\n",
       "      <td>NaN</td>\n",
       "      <td>NaN</td>\n",
       "      <td>NaN</td>\n",
       "      <td>NaN</td>\n",
       "    </tr>\n",
       "    <tr>\n",
       "      <th>4</th>\n",
       "      <td>RELATIVE POWER</td>\n",
       "      <td>Spectral</td>\n",
       "      <td>2</td>\n",
       "      <td>NaN</td>\n",
       "      <td>RELATIVE POWER</td>\n",
       "      <td>NaN</td>\n",
       "      <td>NaN</td>\n",
       "      <td>NaN</td>\n",
       "      <td>NaN</td>\n",
       "      <td>NaN</td>\n",
       "    </tr>\n",
       "    <tr>\n",
       "      <th>0</th>\n",
       "      <td>COMMON SPATIAL PATTERNS</td>\n",
       "      <td>Spatial</td>\n",
       "      <td>4</td>\n",
       "      <td>NaN</td>\n",
       "      <td>NaN</td>\n",
       "      <td>COMMON SPATIAL PATTERNS</td>\n",
       "      <td>NaN</td>\n",
       "      <td>NaN</td>\n",
       "      <td>NaN</td>\n",
       "      <td>NaN</td>\n",
       "    </tr>\n",
       "    <tr>\n",
       "      <th>1</th>\n",
       "      <td>DIFFERENTIAL ASYMMETRY</td>\n",
       "      <td>Spatial</td>\n",
       "      <td>3</td>\n",
       "      <td>NaN</td>\n",
       "      <td>NaN</td>\n",
       "      <td>DIFFERENTIAL ASYMMETRY</td>\n",
       "      <td>NaN</td>\n",
       "      <td>NaN</td>\n",
       "      <td>NaN</td>\n",
       "      <td>NaN</td>\n",
       "    </tr>\n",
       "    <tr>\n",
       "      <th>2</th>\n",
       "      <td>RATIONAL ASYMMETRY</td>\n",
       "      <td>Spatial</td>\n",
       "      <td>3</td>\n",
       "      <td>NaN</td>\n",
       "      <td>NaN</td>\n",
       "      <td>RATIONAL ASYMMETRY</td>\n",
       "      <td>NaN</td>\n",
       "      <td>NaN</td>\n",
       "      <td>NaN</td>\n",
       "      <td>NaN</td>\n",
       "    </tr>\n",
       "    <tr>\n",
       "      <th>3</th>\n",
       "      <td>PHASE-AMPLITUDE SYNCHRONIZATION</td>\n",
       "      <td>Spatial</td>\n",
       "      <td>2</td>\n",
       "      <td>NaN</td>\n",
       "      <td>NaN</td>\n",
       "      <td>PHASE-AMPLITUDE SYNCHRONIZATION</td>\n",
       "      <td>NaN</td>\n",
       "      <td>NaN</td>\n",
       "      <td>NaN</td>\n",
       "      <td>NaN</td>\n",
       "    </tr>\n",
       "    <tr>\n",
       "      <th>4</th>\n",
       "      <td>DIFFERENTIAL CAUDALITY</td>\n",
       "      <td>Spatial</td>\n",
       "      <td>2</td>\n",
       "      <td>NaN</td>\n",
       "      <td>NaN</td>\n",
       "      <td>DIFFERENTIAL CAUDALITY</td>\n",
       "      <td>NaN</td>\n",
       "      <td>NaN</td>\n",
       "      <td>NaN</td>\n",
       "      <td>NaN</td>\n",
       "    </tr>\n",
       "    <tr>\n",
       "      <th>0</th>\n",
       "      <td>DIFFERENTIAL ENTROPY</td>\n",
       "      <td>Information Theory</td>\n",
       "      <td>18</td>\n",
       "      <td>NaN</td>\n",
       "      <td>NaN</td>\n",
       "      <td>NaN</td>\n",
       "      <td>DIFFERENTIAL ENTROPY</td>\n",
       "      <td>NaN</td>\n",
       "      <td>NaN</td>\n",
       "      <td>NaN</td>\n",
       "    </tr>\n",
       "    <tr>\n",
       "      <th>1</th>\n",
       "      <td>SHANNON ENTROPY</td>\n",
       "      <td>Information Theory</td>\n",
       "      <td>3</td>\n",
       "      <td>NaN</td>\n",
       "      <td>NaN</td>\n",
       "      <td>NaN</td>\n",
       "      <td>SHANNON ENTROPY</td>\n",
       "      <td>NaN</td>\n",
       "      <td>NaN</td>\n",
       "      <td>NaN</td>\n",
       "    </tr>\n",
       "    <tr>\n",
       "      <th>2</th>\n",
       "      <td>APPROXIMATE ENTROPY</td>\n",
       "      <td>Information Theory</td>\n",
       "      <td>2</td>\n",
       "      <td>NaN</td>\n",
       "      <td>NaN</td>\n",
       "      <td>NaN</td>\n",
       "      <td>APPROXIMATE ENTROPY</td>\n",
       "      <td>NaN</td>\n",
       "      <td>NaN</td>\n",
       "      <td>NaN</td>\n",
       "    </tr>\n",
       "    <tr>\n",
       "      <th>3</th>\n",
       "      <td>ENTROPY</td>\n",
       "      <td>Information Theory</td>\n",
       "      <td>2</td>\n",
       "      <td>NaN</td>\n",
       "      <td>NaN</td>\n",
       "      <td>NaN</td>\n",
       "      <td>ENTROPY</td>\n",
       "      <td>NaN</td>\n",
       "      <td>NaN</td>\n",
       "      <td>NaN</td>\n",
       "    </tr>\n",
       "    <tr>\n",
       "      <th>4</th>\n",
       "      <td>FUZZY ENTROPY</td>\n",
       "      <td>Information Theory</td>\n",
       "      <td>2</td>\n",
       "      <td>NaN</td>\n",
       "      <td>NaN</td>\n",
       "      <td>NaN</td>\n",
       "      <td>FUZZY ENTROPY</td>\n",
       "      <td>NaN</td>\n",
       "      <td>NaN</td>\n",
       "      <td>NaN</td>\n",
       "    </tr>\n",
       "    <tr>\n",
       "      <th>0</th>\n",
       "      <td>MEAN</td>\n",
       "      <td>Statistical</td>\n",
       "      <td>8</td>\n",
       "      <td>NaN</td>\n",
       "      <td>NaN</td>\n",
       "      <td>NaN</td>\n",
       "      <td>NaN</td>\n",
       "      <td>MEAN</td>\n",
       "      <td>NaN</td>\n",
       "      <td>NaN</td>\n",
       "    </tr>\n",
       "    <tr>\n",
       "      <th>1</th>\n",
       "      <td>MIN-MAX</td>\n",
       "      <td>Statistical</td>\n",
       "      <td>7</td>\n",
       "      <td>NaN</td>\n",
       "      <td>NaN</td>\n",
       "      <td>NaN</td>\n",
       "      <td>NaN</td>\n",
       "      <td>MIN-MAX</td>\n",
       "      <td>NaN</td>\n",
       "      <td>NaN</td>\n",
       "    </tr>\n",
       "    <tr>\n",
       "      <th>2</th>\n",
       "      <td>RMS</td>\n",
       "      <td>Statistical</td>\n",
       "      <td>4</td>\n",
       "      <td>NaN</td>\n",
       "      <td>NaN</td>\n",
       "      <td>NaN</td>\n",
       "      <td>NaN</td>\n",
       "      <td>RMS</td>\n",
       "      <td>NaN</td>\n",
       "      <td>NaN</td>\n",
       "    </tr>\n",
       "    <tr>\n",
       "      <th>3</th>\n",
       "      <td>ENERGY</td>\n",
       "      <td>Statistical</td>\n",
       "      <td>2</td>\n",
       "      <td>NaN</td>\n",
       "      <td>NaN</td>\n",
       "      <td>NaN</td>\n",
       "      <td>NaN</td>\n",
       "      <td>ENERGY</td>\n",
       "      <td>NaN</td>\n",
       "      <td>NaN</td>\n",
       "    </tr>\n",
       "    <tr>\n",
       "      <th>4</th>\n",
       "      <td>POWER SIGNAL</td>\n",
       "      <td>Statistical</td>\n",
       "      <td>2</td>\n",
       "      <td>NaN</td>\n",
       "      <td>NaN</td>\n",
       "      <td>NaN</td>\n",
       "      <td>NaN</td>\n",
       "      <td>POWER SIGNAL</td>\n",
       "      <td>NaN</td>\n",
       "      <td>NaN</td>\n",
       "    </tr>\n",
       "    <tr>\n",
       "      <th>0</th>\n",
       "      <td>GABOR FILTERS</td>\n",
       "      <td>Other</td>\n",
       "      <td>1</td>\n",
       "      <td>NaN</td>\n",
       "      <td>NaN</td>\n",
       "      <td>NaN</td>\n",
       "      <td>NaN</td>\n",
       "      <td>NaN</td>\n",
       "      <td>GABOR FILTERS</td>\n",
       "      <td>NaN</td>\n",
       "    </tr>\n",
       "    <tr>\n",
       "      <th>1</th>\n",
       "      <td>SPECTRAL MASK</td>\n",
       "      <td>Other</td>\n",
       "      <td>1</td>\n",
       "      <td>NaN</td>\n",
       "      <td>NaN</td>\n",
       "      <td>NaN</td>\n",
       "      <td>NaN</td>\n",
       "      <td>NaN</td>\n",
       "      <td>SPECTRAL MASK</td>\n",
       "      <td>NaN</td>\n",
       "    </tr>\n",
       "    <tr>\n",
       "      <th>2</th>\n",
       "      <td>WAVELET ENTROPY</td>\n",
       "      <td>Other</td>\n",
       "      <td>1</td>\n",
       "      <td>NaN</td>\n",
       "      <td>NaN</td>\n",
       "      <td>NaN</td>\n",
       "      <td>NaN</td>\n",
       "      <td>NaN</td>\n",
       "      <td>WAVELET ENTROPY</td>\n",
       "      <td>NaN</td>\n",
       "    </tr>\n",
       "    <tr>\n",
       "      <th>3</th>\n",
       "      <td>PATCH EMBEDDING</td>\n",
       "      <td>Other</td>\n",
       "      <td>1</td>\n",
       "      <td>NaN</td>\n",
       "      <td>NaN</td>\n",
       "      <td>NaN</td>\n",
       "      <td>NaN</td>\n",
       "      <td>NaN</td>\n",
       "      <td>PATCH EMBEDDING</td>\n",
       "      <td>NaN</td>\n",
       "    </tr>\n",
       "    <tr>\n",
       "      <th>4</th>\n",
       "      <td>DETREND FLUCTUATION ANALYSIS</td>\n",
       "      <td>Other</td>\n",
       "      <td>1</td>\n",
       "      <td>NaN</td>\n",
       "      <td>NaN</td>\n",
       "      <td>NaN</td>\n",
       "      <td>NaN</td>\n",
       "      <td>NaN</td>\n",
       "      <td>DETREND FLUCTUATION ANALYSIS</td>\n",
       "      <td>NaN</td>\n",
       "    </tr>\n",
       "    <tr>\n",
       "      <th>0</th>\n",
       "      <td>SHORT-TIME FOURIER TRANSFORM</td>\n",
       "      <td>Extraction Methods</td>\n",
       "      <td>16</td>\n",
       "      <td>NaN</td>\n",
       "      <td>NaN</td>\n",
       "      <td>NaN</td>\n",
       "      <td>NaN</td>\n",
       "      <td>NaN</td>\n",
       "      <td>NaN</td>\n",
       "      <td>SHORT-TIME FOURIER TRANSFORM</td>\n",
       "    </tr>\n",
       "    <tr>\n",
       "      <th>1</th>\n",
       "      <td>DISCRETE WAVELET TRANSFORM</td>\n",
       "      <td>Extraction Methods</td>\n",
       "      <td>7</td>\n",
       "      <td>NaN</td>\n",
       "      <td>NaN</td>\n",
       "      <td>NaN</td>\n",
       "      <td>NaN</td>\n",
       "      <td>NaN</td>\n",
       "      <td>NaN</td>\n",
       "      <td>DISCRETE WAVELET TRANSFORM</td>\n",
       "    </tr>\n",
       "    <tr>\n",
       "      <th>2</th>\n",
       "      <td>EMPIRICAL MODE DECOMPOSITION</td>\n",
       "      <td>Extraction Methods</td>\n",
       "      <td>5</td>\n",
       "      <td>NaN</td>\n",
       "      <td>NaN</td>\n",
       "      <td>NaN</td>\n",
       "      <td>NaN</td>\n",
       "      <td>NaN</td>\n",
       "      <td>NaN</td>\n",
       "      <td>EMPIRICAL MODE DECOMPOSITION</td>\n",
       "    </tr>\n",
       "    <tr>\n",
       "      <th>3</th>\n",
       "      <td>WAVELET TRANSFORM</td>\n",
       "      <td>Extraction Methods</td>\n",
       "      <td>4</td>\n",
       "      <td>NaN</td>\n",
       "      <td>NaN</td>\n",
       "      <td>NaN</td>\n",
       "      <td>NaN</td>\n",
       "      <td>NaN</td>\n",
       "      <td>NaN</td>\n",
       "      <td>WAVELET TRANSFORM</td>\n",
       "    </tr>\n",
       "    <tr>\n",
       "      <th>4</th>\n",
       "      <td>WELCH</td>\n",
       "      <td>Extraction Methods</td>\n",
       "      <td>4</td>\n",
       "      <td>NaN</td>\n",
       "      <td>NaN</td>\n",
       "      <td>NaN</td>\n",
       "      <td>NaN</td>\n",
       "      <td>NaN</td>\n",
       "      <td>NaN</td>\n",
       "      <td>WELCH</td>\n",
       "    </tr>\n",
       "  </tbody>\n",
       "</table>\n",
       "</div>"
      ],
      "text/plain": [
       "                           Feature             Category  count  \\\n",
       "0                          RAW EEG            Temporal      13   \n",
       "1                  HJORTH MOBILITY            Temporal       8   \n",
       "2                HJORTH COMPLEXITY            Temporal       8   \n",
       "3               STANDARD DEVIATION            Temporal       7   \n",
       "4                         KURTOSIS            Temporal       7   \n",
       "0           POWER SPECTRAL DENSITY            Spectral      21   \n",
       "1                       POWER BAND            Spectral       8   \n",
       "2                 SPECTRAL ENTROPY            Spectral       4   \n",
       "3                      POWER RATIO            Spectral       3   \n",
       "4                   RELATIVE POWER            Spectral       2   \n",
       "0          COMMON SPATIAL PATTERNS             Spatial       4   \n",
       "1           DIFFERENTIAL ASYMMETRY             Spatial       3   \n",
       "2               RATIONAL ASYMMETRY             Spatial       3   \n",
       "3  PHASE-AMPLITUDE SYNCHRONIZATION             Spatial       2   \n",
       "4           DIFFERENTIAL CAUDALITY             Spatial       2   \n",
       "0             DIFFERENTIAL ENTROPY  Information Theory      18   \n",
       "1                  SHANNON ENTROPY  Information Theory       3   \n",
       "2              APPROXIMATE ENTROPY  Information Theory       2   \n",
       "3                          ENTROPY  Information Theory       2   \n",
       "4                    FUZZY ENTROPY  Information Theory       2   \n",
       "0                             MEAN         Statistical       8   \n",
       "1                          MIN-MAX         Statistical       7   \n",
       "2                              RMS         Statistical       4   \n",
       "3                           ENERGY         Statistical       2   \n",
       "4                     POWER SIGNAL         Statistical       2   \n",
       "0                    GABOR FILTERS               Other       1   \n",
       "1                    SPECTRAL MASK               Other       1   \n",
       "2                  WAVELET ENTROPY               Other       1   \n",
       "3                  PATCH EMBEDDING               Other       1   \n",
       "4     DETREND FLUCTUATION ANALYSIS               Other       1   \n",
       "0     SHORT-TIME FOURIER TRANSFORM   Extraction Methods     16   \n",
       "1       DISCRETE WAVELET TRANSFORM   Extraction Methods      7   \n",
       "2     EMPIRICAL MODE DECOMPOSITION   Extraction Methods      5   \n",
       "3                WAVELET TRANSFORM   Extraction Methods      4   \n",
       "4                            WELCH   Extraction Methods      4   \n",
       "\n",
       "    Temporal Features       Spectral Features  \\\n",
       "0             RAW EEG                     NaN   \n",
       "1     HJORTH MOBILITY                     NaN   \n",
       "2   HJORTH COMPLEXITY                     NaN   \n",
       "3  STANDARD DEVIATION                     NaN   \n",
       "4            KURTOSIS                     NaN   \n",
       "0                 NaN  POWER SPECTRAL DENSITY   \n",
       "1                 NaN              POWER BAND   \n",
       "2                 NaN        SPECTRAL ENTROPY   \n",
       "3                 NaN             POWER RATIO   \n",
       "4                 NaN          RELATIVE POWER   \n",
       "0                 NaN                     NaN   \n",
       "1                 NaN                     NaN   \n",
       "2                 NaN                     NaN   \n",
       "3                 NaN                     NaN   \n",
       "4                 NaN                     NaN   \n",
       "0                 NaN                     NaN   \n",
       "1                 NaN                     NaN   \n",
       "2                 NaN                     NaN   \n",
       "3                 NaN                     NaN   \n",
       "4                 NaN                     NaN   \n",
       "0                 NaN                     NaN   \n",
       "1                 NaN                     NaN   \n",
       "2                 NaN                     NaN   \n",
       "3                 NaN                     NaN   \n",
       "4                 NaN                     NaN   \n",
       "0                 NaN                     NaN   \n",
       "1                 NaN                     NaN   \n",
       "2                 NaN                     NaN   \n",
       "3                 NaN                     NaN   \n",
       "4                 NaN                     NaN   \n",
       "0                 NaN                     NaN   \n",
       "1                 NaN                     NaN   \n",
       "2                 NaN                     NaN   \n",
       "3                 NaN                     NaN   \n",
       "4                 NaN                     NaN   \n",
       "\n",
       "                  Spatial Features Information Theory Features  \\\n",
       "0                              NaN                         NaN   \n",
       "1                              NaN                         NaN   \n",
       "2                              NaN                         NaN   \n",
       "3                              NaN                         NaN   \n",
       "4                              NaN                         NaN   \n",
       "0                              NaN                         NaN   \n",
       "1                              NaN                         NaN   \n",
       "2                              NaN                         NaN   \n",
       "3                              NaN                         NaN   \n",
       "4                              NaN                         NaN   \n",
       "0          COMMON SPATIAL PATTERNS                         NaN   \n",
       "1           DIFFERENTIAL ASYMMETRY                         NaN   \n",
       "2               RATIONAL ASYMMETRY                         NaN   \n",
       "3  PHASE-AMPLITUDE SYNCHRONIZATION                         NaN   \n",
       "4           DIFFERENTIAL CAUDALITY                         NaN   \n",
       "0                              NaN        DIFFERENTIAL ENTROPY   \n",
       "1                              NaN             SHANNON ENTROPY   \n",
       "2                              NaN         APPROXIMATE ENTROPY   \n",
       "3                              NaN                     ENTROPY   \n",
       "4                              NaN               FUZZY ENTROPY   \n",
       "0                              NaN                         NaN   \n",
       "1                              NaN                         NaN   \n",
       "2                              NaN                         NaN   \n",
       "3                              NaN                         NaN   \n",
       "4                              NaN                         NaN   \n",
       "0                              NaN                         NaN   \n",
       "1                              NaN                         NaN   \n",
       "2                              NaN                         NaN   \n",
       "3                              NaN                         NaN   \n",
       "4                              NaN                         NaN   \n",
       "0                              NaN                         NaN   \n",
       "1                              NaN                         NaN   \n",
       "2                              NaN                         NaN   \n",
       "3                              NaN                         NaN   \n",
       "4                              NaN                         NaN   \n",
       "\n",
       "  Statistical Features                Other Features  \\\n",
       "0                  NaN                           NaN   \n",
       "1                  NaN                           NaN   \n",
       "2                  NaN                           NaN   \n",
       "3                  NaN                           NaN   \n",
       "4                  NaN                           NaN   \n",
       "0                  NaN                           NaN   \n",
       "1                  NaN                           NaN   \n",
       "2                  NaN                           NaN   \n",
       "3                  NaN                           NaN   \n",
       "4                  NaN                           NaN   \n",
       "0                  NaN                           NaN   \n",
       "1                  NaN                           NaN   \n",
       "2                  NaN                           NaN   \n",
       "3                  NaN                           NaN   \n",
       "4                  NaN                           NaN   \n",
       "0                  NaN                           NaN   \n",
       "1                  NaN                           NaN   \n",
       "2                  NaN                           NaN   \n",
       "3                  NaN                           NaN   \n",
       "4                  NaN                           NaN   \n",
       "0                 MEAN                           NaN   \n",
       "1              MIN-MAX                           NaN   \n",
       "2                  RMS                           NaN   \n",
       "3               ENERGY                           NaN   \n",
       "4         POWER SIGNAL                           NaN   \n",
       "0                  NaN                 GABOR FILTERS   \n",
       "1                  NaN                 SPECTRAL MASK   \n",
       "2                  NaN               WAVELET ENTROPY   \n",
       "3                  NaN               PATCH EMBEDDING   \n",
       "4                  NaN  DETREND FLUCTUATION ANALYSIS   \n",
       "0                  NaN                           NaN   \n",
       "1                  NaN                           NaN   \n",
       "2                  NaN                           NaN   \n",
       "3                  NaN                           NaN   \n",
       "4                  NaN                           NaN   \n",
       "\n",
       "    Features Extraction Methods  \n",
       "0                           NaN  \n",
       "1                           NaN  \n",
       "2                           NaN  \n",
       "3                           NaN  \n",
       "4                           NaN  \n",
       "0                           NaN  \n",
       "1                           NaN  \n",
       "2                           NaN  \n",
       "3                           NaN  \n",
       "4                           NaN  \n",
       "0                           NaN  \n",
       "1                           NaN  \n",
       "2                           NaN  \n",
       "3                           NaN  \n",
       "4                           NaN  \n",
       "0                           NaN  \n",
       "1                           NaN  \n",
       "2                           NaN  \n",
       "3                           NaN  \n",
       "4                           NaN  \n",
       "0                           NaN  \n",
       "1                           NaN  \n",
       "2                           NaN  \n",
       "3                           NaN  \n",
       "4                           NaN  \n",
       "0                           NaN  \n",
       "1                           NaN  \n",
       "2                           NaN  \n",
       "3                           NaN  \n",
       "4                           NaN  \n",
       "0  SHORT-TIME FOURIER TRANSFORM  \n",
       "1    DISCRETE WAVELET TRANSFORM  \n",
       "2  EMPIRICAL MODE DECOMPOSITION  \n",
       "3             WAVELET TRANSFORM  \n",
       "4                         WELCH  "
      ]
     },
     "execution_count": 20,
     "metadata": {},
     "output_type": "execute_result"
    }
   ],
   "source": [
    "muf"
   ]
  },
  {
   "cell_type": "code",
   "execution_count": 32,
   "metadata": {},
   "outputs": [
    {
     "data": {
      "application/vnd.plotly.v1+json": {
       "config": {
        "plotlyServerURL": "https://plot.ly"
       },
       "data": [
        {
         "type": "bar",
         "x": [
          [
           "Temporal ",
           "Temporal ",
           "Temporal ",
           "Temporal ",
           "Temporal ",
           "Spectral ",
           "Spectral ",
           "Spectral ",
           "Spectral ",
           "Spectral ",
           "Spatial ",
           "Spatial ",
           "Spatial ",
           "Spatial ",
           "Spatial ",
           "Information Theory ",
           "Information Theory ",
           "Information Theory ",
           "Information Theory ",
           "Information Theory ",
           "Statistical ",
           "Statistical ",
           "Statistical ",
           "Statistical ",
           "Statistical ",
           "Other ",
           "Other ",
           "Other ",
           "Other ",
           "Other ",
           " Extraction Methods",
           " Extraction Methods",
           " Extraction Methods",
           " Extraction Methods",
           " Extraction Methods"
          ],
          [
           "RAW EEG",
           "HJORTH MOBILITY",
           "HJORTH COMPLEXITY",
           "STANDARD DEVIATION",
           "KURTOSIS",
           "POWER SPECTRAL DENSITY",
           "POWER BAND",
           "SPECTRAL ENTROPY",
           "POWER RATIO",
           "RELATIVE POWER",
           "COMMON SPATIAL PATTERNS",
           "DIFFERENTIAL ASYMMETRY",
           "RATIONAL ASYMMETRY",
           "PHASE-AMPLITUDE SYNCHRONIZATION",
           "DIFFERENTIAL CAUDALITY",
           "DIFFERENTIAL ENTROPY",
           "SHANNON ENTROPY",
           "APPROXIMATE ENTROPY",
           "ENTROPY",
           "FUZZY ENTROPY",
           "MEAN",
           "MIN-MAX",
           "RMS",
           "ENERGY",
           "POWER SIGNAL",
           "GABOR FILTERS",
           "SPECTRAL MASK",
           "WAVELET ENTROPY",
           "PATCH EMBEDDING",
           "DETREND FLUCTUATION ANALYSIS",
           "SHORT-TIME FOURIER TRANSFORM",
           "DISCRETE WAVELET TRANSFORM",
           "EMPIRICAL MODE DECOMPOSITION",
           "WAVELET TRANSFORM",
           "WELCH"
          ]
         ],
         "y": [
          13,
          8,
          8,
          7,
          7,
          21,
          8,
          4,
          3,
          2,
          4,
          3,
          3,
          2,
          2,
          18,
          3,
          2,
          2,
          2,
          8,
          7,
          4,
          2,
          2,
          1,
          1,
          1,
          1,
          1,
          16,
          7,
          5,
          4,
          4
         ]
        }
       ],
       "layout": {
        "height": 1200,
        "template": {
         "data": {
          "bar": [
           {
            "error_x": {
             "color": "#2a3f5f"
            },
            "error_y": {
             "color": "#2a3f5f"
            },
            "marker": {
             "line": {
              "color": "#E5ECF6",
              "width": 0.5
             },
             "pattern": {
              "fillmode": "overlay",
              "size": 10,
              "solidity": 0.2
             }
            },
            "type": "bar"
           }
          ],
          "barpolar": [
           {
            "marker": {
             "line": {
              "color": "#E5ECF6",
              "width": 0.5
             },
             "pattern": {
              "fillmode": "overlay",
              "size": 10,
              "solidity": 0.2
             }
            },
            "type": "barpolar"
           }
          ],
          "carpet": [
           {
            "aaxis": {
             "endlinecolor": "#2a3f5f",
             "gridcolor": "white",
             "linecolor": "white",
             "minorgridcolor": "white",
             "startlinecolor": "#2a3f5f"
            },
            "baxis": {
             "endlinecolor": "#2a3f5f",
             "gridcolor": "white",
             "linecolor": "white",
             "minorgridcolor": "white",
             "startlinecolor": "#2a3f5f"
            },
            "type": "carpet"
           }
          ],
          "choropleth": [
           {
            "colorbar": {
             "outlinewidth": 0,
             "ticks": ""
            },
            "type": "choropleth"
           }
          ],
          "contour": [
           {
            "colorbar": {
             "outlinewidth": 0,
             "ticks": ""
            },
            "colorscale": [
             [
              0,
              "#0d0887"
             ],
             [
              0.1111111111111111,
              "#46039f"
             ],
             [
              0.2222222222222222,
              "#7201a8"
             ],
             [
              0.3333333333333333,
              "#9c179e"
             ],
             [
              0.4444444444444444,
              "#bd3786"
             ],
             [
              0.5555555555555556,
              "#d8576b"
             ],
             [
              0.6666666666666666,
              "#ed7953"
             ],
             [
              0.7777777777777778,
              "#fb9f3a"
             ],
             [
              0.8888888888888888,
              "#fdca26"
             ],
             [
              1,
              "#f0f921"
             ]
            ],
            "type": "contour"
           }
          ],
          "contourcarpet": [
           {
            "colorbar": {
             "outlinewidth": 0,
             "ticks": ""
            },
            "type": "contourcarpet"
           }
          ],
          "heatmap": [
           {
            "colorbar": {
             "outlinewidth": 0,
             "ticks": ""
            },
            "colorscale": [
             [
              0,
              "#0d0887"
             ],
             [
              0.1111111111111111,
              "#46039f"
             ],
             [
              0.2222222222222222,
              "#7201a8"
             ],
             [
              0.3333333333333333,
              "#9c179e"
             ],
             [
              0.4444444444444444,
              "#bd3786"
             ],
             [
              0.5555555555555556,
              "#d8576b"
             ],
             [
              0.6666666666666666,
              "#ed7953"
             ],
             [
              0.7777777777777778,
              "#fb9f3a"
             ],
             [
              0.8888888888888888,
              "#fdca26"
             ],
             [
              1,
              "#f0f921"
             ]
            ],
            "type": "heatmap"
           }
          ],
          "heatmapgl": [
           {
            "colorbar": {
             "outlinewidth": 0,
             "ticks": ""
            },
            "colorscale": [
             [
              0,
              "#0d0887"
             ],
             [
              0.1111111111111111,
              "#46039f"
             ],
             [
              0.2222222222222222,
              "#7201a8"
             ],
             [
              0.3333333333333333,
              "#9c179e"
             ],
             [
              0.4444444444444444,
              "#bd3786"
             ],
             [
              0.5555555555555556,
              "#d8576b"
             ],
             [
              0.6666666666666666,
              "#ed7953"
             ],
             [
              0.7777777777777778,
              "#fb9f3a"
             ],
             [
              0.8888888888888888,
              "#fdca26"
             ],
             [
              1,
              "#f0f921"
             ]
            ],
            "type": "heatmapgl"
           }
          ],
          "histogram": [
           {
            "marker": {
             "pattern": {
              "fillmode": "overlay",
              "size": 10,
              "solidity": 0.2
             }
            },
            "type": "histogram"
           }
          ],
          "histogram2d": [
           {
            "colorbar": {
             "outlinewidth": 0,
             "ticks": ""
            },
            "colorscale": [
             [
              0,
              "#0d0887"
             ],
             [
              0.1111111111111111,
              "#46039f"
             ],
             [
              0.2222222222222222,
              "#7201a8"
             ],
             [
              0.3333333333333333,
              "#9c179e"
             ],
             [
              0.4444444444444444,
              "#bd3786"
             ],
             [
              0.5555555555555556,
              "#d8576b"
             ],
             [
              0.6666666666666666,
              "#ed7953"
             ],
             [
              0.7777777777777778,
              "#fb9f3a"
             ],
             [
              0.8888888888888888,
              "#fdca26"
             ],
             [
              1,
              "#f0f921"
             ]
            ],
            "type": "histogram2d"
           }
          ],
          "histogram2dcontour": [
           {
            "colorbar": {
             "outlinewidth": 0,
             "ticks": ""
            },
            "colorscale": [
             [
              0,
              "#0d0887"
             ],
             [
              0.1111111111111111,
              "#46039f"
             ],
             [
              0.2222222222222222,
              "#7201a8"
             ],
             [
              0.3333333333333333,
              "#9c179e"
             ],
             [
              0.4444444444444444,
              "#bd3786"
             ],
             [
              0.5555555555555556,
              "#d8576b"
             ],
             [
              0.6666666666666666,
              "#ed7953"
             ],
             [
              0.7777777777777778,
              "#fb9f3a"
             ],
             [
              0.8888888888888888,
              "#fdca26"
             ],
             [
              1,
              "#f0f921"
             ]
            ],
            "type": "histogram2dcontour"
           }
          ],
          "mesh3d": [
           {
            "colorbar": {
             "outlinewidth": 0,
             "ticks": ""
            },
            "type": "mesh3d"
           }
          ],
          "parcoords": [
           {
            "line": {
             "colorbar": {
              "outlinewidth": 0,
              "ticks": ""
             }
            },
            "type": "parcoords"
           }
          ],
          "pie": [
           {
            "automargin": true,
            "type": "pie"
           }
          ],
          "scatter": [
           {
            "fillpattern": {
             "fillmode": "overlay",
             "size": 10,
             "solidity": 0.2
            },
            "type": "scatter"
           }
          ],
          "scatter3d": [
           {
            "line": {
             "colorbar": {
              "outlinewidth": 0,
              "ticks": ""
             }
            },
            "marker": {
             "colorbar": {
              "outlinewidth": 0,
              "ticks": ""
             }
            },
            "type": "scatter3d"
           }
          ],
          "scattercarpet": [
           {
            "marker": {
             "colorbar": {
              "outlinewidth": 0,
              "ticks": ""
             }
            },
            "type": "scattercarpet"
           }
          ],
          "scattergeo": [
           {
            "marker": {
             "colorbar": {
              "outlinewidth": 0,
              "ticks": ""
             }
            },
            "type": "scattergeo"
           }
          ],
          "scattergl": [
           {
            "marker": {
             "colorbar": {
              "outlinewidth": 0,
              "ticks": ""
             }
            },
            "type": "scattergl"
           }
          ],
          "scattermapbox": [
           {
            "marker": {
             "colorbar": {
              "outlinewidth": 0,
              "ticks": ""
             }
            },
            "type": "scattermapbox"
           }
          ],
          "scatterpolar": [
           {
            "marker": {
             "colorbar": {
              "outlinewidth": 0,
              "ticks": ""
             }
            },
            "type": "scatterpolar"
           }
          ],
          "scatterpolargl": [
           {
            "marker": {
             "colorbar": {
              "outlinewidth": 0,
              "ticks": ""
             }
            },
            "type": "scatterpolargl"
           }
          ],
          "scatterternary": [
           {
            "marker": {
             "colorbar": {
              "outlinewidth": 0,
              "ticks": ""
             }
            },
            "type": "scatterternary"
           }
          ],
          "surface": [
           {
            "colorbar": {
             "outlinewidth": 0,
             "ticks": ""
            },
            "colorscale": [
             [
              0,
              "#0d0887"
             ],
             [
              0.1111111111111111,
              "#46039f"
             ],
             [
              0.2222222222222222,
              "#7201a8"
             ],
             [
              0.3333333333333333,
              "#9c179e"
             ],
             [
              0.4444444444444444,
              "#bd3786"
             ],
             [
              0.5555555555555556,
              "#d8576b"
             ],
             [
              0.6666666666666666,
              "#ed7953"
             ],
             [
              0.7777777777777778,
              "#fb9f3a"
             ],
             [
              0.8888888888888888,
              "#fdca26"
             ],
             [
              1,
              "#f0f921"
             ]
            ],
            "type": "surface"
           }
          ],
          "table": [
           {
            "cells": {
             "fill": {
              "color": "#EBF0F8"
             },
             "line": {
              "color": "white"
             }
            },
            "header": {
             "fill": {
              "color": "#C8D4E3"
             },
             "line": {
              "color": "white"
             }
            },
            "type": "table"
           }
          ]
         },
         "layout": {
          "annotationdefaults": {
           "arrowcolor": "#2a3f5f",
           "arrowhead": 0,
           "arrowwidth": 1
          },
          "autotypenumbers": "strict",
          "coloraxis": {
           "colorbar": {
            "outlinewidth": 0,
            "ticks": ""
           }
          },
          "colorscale": {
           "diverging": [
            [
             0,
             "#8e0152"
            ],
            [
             0.1,
             "#c51b7d"
            ],
            [
             0.2,
             "#de77ae"
            ],
            [
             0.3,
             "#f1b6da"
            ],
            [
             0.4,
             "#fde0ef"
            ],
            [
             0.5,
             "#f7f7f7"
            ],
            [
             0.6,
             "#e6f5d0"
            ],
            [
             0.7,
             "#b8e186"
            ],
            [
             0.8,
             "#7fbc41"
            ],
            [
             0.9,
             "#4d9221"
            ],
            [
             1,
             "#276419"
            ]
           ],
           "sequential": [
            [
             0,
             "#0d0887"
            ],
            [
             0.1111111111111111,
             "#46039f"
            ],
            [
             0.2222222222222222,
             "#7201a8"
            ],
            [
             0.3333333333333333,
             "#9c179e"
            ],
            [
             0.4444444444444444,
             "#bd3786"
            ],
            [
             0.5555555555555556,
             "#d8576b"
            ],
            [
             0.6666666666666666,
             "#ed7953"
            ],
            [
             0.7777777777777778,
             "#fb9f3a"
            ],
            [
             0.8888888888888888,
             "#fdca26"
            ],
            [
             1,
             "#f0f921"
            ]
           ],
           "sequentialminus": [
            [
             0,
             "#0d0887"
            ],
            [
             0.1111111111111111,
             "#46039f"
            ],
            [
             0.2222222222222222,
             "#7201a8"
            ],
            [
             0.3333333333333333,
             "#9c179e"
            ],
            [
             0.4444444444444444,
             "#bd3786"
            ],
            [
             0.5555555555555556,
             "#d8576b"
            ],
            [
             0.6666666666666666,
             "#ed7953"
            ],
            [
             0.7777777777777778,
             "#fb9f3a"
            ],
            [
             0.8888888888888888,
             "#fdca26"
            ],
            [
             1,
             "#f0f921"
            ]
           ]
          },
          "colorway": [
           "#636efa",
           "#EF553B",
           "#00cc96",
           "#ab63fa",
           "#FFA15A",
           "#19d3f3",
           "#FF6692",
           "#B6E880",
           "#FF97FF",
           "#FECB52"
          ],
          "font": {
           "color": "#2a3f5f"
          },
          "geo": {
           "bgcolor": "white",
           "lakecolor": "white",
           "landcolor": "#E5ECF6",
           "showlakes": true,
           "showland": true,
           "subunitcolor": "white"
          },
          "hoverlabel": {
           "align": "left"
          },
          "hovermode": "closest",
          "mapbox": {
           "style": "light"
          },
          "paper_bgcolor": "white",
          "plot_bgcolor": "#E5ECF6",
          "polar": {
           "angularaxis": {
            "gridcolor": "white",
            "linecolor": "white",
            "ticks": ""
           },
           "bgcolor": "#E5ECF6",
           "radialaxis": {
            "gridcolor": "white",
            "linecolor": "white",
            "ticks": ""
           }
          },
          "scene": {
           "xaxis": {
            "backgroundcolor": "#E5ECF6",
            "gridcolor": "white",
            "gridwidth": 2,
            "linecolor": "white",
            "showbackground": true,
            "ticks": "",
            "zerolinecolor": "white"
           },
           "yaxis": {
            "backgroundcolor": "#E5ECF6",
            "gridcolor": "white",
            "gridwidth": 2,
            "linecolor": "white",
            "showbackground": true,
            "ticks": "",
            "zerolinecolor": "white"
           },
           "zaxis": {
            "backgroundcolor": "#E5ECF6",
            "gridcolor": "white",
            "gridwidth": 2,
            "linecolor": "white",
            "showbackground": true,
            "ticks": "",
            "zerolinecolor": "white"
           }
          },
          "shapedefaults": {
           "line": {
            "color": "#2a3f5f"
           }
          },
          "ternary": {
           "aaxis": {
            "gridcolor": "white",
            "linecolor": "white",
            "ticks": ""
           },
           "baxis": {
            "gridcolor": "white",
            "linecolor": "white",
            "ticks": ""
           },
           "bgcolor": "#E5ECF6",
           "caxis": {
            "gridcolor": "white",
            "linecolor": "white",
            "ticks": ""
           }
          },
          "title": {
           "x": 0.05
          },
          "xaxis": {
           "automargin": true,
           "gridcolor": "white",
           "linecolor": "white",
           "ticks": "",
           "title": {
            "standoff": 15
           },
           "zerolinecolor": "white",
           "zerolinewidth": 2
          },
          "yaxis": {
           "automargin": true,
           "gridcolor": "white",
           "linecolor": "white",
           "ticks": "",
           "title": {
            "standoff": 15
           },
           "zerolinecolor": "white",
           "zerolinewidth": 2
          }
         }
        },
        "width": 2200
       }
      }
     },
     "metadata": {},
     "output_type": "display_data"
    }
   ],
   "source": [
    "import plotly.graph_objects as go\n",
    "x = [\n",
    "    muf['Category'].values.tolist(),\n",
    "    muf['Feature'].values.tolist()\n",
    "    \n",
    "]\n",
    "\n",
    "fig = go.Figure()\n",
    "fig.add_bar(x=x,y=muf['count'].values.tolist())#, text=muf['count'].values.tolist())\n",
    "\n",
    "fig.update_layout(width=2200, height=1200)  # Customize the width and height in pixels\n",
    "#fig.update_traces( textposition='outside')\n",
    "\n",
    "fig.show()"
   ]
  },
  {
   "cell_type": "code",
   "execution_count": 22,
   "metadata": {},
   "outputs": [],
   "source": [
    "class_feat_acc.replace({'LS-SVM':'SVM', 'KSVM':'SVM'}, inplace=True)\n",
    "class_feat_acc.replace({'RLDA':'LDA', 'BLDA':'LDA'}, inplace=True)\n",
    "class_feat_acc.replace({'SBELM':'ELM', 'HELM':'ELM'}, inplace=True)\n",
    "class_feat_acc.replace({'BI-LSTM ':'LSTM'}, inplace=True)\n"
   ]
  },
  {
   "cell_type": "code",
   "execution_count": 23,
   "metadata": {},
   "outputs": [],
   "source": [
    "#SVM, CNN, RF, KNN, LDA\n",
    "#POWER SPECTRAL DENSITY, DIFFERENTIAL ENTROPY, SHORT-TIME FOURIER TRANSFORM,  RAW EEG, HJORTH MOBILITY\t\n",
    "SVM_f=class_feat_acc[class_feat_acc.classifiers=='SVM'].features.value_counts().reset_index()\n",
    "CNN_f=class_feat_acc[class_feat_acc.classifiers=='CNN'].features.value_counts().reset_index()\n",
    "RF_f=class_feat_acc[class_feat_acc.classifiers=='RF'].features.value_counts().reset_index()\n",
    "KNN_f=class_feat_acc[class_feat_acc.classifiers=='KNN'].features.value_counts().reset_index()\n",
    "LDA_f=class_feat_acc[class_feat_acc.classifiers=='LDA'].features.value_counts().reset_index()\n",
    "\n",
    "SVM=class_feat_acc[class_feat_acc.classifiers=='SVM'].groupby(['features']).agg(max=('acc', 'max'), \n",
    "                                                                           min=('acc', 'min'),\n",
    "                                                                           mean=('acc', 'mean')).reset_index()\n",
    "\n",
    "CNN=class_feat_acc[class_feat_acc.classifiers=='CNN'].groupby(['features']).agg(max=('acc', 'max'), \n",
    "                                                                           min=('acc', 'min'),\n",
    "                                                                           mean=('acc', 'mean')).reset_index()\n",
    "RF=class_feat_acc[class_feat_acc.classifiers=='RF'].groupby(['features']).agg(max=('acc', 'max'), \n",
    "                                                                           min=('acc', 'min'),\n",
    "                                                                           mean=('acc', 'mean')).reset_index()\n",
    "KNN=class_feat_acc[class_feat_acc.classifiers=='KNN'].groupby(['features']).agg(max=('acc', 'max'), \n",
    "                                                                           min=('acc', 'min'),\n",
    "                                                                           mean=('acc', 'mean')).reset_index()\n",
    "LDA=class_feat_acc[class_feat_acc.classifiers=='LDA'].groupby(['features']).agg(max=('acc', 'max'), \n",
    "                                                                           min=('acc', 'min'),\n",
    "                                                                           mean=('acc', 'mean')).reset_index()"
   ]
  },
  {
   "cell_type": "code",
   "execution_count": 24,
   "metadata": {},
   "outputs": [
    {
     "data": {
      "text/html": [
       "<div>\n",
       "<style scoped>\n",
       "    .dataframe tbody tr th:only-of-type {\n",
       "        vertical-align: middle;\n",
       "    }\n",
       "\n",
       "    .dataframe tbody tr th {\n",
       "        vertical-align: top;\n",
       "    }\n",
       "\n",
       "    .dataframe thead th {\n",
       "        text-align: right;\n",
       "    }\n",
       "</style>\n",
       "<table border=\"1\" class=\"dataframe\">\n",
       "  <thead>\n",
       "    <tr style=\"text-align: right;\">\n",
       "      <th></th>\n",
       "      <th>features</th>\n",
       "      <th>max</th>\n",
       "      <th>min</th>\n",
       "      <th>mean</th>\n",
       "    </tr>\n",
       "  </thead>\n",
       "  <tbody>\n",
       "    <tr>\n",
       "      <th>17</th>\n",
       "      <td>POWER BAND</td>\n",
       "      <td>0.77</td>\n",
       "      <td>0.69</td>\n",
       "      <td>0.73</td>\n",
       "    </tr>\n",
       "  </tbody>\n",
       "</table>\n",
       "</div>"
      ],
      "text/plain": [
       "      features   max   min  mean\n",
       "17  POWER BAND  0.77  0.69  0.73"
      ]
     },
     "execution_count": 24,
     "metadata": {},
     "output_type": "execute_result"
    }
   ],
   "source": [
    "#LDA_f\n",
    "LDA[LDA.features=='POWER BAND']"
   ]
  }
 ],
 "metadata": {
  "kernelspec": {
   "display_name": "Python 3",
   "language": "python",
   "name": "python3"
  },
  "language_info": {
   "codemirror_mode": {
    "name": "ipython",
    "version": 3
   },
   "file_extension": ".py",
   "mimetype": "text/x-python",
   "name": "python",
   "nbconvert_exporter": "python",
   "pygments_lexer": "ipython3",
   "version": "3.11.1"
  }
 },
 "nbformat": 4,
 "nbformat_minor": 2
}
