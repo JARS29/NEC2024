{
 "cells": [
  {
   "cell_type": "code",
   "execution_count": 175,
   "metadata": {},
   "outputs": [],
   "source": [
    "import pandas as pd\n",
    "import numpy as np\n",
    "data = pd.read_excel('BCI_review_mental_states.xlsx')"
   ]
  },
  {
   "cell_type": "code",
   "execution_count": 33,
   "metadata": {},
   "outputs": [
    {
     "data": {
      "text/plain": [
       "Index(['Tipo de articulo', 'Metodo de clasificacion', 'Paradigm',\n",
       "       'Aplication_1', 'Aplication_2', 'Temporal Features',\n",
       "       'Frequency Features', 'Other Features', 'Subjects Male',\n",
       "       'Subjects Female', 'Dataset', 'EEG equipment', 'Classes', 'Accuracies',\n",
       "       'Titulo del articulo', 'Resumen', 'Año de publicación',\n",
       "       'Lugar de plublicación ', 'paginas', 'Autor 1', 'Autor 2', 'Autor 3',\n",
       "       'Autor 4', 'Autor 5', 'Autor 6', 'Palabra clave 1', 'Palabra clave 2',\n",
       "       'Palabra clave 3', 'Palabra clave 4', 'Palabra clave 5',\n",
       "       'Palabra clave 6', 'Palabra clave 7', ' Palabra clave 8',\n",
       "       'Palabra clave 9', 'Palabra clave 10', 'Palabra clave 11',\n",
       "       'Palabra clave 12', 'Palabra clave 13', 'isbn'],\n",
       "      dtype='object')"
      ]
     },
     "execution_count": 33,
     "metadata": {},
     "output_type": "execute_result"
    }
   ],
   "source": [
    "data.columns"
   ]
  },
  {
   "cell_type": "code",
   "execution_count": 176,
   "metadata": {},
   "outputs": [],
   "source": [
    "Temporal_features = []\n",
    "for i in data['Temporal Features'].unique():\n",
    "    if i is not pd.NA and isinstance(i, str):\n",
    "        for j in i.split(','):\n",
    "            Temporal_features.append(j.title().strip())\n",
    "        \n"
   ]
  },
  {
   "cell_type": "code",
   "execution_count": 177,
   "metadata": {},
   "outputs": [],
   "source": [
    "spectral_features = []\n",
    "for i in data['Other Features'].unique():\n",
    "    if i is not pd.NA and isinstance(i, str):\n",
    "        for j in i.split(','):\n",
    "            feature =j.title().strip()\n",
    "            if feature.find('(') != -1:\n",
    "                spectral_features.append(feature[0:feature.find('(')].strip())\n",
    "            else:\n",
    "                spectral_features.append(feature)\n",
    "        "
   ]
  },
  {
   "cell_type": "code",
   "execution_count": 128,
   "metadata": {},
   "outputs": [
    {
     "data": {
      "text/plain": [
       "array(['Absolute Value Of Cube', 'Absolute Value Of Square Root',\n",
       "       'Average Power', 'Cardinality', 'Coefficient Of Variation',\n",
       "       'Crest Factor', 'Detrend Fluctuation Analysis',\n",
       "       'Difference Absolute Standard Deviation Value',\n",
       "       'Difference Variance Value', 'Entropy', 'First Order Derivative',\n",
       "       'Fractal Dimension', 'Hjorth Activity', 'Hjorth Complexity',\n",
       "       'Hjorth Mobility', 'Hurts', 'Interquartile Range', 'Kurtosis',\n",
       "       'Latency Amplitude', 'Latency-Amplitude Ratio', 'Line Lenght',\n",
       "       'Log Coefficient Of Variation', 'Log Energy Entropy', 'Mean',\n",
       "       'Mean Teager Energy', 'Median', 'Min-Max',\n",
       "       'Modified Mean Absolute Value', 'Normalized First Difference',\n",
       "       'Normalized Second Difference', 'Peak Counts', 'Peak-To-Peak',\n",
       "       'Power Signal', 'Pulse Index', 'Quantile', 'Relative Power',\n",
       "       'Renyi Entropy', 'Rms', 'Second Order Derivative', 'Shape Factor',\n",
       "       'Skewness', 'Slope Sign Change', 'Spectral Centroid',\n",
       "       'Spectral Crest', 'Spectral Decrease', 'Spectral Entropy',\n",
       "       'Spectral Flatness', 'Spectral Flux', 'Spectral Kurtosis',\n",
       "       'Spectral Rolloff Point', 'Spectral Skewness', 'Spectral Slope',\n",
       "       'Spectral Spread', 'Standard Deviation', 'Threshold Crossing',\n",
       "       'Variance', 'Zero-Crossing Autocorrelation', 'Zero-Crossing Rate',\n",
       "       'Zero-Mean Crossing Rate'], dtype='<U44')"
      ]
     },
     "execution_count": 128,
     "metadata": {},
     "output_type": "execute_result"
    }
   ],
   "source": [
    "np.unique(Temporal_features)"
   ]
  },
  {
   "cell_type": "code",
   "execution_count": 127,
   "metadata": {},
   "outputs": [
    {
     "data": {
      "text/plain": [
       "array(['', 'Absolute Power', 'Amplitude Synchronization',\n",
       "       'Approximate Entropy', 'Assortativity', 'Autoencoder',\n",
       "       'Average Clustering Coefficient', 'Average Degree Centrality',\n",
       "       'Average Degree Connectivity', 'Average Shortest Path Length',\n",
       "       'Betweenness Centrality', 'Channel Asymmetries',\n",
       "       'Channel Correlation Images',\n",
       "       'Circulant Singular Spectrum Analysis', 'Clustering Coefficient',\n",
       "       'Coherence', 'Common Spatial Patterns',\n",
       "       'Continuos Wavelet Transform', 'Differential Asymmetry',\n",
       "       'Differential Caudality', 'Differential Entropy',\n",
       "       'Digitally Linked Ears', 'Discrete Fast Fourier Transform',\n",
       "       'Discrete Wavelet Transform', 'Empirical Mode Decomposition',\n",
       "       'Energy', 'Entropy', 'Fast Fourier Transform',\n",
       "       'Filter Bank Common Spatial Patterns',\n",
       "       'Filter Bank Tangent Spatial Classifier', 'Frobenius Norm',\n",
       "       'Frontal Alpha Asymmetry Index', 'Frontal Asymmetry Index',\n",
       "       'Functional Source Separation', 'Fuzzy Entropy', 'Gabor Filters',\n",
       "       'Global Efficiency', 'Hilbert Transform',\n",
       "       'Indepent Component Analysis', 'Information Potential',\n",
       "       'Log-Euclidean Distance', 'Long-Short Term Memory',\n",
       "       'Maximum Entropy Method', 'Modularity',\n",
       "       'Multi-Scale Fuzzy Entropy', 'Multi-Scale Permutation Entropy',\n",
       "       'Multi-Scale Sample Entropy', 'Node Degree',\n",
       "       'Optimal Community Structure', 'Patch Embedding', 'Periodogram',\n",
       "       'Permutation Entropy', 'Phase Locking Value',\n",
       "       'Phase Synchronization', 'Phase-Amplitude Synchronization',\n",
       "       'Power Band', 'Power Difference', 'Power Ratio',\n",
       "       'Power Spectral Density', 'Power Spectrum Ratio',\n",
       "       'Principal Component Analysis', 'Random Fractal Dimension',\n",
       "       'Rational Asymmetry', 'Raw Eeg', 'Relative Power',\n",
       "       'Sample Entropy', 'Shannon Entropy',\n",
       "       'Short-Time Fourier Transform', 'Spatial Mask', 'Spectral Energy',\n",
       "       'Spectral Entropy', 'Spectral Mask', 'Spectral Norm',\n",
       "       'Synthetic Minority Oversampling Technique', 'Transitivity',\n",
       "       'Variational Autoencoder', 'Wavelet Entropy',\n",
       "       'Wavelet Packet Transform', 'Wavelet Transform', 'Welch',\n",
       "       'Welch Power Spectrum', 'Xdawn'], dtype='<U41')"
      ]
     },
     "execution_count": 127,
     "metadata": {},
     "output_type": "execute_result"
    }
   ],
   "source": [
    "np.unique(spectral_features)"
   ]
  },
  {
   "cell_type": "code",
   "execution_count": 178,
   "metadata": {},
   "outputs": [],
   "source": [
    "full_features=np.hstack([np.unique(spectral_features), np.unique(Temporal_features)])"
   ]
  },
  {
   "cell_type": "code",
   "execution_count": 138,
   "metadata": {},
   "outputs": [
    {
     "data": {
      "text/plain": [
       "array(['', 'Absolute Power', 'Amplitude Synchronization',\n",
       "       'Approximate Entropy', 'Assortativity', 'Autoencoder',\n",
       "       'Average Clustering Coefficient', 'Average Degree Centrality',\n",
       "       'Average Degree Connectivity', 'Average Shortest Path Length',\n",
       "       'Betweenness Centrality', 'Channel Asymmetries',\n",
       "       'Channel Correlation Images',\n",
       "       'Circulant Singular Spectrum Analysis', 'Clustering Coefficient',\n",
       "       'Coherence', 'Common Spatial Patterns',\n",
       "       'Continuos Wavelet Transform', 'Differential Asymmetry',\n",
       "       'Differential Caudality', 'Differential Entropy',\n",
       "       'Digitally Linked Ears', 'Discrete Fast Fourier Transform',\n",
       "       'Discrete Wavelet Transform', 'Empirical Mode Decomposition',\n",
       "       'Energy', 'Entropy', 'Fast Fourier Transform',\n",
       "       'Filter Bank Common Spatial Patterns',\n",
       "       'Filter Bank Tangent Spatial Classifier', 'Frobenius Norm',\n",
       "       'Frontal Alpha Asymmetry Index', 'Frontal Asymmetry Index',\n",
       "       'Functional Source Separation', 'Fuzzy Entropy', 'Gabor Filters',\n",
       "       'Global Efficiency', 'Hilbert Transform',\n",
       "       'Independent Component Analysis', 'Information Potential',\n",
       "       'Log-Euclidean Distance', 'Long-Short Term Memory',\n",
       "       'Maximum Entropy Method', 'Modularity',\n",
       "       'Multi-Scale Fuzzy Entropy', 'Multi-Scale Permutation Entropy',\n",
       "       'Multi-Scale Sample Entropy', 'Node Degree',\n",
       "       'Optimal Community Structure', 'Patch Embedding', 'Periodogram',\n",
       "       'Permutation Entropy', 'Phase Locking Value',\n",
       "       'Phase Synchronization', 'Phase-Amplitude Synchronization',\n",
       "       'Power Band', 'Power Difference', 'Power Ratio',\n",
       "       'Power Spectral Density', 'Power Spectrum Ratio',\n",
       "       'Principal Component Analysis', 'Random Fractal Dimension',\n",
       "       'Rational Asymmetry', 'Raw Eeg', 'Relative Power',\n",
       "       'Sample Entropy', 'Shannon Entropy',\n",
       "       'Short-Time Fourier Transform', 'Spatial Mask', 'Spectral Energy',\n",
       "       'Spectral Entropy', 'Spectral Mask', 'Spectral Norm',\n",
       "       'Synthetic Minority Oversampling Technique', 'Transitivity',\n",
       "       'Variational Autoencoder', 'Wavelet Entropy',\n",
       "       'Wavelet Packet Transform', 'Wavelet Transform', 'Welch',\n",
       "       'Welch Power Spectrum', 'Xdawn', 'Absolute Value Of Cube',\n",
       "       'Absolute Value Of Square Root', 'Average Power', 'Cardinality',\n",
       "       'Coefficient Of Variation', 'Crest Factor',\n",
       "       'Detrend Fluctuation Analysis',\n",
       "       'Difference Absolute Standard Deviation Value',\n",
       "       'Difference Variance Value', 'Entropy', 'First Order Derivative',\n",
       "       'Fractal Dimension', 'Hjorth Activity', 'Hjorth Complexity',\n",
       "       'Hjorth Mobility', 'Hurts', 'Interquartile Range', 'Kurtosis',\n",
       "       'Latency Amplitude', 'Latency-Amplitude Ratio', 'Line Length',\n",
       "       'Log Coefficient Of Variation', 'Log Energy Entropy', 'Mean',\n",
       "       'Mean Teager Energy', 'Median', 'Min-Max',\n",
       "       'Modified Mean Absolute Value', 'Normalized First Difference',\n",
       "       'Normalized Second Difference', 'Peak Counts', 'Peak-To-Peak',\n",
       "       'Power Signal', 'Pulse Index', 'Quantile', 'Relative Power',\n",
       "       'Renyi Entropy', 'Rms', 'Second Order Derivative', 'Shape Factor',\n",
       "       'Skewness', 'Slope Sign Change', 'Spectral Centroid',\n",
       "       'Spectral Crest', 'Spectral Decrease', 'Spectral Entropy',\n",
       "       'Spectral Flatness', 'Spectral Flux', 'Spectral Kurtosis',\n",
       "       'Spectral Rolloff Point', 'Spectral Skewness', 'Spectral Slope',\n",
       "       'Spectral Spread', 'Standard Deviation', 'Threshold Crossing',\n",
       "       'Variance', 'Zero-Crossing Autocorrelation', 'Zero-Crossing Rate',\n",
       "       'Zero-Mean Crossing Rate'], dtype='<U44')"
      ]
     },
     "execution_count": 138,
     "metadata": {},
     "output_type": "execute_result"
    }
   ],
   "source": [
    "full_features"
   ]
  },
  {
   "cell_type": "code",
   "execution_count": 179,
   "metadata": {},
   "outputs": [],
   "source": [
    "glossary = pd.read_excel('BCI_review_mental_states.xlsx', sheet_name='Sheet2')"
   ]
  },
  {
   "cell_type": "code",
   "execution_count": 140,
   "metadata": {},
   "outputs": [
    {
     "data": {
      "text/plain": [
       "array([['Approximate Entropy', 'Absolute Power', 'Coherence',\n",
       "        'Continuos Wavelet Transform', 'Shannon Entropy', 'Mean',\n",
       "        'Gabor Filters', 'Principal Component Analysis'],\n",
       "       ['Fuzzy Entropy', 'Relative Power', 'Phase Synchronization',\n",
       "        'Discrete Wavelet Transform', 'Differential Entropy', 'Median',\n",
       "        'Patch Embedding', 'Independent Component Analysis'],\n",
       "       ['Permutation Entropy', 'Power Spectral Density',\n",
       "        'Phase-Amplitude Synchronization', 'Wavelet Packet Transform',\n",
       "        'Approximate Entropy', 'Min-Max', nan, 'Autoencoder'],\n",
       "       ['Multi-Scale Permutation Entropy', 'Power Band',\n",
       "        'Amplitude Synchronization', 'Wavelet Entropy', 'Sample Entropy',\n",
       "        'Cardinality', nan, 'Variational Autoencoder'],\n",
       "       ['Sample Entropy', 'Spectral Energy',\n",
       "        'Channel Correlation Images', nan, 'Fuzzy Entropy', 'Quantile',\n",
       "        nan, 'Functional Source Separation'],\n",
       "       ['Multi-Scale Sample Entropy ', 'Spectral Centroid',\n",
       "        'Differential Asymmetry', nan, 'Multi-Scale Sample Entropy',\n",
       "        'Energy', nan, 'Empirical Mode Decomposition'],\n",
       "       ['Standard Deviation', 'Spectral Slope', 'Differential Caudality',\n",
       "        nan, 'Permutation Entropy', 'Average Power', nan,\n",
       "        'Hilbert Transform'],\n",
       "       ['Variance', 'Spectral Spread', 'Channel Asymmetries', nan,\n",
       "        'Renyi Entropy', 'Peak-To-Peak', nan,\n",
       "        'Filter Bank Tangent Spatial Classifier'],\n",
       "       ['Kurtosis', 'Spectral Flatness', 'Rational Asymmetry', nan,\n",
       "        'Multi-Scale Fuzzy Entropy', 'Crest Factor', nan, 'Xdawn'],\n",
       "       ['Skewness', 'Spectral Flux', 'Frontal Asymmetry Index', nan,\n",
       "        'Multi-Scale Permutation Entropy', 'Shape Factor', nan,\n",
       "        'Long-Short Term Memory'],\n",
       "       ['Coefficient of Variation', 'Spectral Entropy',\n",
       "        'Frontal Alpha Asymmetry Index', nan, nan, 'Pulse Index', nan,\n",
       "        nan],\n",
       "       ['Interquartile Range', 'Spectral Crest',\n",
       "        'Clustering Coefficient', nan, nan, 'RMS', nan, nan],\n",
       "       ['First Order Derivative', 'Spectral Kurtosis',\n",
       "        'Average Clustering Coefficient', nan, nan, 'Power Signal', nan,\n",
       "        nan],\n",
       "       ['Second Order Derivative', 'Spectral Rolloff Point',\n",
       "        'Node Degree', nan, nan, 'Mean Teager Energy', nan, nan],\n",
       "       ['Difference Absolute Standard Deviation Value',\n",
       "        'Spectral Skewness', 'Betweenness Centrality', nan, nan,\n",
       "        'Modified Mean Absolute Value', nan, nan],\n",
       "       ['Difference Variance Value', 'Fast Fourier Transform',\n",
       "        'Average Degree Centrality', nan, nan,\n",
       "        'Normalized First Difference', nan, nan],\n",
       "       ['Line Length', 'Discrete Fast Fourier Transform',\n",
       "        'Average Shortest Path Length', nan, nan,\n",
       "        'Normalized Second Difference', nan, nan],\n",
       "       ['Zero-Crossing Rate', 'Short-Time Fourier Transform',\n",
       "        'Modularity', nan, nan, 'Peak Counts', nan, nan],\n",
       "       ['Zero-Mean Crossing Rate', 'Welch', 'Transitivity', nan, nan,\n",
       "        'Slope Sign Change', nan, nan],\n",
       "       ['Hjorth Activity', 'Welch Power Spectrum', 'Assortativity', nan,\n",
       "        nan, 'Threshold Crossing', nan, nan],\n",
       "       ['Hjorth Complexity', nan, 'Optimal Community Structure', nan,\n",
       "        nan, 'Fractal Dimension', nan, nan],\n",
       "       ['Hjorth Mobility', nan, 'Common Spatial Patterns', nan, nan,\n",
       "        'Information Potential', nan, nan],\n",
       "       ['Hurts', nan, nan, nan, nan, nan, nan, nan],\n",
       "       ['Zero-Crossing Autocorrelation', nan, nan, nan, nan,\n",
       "        'Frobenius Norm', nan, nan],\n",
       "       ['Latency-Amplitude Ratio', nan, nan, nan, nan, 'Spectral Norm',\n",
       "        nan, nan],\n",
       "       ['Log Coefficient of Variation', nan, nan, nan, nan,\n",
       "        'Absolute Value Of Cube', nan, nan],\n",
       "       [nan, nan, nan, nan, nan, 'Absolute Value Of Square Root', nan,\n",
       "        nan]], dtype=object)"
      ]
     },
     "execution_count": 140,
     "metadata": {},
     "output_type": "execute_result"
    }
   ],
   "source": [
    "glossary.iloc[:, 7:].values"
   ]
  },
  {
   "cell_type": "code",
   "execution_count": 148,
   "metadata": {},
   "outputs": [
    {
     "data": {
      "text/plain": [
       "3"
      ]
     },
     "execution_count": 148,
     "metadata": {},
     "output_type": "execute_result"
    }
   ],
   "source": [
    "full_features.tolist().index('Approximate Entropy')"
   ]
  },
  {
   "cell_type": "code",
   "execution_count": 181,
   "metadata": {},
   "outputs": [
    {
     "name": "stdout",
     "output_type": "stream",
     "text": [
      "Values in DataFrame but not in NumPy array: {'Detrend fluctuation analysis', 'Coefficient of Variation', 'Raw EEG', nan, 'RMS', 'Log Coefficient of Variation'}\n",
      "Values in NumPy array but not in DataFrame: {'', 'Raw Eeg', 'Coefficient Of Variation', 'Detrend Fluctuation Analysis', 'Log Coefficient Of Variation', 'Rms'}\n"
     ]
    }
   ],
   "source": [
    "df_values_set = set(glossary.iloc[:,7:].values.flatten())\n",
    "np_array_set = set(full_features)\n",
    "\n",
    "in_df_not_in_np = df_values_set - np_array_set\n",
    "\n",
    "# Find values in NumPy array but not in DataFrame\n",
    "in_np_not_in_df = np_array_set - df_values_set\n",
    "\n",
    "# Display the results\n",
    "print(\"Values in DataFrame but not in NumPy array:\", in_df_not_in_np)\n",
    "print(\"Values in NumPy array but not in DataFrame:\", in_np_not_in_df)"
   ]
  },
  {
   "cell_type": "code",
   "execution_count": 166,
   "metadata": {},
   "outputs": [
    {
     "name": "stdout",
     "output_type": "stream",
     "text": [
      "False\n",
      "False\n",
      "True\n",
      "False\n",
      "False\n",
      "False\n",
      "False\n",
      "False\n",
      "False\n",
      "False\n",
      "False\n",
      "False\n",
      "False\n",
      "False\n",
      "False\n",
      "False\n",
      "False\n",
      "False\n",
      "False\n",
      "False\n",
      "False\n",
      "False\n",
      "False\n",
      "False\n",
      "False\n",
      "False\n",
      "False\n",
      "False\n",
      "False\n",
      "False\n",
      "False\n",
      "False\n",
      "False\n",
      "False\n",
      "False\n",
      "False\n",
      "False\n",
      "False\n",
      "False\n",
      "False\n",
      "False\n",
      "False\n",
      "False\n",
      "False\n",
      "False\n",
      "False\n",
      "False\n",
      "False\n",
      "False\n",
      "False\n",
      "False\n",
      "False\n",
      "False\n",
      "False\n",
      "False\n",
      "False\n",
      "False\n",
      "False\n",
      "False\n",
      "False\n",
      "False\n",
      "False\n",
      "False\n",
      "False\n",
      "False\n",
      "False\n",
      "False\n",
      "False\n",
      "False\n",
      "False\n",
      "False\n",
      "False\n",
      "False\n",
      "False\n",
      "False\n",
      "False\n",
      "False\n",
      "False\n",
      "False\n",
      "False\n",
      "False\n",
      "False\n",
      "False\n",
      "False\n",
      "False\n",
      "False\n",
      "False\n",
      "False\n",
      "False\n",
      "False\n",
      "False\n",
      "False\n",
      "False\n",
      "False\n",
      "False\n",
      "False\n",
      "False\n",
      "False\n",
      "False\n",
      "False\n",
      "False\n",
      "False\n",
      "False\n",
      "False\n",
      "False\n",
      "False\n",
      "False\n",
      "False\n",
      "False\n",
      "False\n",
      "False\n",
      "False\n",
      "False\n",
      "False\n",
      "False\n",
      "False\n",
      "False\n",
      "False\n",
      "False\n",
      "False\n",
      "False\n",
      "False\n",
      "False\n",
      "False\n",
      "False\n",
      "False\n",
      "False\n",
      "False\n",
      "False\n",
      "False\n",
      "False\n",
      "False\n",
      "False\n",
      "False\n",
      "False\n",
      "False\n",
      "False\n",
      "False\n",
      "False\n",
      "False\n"
     ]
    }
   ],
   "source": []
  },
  {
   "cell_type": "code",
   "execution_count": 169,
   "metadata": {},
   "outputs": [
    {
     "data": {
      "text/plain": [
       "'Approximate Entropy'"
      ]
     },
     "execution_count": 169,
     "metadata": {},
     "output_type": "execute_result"
    }
   ],
   "source": [
    "full_features[3]"
   ]
  },
  {
   "cell_type": "code",
   "execution_count": 170,
   "metadata": {},
   "outputs": [
    {
     "data": {
      "text/plain": [
       "'Approximate Entropy'"
      ]
     },
     "execution_count": 170,
     "metadata": {},
     "output_type": "execute_result"
    }
   ],
   "source": [
    "glossary.iloc[:,7:].values[0][0]"
   ]
  },
  {
   "cell_type": "code",
   "execution_count": 151,
   "metadata": {},
   "outputs": [
    {
     "data": {
      "text/plain": [
       "17"
      ]
     },
     "execution_count": 151,
     "metadata": {},
     "output_type": "execute_result"
    }
   ],
   "source": [
    "len(unique_ff)"
   ]
  }
 ],
 "metadata": {
  "kernelspec": {
   "display_name": "Python 3",
   "language": "python",
   "name": "python3"
  },
  "language_info": {
   "codemirror_mode": {
    "name": "ipython",
    "version": 3
   },
   "file_extension": ".py",
   "mimetype": "text/x-python",
   "name": "python",
   "nbconvert_exporter": "python",
   "pygments_lexer": "ipython3",
   "version": "3.11.1"
  }
 },
 "nbformat": 4,
 "nbformat_minor": 2
}
